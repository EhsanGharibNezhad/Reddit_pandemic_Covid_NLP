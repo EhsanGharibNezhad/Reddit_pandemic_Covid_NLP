{
 "cells": [
  {
   "cell_type": "markdown",
   "id": "80eef07c",
   "metadata": {},
   "source": [
    "# Text Processing: PandemicPreps\n",
    "### Author: Ehsan Gharib-Nezhad\n"
   ]
  },
  {
   "cell_type": "markdown",
   "id": "64439d7c",
   "metadata": {},
   "source": [
    "<!-- Let's review some of the pre-processing steps for text data:\n",
    "\n",
    "- Remove special characters\n",
    "- Tokenizing\n",
    "- Lemmatizing/Stemming\n",
    "- Stop word removal\n",
    "\n",
    "`CountVectorizer` actually can do a lot of this for us! It is important to keep these steps in mind in case you want to change the default methods used for each of these. -->"
   ]
  },
  {
   "cell_type": "code",
   "execution_count": 1,
   "id": "0a07c19a",
   "metadata": {},
   "outputs": [],
   "source": [
    "import sys  \n",
    "sys.path.insert(0, '../codes/')\n",
    "\n",
    "from mycode import *\n",
    "\n",
    "# Load Libraries\n",
    "from myfunctions import *\n"
   ]
  },
  {
   "cell_type": "code",
   "execution_count": 2,
   "id": "ea75fcb8",
   "metadata": {},
   "outputs": [],
   "source": [
    "# Load datasets\n",
    "df = pd.read_csv('../datasets/preprocessed_df_PandemicPreps_reddit_LAST.csv',index_col=0)"
   ]
  },
  {
   "cell_type": "code",
   "execution_count": 3,
   "id": "b558f616",
   "metadata": {},
   "outputs": [
    {
     "data": {
      "text/html": [
       "<div>\n",
       "<style scoped>\n",
       "    .dataframe tbody tr th:only-of-type {\n",
       "        vertical-align: middle;\n",
       "    }\n",
       "\n",
       "    .dataframe tbody tr th {\n",
       "        vertical-align: top;\n",
       "    }\n",
       "\n",
       "    .dataframe thead th {\n",
       "        text-align: right;\n",
       "    }\n",
       "</style>\n",
       "<table border=\"1\" class=\"dataframe\">\n",
       "  <thead>\n",
       "    <tr style=\"text-align: right;\">\n",
       "      <th></th>\n",
       "      <th>title</th>\n",
       "      <th>selftext</th>\n",
       "      <th>subreddit</th>\n",
       "      <th>created_utc</th>\n",
       "      <th>author</th>\n",
       "      <th>num_comments</th>\n",
       "      <th>score</th>\n",
       "      <th>is_self</th>\n",
       "      <th>timestamp</th>\n",
       "    </tr>\n",
       "  </thead>\n",
       "  <tbody>\n",
       "    <tr>\n",
       "      <th>0</th>\n",
       "      <td>It's going fast in TN</td>\n",
       "      <td>Anyone in this group should know to buy now if you haven't, but for the sake of reinforcement - buy now if you haven't!  I took my under 10 aged child to Walmart today and picked up some more to add, and it is a night and day difference from 3 days ago.  Toilet paper gone.  Paper towels gone.  Lysol, down to 4 bottles.  Hand sanitizer and alcohol, gone.  Bleach was available but only a few rem...</td>\n",
       "      <td>PandemicPreps</td>\n",
       "      <td>1583021338</td>\n",
       "      <td>BeautifulBalance1</td>\n",
       "      <td>18</td>\n",
       "      <td>1</td>\n",
       "      <td>True</td>\n",
       "      <td>2020-02-29 16:08:58</td>\n",
       "    </tr>\n",
       "    <tr>\n",
       "      <th>1</th>\n",
       "      <td>Don’t forget about your pets!</td>\n",
       "      <td>Amazon is running low on cat and dog food, my normals are sold out. I feel bad for the delivery guy dropping my shit off, almost 300lbs of food and liter.</td>\n",
       "      <td>PandemicPreps</td>\n",
       "      <td>1583021470</td>\n",
       "      <td>JKMSDE</td>\n",
       "      <td>12</td>\n",
       "      <td>1</td>\n",
       "      <td>True</td>\n",
       "      <td>2020-02-29 16:11:10</td>\n",
       "    </tr>\n",
       "    <tr>\n",
       "      <th>2</th>\n",
       "      <td>DIY Hand Sanitizer</td>\n",
       "      <td>Because you just can't find it in stores any more...\\n\\n [http://www.utahpreppers.com/2009/04/pandemic-preparedness-diy-sanitization/](http://www.utahpreppers.com/2009/04/pandemic-preparedness-diy-sanitization/) \\n\\n* 5 c 91% isopropyl alcohol\\n* 2 c aloe vera gel\\n\\nHere's another receipt with essential oils\\n\\n [https://www.asiaone.com/lifestyle/make-your-own-diy-hand-sanitizer](https://www....</td>\n",
       "      <td>PandemicPreps</td>\n",
       "      <td>1583022495</td>\n",
       "      <td>AccidentalDragon</td>\n",
       "      <td>44</td>\n",
       "      <td>1</td>\n",
       "      <td>True</td>\n",
       "      <td>2020-02-29 16:28:15</td>\n",
       "    </tr>\n",
       "    <tr>\n",
       "      <th>3</th>\n",
       "      <td>Anyone notice anything in the Denver / Boulder area? I see no concern and it concerns me!</td>\n",
       "      <td>What the hell is going on. Anyone around this area notice anything?</td>\n",
       "      <td>PandemicPreps</td>\n",
       "      <td>1583023089</td>\n",
       "      <td>Wizard_Knife_Fight</td>\n",
       "      <td>12</td>\n",
       "      <td>1</td>\n",
       "      <td>True</td>\n",
       "      <td>2020-02-29 16:38:09</td>\n",
       "    </tr>\n",
       "    <tr>\n",
       "      <th>4</th>\n",
       "      <td>PSA: don’t only buy a bunch of random foods, know how to cook it and get the proper nutrition.</td>\n",
       "      <td>I see a lot of people on here buying around the same types of stuff (canned beans, rice, etc). Just remember to know how to cook each item you buy and which combination of foods will have the right nutrients for example: you can’t live off of only eating meat products. Have a good balance of foods and learn the nutrients balance. Vitamin supplements are very important because fresh produce can...</td>\n",
       "      <td>PandemicPreps</td>\n",
       "      <td>1583025573</td>\n",
       "      <td>cutting-alumination</td>\n",
       "      <td>56</td>\n",
       "      <td>1</td>\n",
       "      <td>True</td>\n",
       "      <td>2020-02-29 17:19:33</td>\n",
       "    </tr>\n",
       "  </tbody>\n",
       "</table>\n",
       "</div>"
      ],
      "text/plain": [
       "                                                                                            title  \\\n",
       "0                                                                           It's going fast in TN   \n",
       "1                                                                   Don’t forget about your pets!   \n",
       "2                                                                              DIY Hand Sanitizer   \n",
       "3       Anyone notice anything in the Denver / Boulder area? I see no concern and it concerns me!   \n",
       "4  PSA: don’t only buy a bunch of random foods, know how to cook it and get the proper nutrition.   \n",
       "\n",
       "                                                                                                                                                                                                                                                                                                                                                                                                          selftext  \\\n",
       "0  Anyone in this group should know to buy now if you haven't, but for the sake of reinforcement - buy now if you haven't!  I took my under 10 aged child to Walmart today and picked up some more to add, and it is a night and day difference from 3 days ago.  Toilet paper gone.  Paper towels gone.  Lysol, down to 4 bottles.  Hand sanitizer and alcohol, gone.  Bleach was available but only a few rem...   \n",
       "1                                                                                                                                                                                                                                                       Amazon is running low on cat and dog food, my normals are sold out. I feel bad for the delivery guy dropping my shit off, almost 300lbs of food and liter.   \n",
       "2  Because you just can't find it in stores any more...\\n\\n [http://www.utahpreppers.com/2009/04/pandemic-preparedness-diy-sanitization/](http://www.utahpreppers.com/2009/04/pandemic-preparedness-diy-sanitization/) \\n\\n* 5 c 91% isopropyl alcohol\\n* 2 c aloe vera gel\\n\\nHere's another receipt with essential oils\\n\\n [https://www.asiaone.com/lifestyle/make-your-own-diy-hand-sanitizer](https://www....   \n",
       "3                                                                                                                                                                                                                                                                                                                                              What the hell is going on. Anyone around this area notice anything?   \n",
       "4  I see a lot of people on here buying around the same types of stuff (canned beans, rice, etc). Just remember to know how to cook each item you buy and which combination of foods will have the right nutrients for example: you can’t live off of only eating meat products. Have a good balance of foods and learn the nutrients balance. Vitamin supplements are very important because fresh produce can...   \n",
       "\n",
       "       subreddit  created_utc               author  num_comments  score  \\\n",
       "0  PandemicPreps   1583021338    BeautifulBalance1            18      1   \n",
       "1  PandemicPreps   1583021470               JKMSDE            12      1   \n",
       "2  PandemicPreps   1583022495     AccidentalDragon            44      1   \n",
       "3  PandemicPreps   1583023089   Wizard_Knife_Fight            12      1   \n",
       "4  PandemicPreps   1583025573  cutting-alumination            56      1   \n",
       "\n",
       "   is_self            timestamp  \n",
       "0     True  2020-02-29 16:08:58  \n",
       "1     True  2020-02-29 16:11:10  \n",
       "2     True  2020-02-29 16:28:15  \n",
       "3     True  2020-02-29 16:38:09  \n",
       "4     True  2020-02-29 17:19:33  "
      ]
     },
     "execution_count": 3,
     "metadata": {},
     "output_type": "execute_result"
    }
   ],
   "source": [
    "df.head()"
   ]
  },
  {
   "cell_type": "markdown",
   "id": "d6fc2aeb",
   "metadata": {},
   "source": [
    "### Data shape"
   ]
  },
  {
   "cell_type": "code",
   "execution_count": 4,
   "id": "6d5728a6",
   "metadata": {},
   "outputs": [
    {
     "data": {
      "text/plain": [
       "(2362, 9)"
      ]
     },
     "execution_count": 4,
     "metadata": {},
     "output_type": "execute_result"
    }
   ],
   "source": [
    "df.shape"
   ]
  },
  {
   "cell_type": "markdown",
   "id": "3368b015-3faa-4b2c-8f33-4369a92d5bbf",
   "metadata": {},
   "source": [
    "### Histogram distribusion of number of words per post"
   ]
  },
  {
   "cell_type": "code",
   "execution_count": 5,
   "id": "c1eb905e-9b57-49ce-8422-78d3b9f18d54",
   "metadata": {},
   "outputs": [
    {
     "data": {
      "image/png": "[encoded data removed]",
      "text/plain": [
       "<Figure size 640x480 with 1 Axes>"
      ]
     },
     "metadata": {},
     "output_type": "display_data"
    }
   ],
   "source": [
    "df['selftext'].str.len().plot(kind='hist', \n",
    "                              bins=30, \n",
    "                              logy=True,\n",
    "                              title= 'Distribution of word numbers Vs. post');                 "
   ]
  },
  {
   "cell_type": "markdown",
   "id": "b9b12e0d-f502-455c-88c5-5db36fa667b1",
   "metadata": {},
   "source": [
    "### Number of total words"
   ]
  },
  {
   "cell_type": "code",
   "execution_count": 6,
   "id": "cd8e4d79",
   "metadata": {},
   "outputs": [
    {
     "data": {
      "text/plain": [
       "1742830"
      ]
     },
     "execution_count": 6,
     "metadata": {},
     "output_type": "execute_result"
    }
   ],
   "source": [
    "df['selftext'].str.len().sum()"
   ]
  },
  {
   "cell_type": "markdown",
   "id": "f329171d",
   "metadata": {},
   "source": [
    "### Drop rows with selftext equal '[removed]'\n",
    "Posts with null texts has the '[removed]' keyword. we make sure to not having them in our models and delete them in this step "
   ]
  },
  {
   "cell_type": "code",
   "execution_count": 7,
   "id": "7441be00",
   "metadata": {},
   "outputs": [
    {
     "name": "stdout",
     "output_type": "stream",
     "text": [
      "percentage of rows with '[removed]' word:       0.0%\n"
     ]
    }
   ],
   "source": [
    "# percentage of rows with \"[removed]\" word\n",
    "print(f\"percentage of rows with '[removed]' word: \\\n",
    "      {np.round(len(df[df['selftext']=='[removed]'])*100/len(df),2)}%\")"
   ]
  },
  {
   "cell_type": "code",
   "execution_count": 8,
   "id": "4c507612",
   "metadata": {},
   "outputs": [],
   "source": [
    "# remove all rows with selftext = \"[removed]\"\n",
    "df.drop(index=df[df['selftext']=='[removed]'].index, inplace=True)"
   ]
  },
  {
   "cell_type": "code",
   "execution_count": 9,
   "id": "06109be2",
   "metadata": {},
   "outputs": [],
   "source": [
    "df.reset_index(drop=True, inplace=True)"
   ]
  },
  {
   "cell_type": "code",
   "execution_count": 10,
   "id": "6c2b4bfd",
   "metadata": {},
   "outputs": [
    {
     "data": {
      "text/html": [
       "<div>\n",
       "<style scoped>\n",
       "    .dataframe tbody tr th:only-of-type {\n",
       "        vertical-align: middle;\n",
       "    }\n",
       "\n",
       "    .dataframe tbody tr th {\n",
       "        vertical-align: top;\n",
       "    }\n",
       "\n",
       "    .dataframe thead th {\n",
       "        text-align: right;\n",
       "    }\n",
       "</style>\n",
       "<table border=\"1\" class=\"dataframe\">\n",
       "  <thead>\n",
       "    <tr style=\"text-align: right;\">\n",
       "      <th></th>\n",
       "      <th>title</th>\n",
       "      <th>selftext</th>\n",
       "      <th>subreddit</th>\n",
       "      <th>created_utc</th>\n",
       "      <th>author</th>\n",
       "      <th>num_comments</th>\n",
       "      <th>score</th>\n",
       "      <th>is_self</th>\n",
       "      <th>timestamp</th>\n",
       "    </tr>\n",
       "  </thead>\n",
       "  <tbody>\n",
       "    <tr>\n",
       "      <th>0</th>\n",
       "      <td>It's going fast in TN</td>\n",
       "      <td>Anyone in this group should know to buy now if you haven't, but for the sake of reinforcement - buy now if you haven't!  I took my under 10 aged child to Walmart today and picked up some more to add, and it is a night and day difference from 3 days ago.  Toilet paper gone.  Paper towels gone.  Lysol, down to 4 bottles.  Hand sanitizer and alcohol, gone.  Bleach was available but only a few rem...</td>\n",
       "      <td>PandemicPreps</td>\n",
       "      <td>1583021338</td>\n",
       "      <td>BeautifulBalance1</td>\n",
       "      <td>18</td>\n",
       "      <td>1</td>\n",
       "      <td>True</td>\n",
       "      <td>2020-02-29 16:08:58</td>\n",
       "    </tr>\n",
       "    <tr>\n",
       "      <th>1</th>\n",
       "      <td>Don’t forget about your pets!</td>\n",
       "      <td>Amazon is running low on cat and dog food, my normals are sold out. I feel bad for the delivery guy dropping my shit off, almost 300lbs of food and liter.</td>\n",
       "      <td>PandemicPreps</td>\n",
       "      <td>1583021470</td>\n",
       "      <td>JKMSDE</td>\n",
       "      <td>12</td>\n",
       "      <td>1</td>\n",
       "      <td>True</td>\n",
       "      <td>2020-02-29 16:11:10</td>\n",
       "    </tr>\n",
       "    <tr>\n",
       "      <th>2</th>\n",
       "      <td>DIY Hand Sanitizer</td>\n",
       "      <td>Because you just can't find it in stores any more...\\n\\n [http://www.utahpreppers.com/2009/04/pandemic-preparedness-diy-sanitization/](http://www.utahpreppers.com/2009/04/pandemic-preparedness-diy-sanitization/) \\n\\n* 5 c 91% isopropyl alcohol\\n* 2 c aloe vera gel\\n\\nHere's another receipt with essential oils\\n\\n [https://www.asiaone.com/lifestyle/make-your-own-diy-hand-sanitizer](https://www....</td>\n",
       "      <td>PandemicPreps</td>\n",
       "      <td>1583022495</td>\n",
       "      <td>AccidentalDragon</td>\n",
       "      <td>44</td>\n",
       "      <td>1</td>\n",
       "      <td>True</td>\n",
       "      <td>2020-02-29 16:28:15</td>\n",
       "    </tr>\n",
       "    <tr>\n",
       "      <th>3</th>\n",
       "      <td>Anyone notice anything in the Denver / Boulder area? I see no concern and it concerns me!</td>\n",
       "      <td>What the hell is going on. Anyone around this area notice anything?</td>\n",
       "      <td>PandemicPreps</td>\n",
       "      <td>1583023089</td>\n",
       "      <td>Wizard_Knife_Fight</td>\n",
       "      <td>12</td>\n",
       "      <td>1</td>\n",
       "      <td>True</td>\n",
       "      <td>2020-02-29 16:38:09</td>\n",
       "    </tr>\n",
       "    <tr>\n",
       "      <th>4</th>\n",
       "      <td>PSA: don’t only buy a bunch of random foods, know how to cook it and get the proper nutrition.</td>\n",
       "      <td>I see a lot of people on here buying around the same types of stuff (canned beans, rice, etc). Just remember to know how to cook each item you buy and which combination of foods will have the right nutrients for example: you can’t live off of only eating meat products. Have a good balance of foods and learn the nutrients balance. Vitamin supplements are very important because fresh produce can...</td>\n",
       "      <td>PandemicPreps</td>\n",
       "      <td>1583025573</td>\n",
       "      <td>cutting-alumination</td>\n",
       "      <td>56</td>\n",
       "      <td>1</td>\n",
       "      <td>True</td>\n",
       "      <td>2020-02-29 17:19:33</td>\n",
       "    </tr>\n",
       "  </tbody>\n",
       "</table>\n",
       "</div>"
      ],
      "text/plain": [
       "                                                                                            title  \\\n",
       "0                                                                           It's going fast in TN   \n",
       "1                                                                   Don’t forget about your pets!   \n",
       "2                                                                              DIY Hand Sanitizer   \n",
       "3       Anyone notice anything in the Denver / Boulder area? I see no concern and it concerns me!   \n",
       "4  PSA: don’t only buy a bunch of random foods, know how to cook it and get the proper nutrition.   \n",
       "\n",
       "                                                                                                                                                                                                                                                                                                                                                                                                          selftext  \\\n",
       "0  Anyone in this group should know to buy now if you haven't, but for the sake of reinforcement - buy now if you haven't!  I took my under 10 aged child to Walmart today and picked up some more to add, and it is a night and day difference from 3 days ago.  Toilet paper gone.  Paper towels gone.  Lysol, down to 4 bottles.  Hand sanitizer and alcohol, gone.  Bleach was available but only a few rem...   \n",
       "1                                                                                                                                                                                                                                                       Amazon is running low on cat and dog food, my normals are sold out. I feel bad for the delivery guy dropping my shit off, almost 300lbs of food and liter.   \n",
       "2  Because you just can't find it in stores any more...\\n\\n [http://www.utahpreppers.com/2009/04/pandemic-preparedness-diy-sanitization/](http://www.utahpreppers.com/2009/04/pandemic-preparedness-diy-sanitization/) \\n\\n* 5 c 91% isopropyl alcohol\\n* 2 c aloe vera gel\\n\\nHere's another receipt with essential oils\\n\\n [https://www.asiaone.com/lifestyle/make-your-own-diy-hand-sanitizer](https://www....   \n",
       "3                                                                                                                                                                                                                                                                                                                                              What the hell is going on. Anyone around this area notice anything?   \n",
       "4  I see a lot of people on here buying around the same types of stuff (canned beans, rice, etc). Just remember to know how to cook each item you buy and which combination of foods will have the right nutrients for example: you can’t live off of only eating meat products. Have a good balance of foods and learn the nutrients balance. Vitamin supplements are very important because fresh produce can...   \n",
       "\n",
       "       subreddit  created_utc               author  num_comments  score  \\\n",
       "0  PandemicPreps   1583021338    BeautifulBalance1            18      1   \n",
       "1  PandemicPreps   1583021470               JKMSDE            12      1   \n",
       "2  PandemicPreps   1583022495     AccidentalDragon            44      1   \n",
       "3  PandemicPreps   1583023089   Wizard_Knife_Fight            12      1   \n",
       "4  PandemicPreps   1583025573  cutting-alumination            56      1   \n",
       "\n",
       "   is_self            timestamp  \n",
       "0     True  2020-02-29 16:08:58  \n",
       "1     True  2020-02-29 16:11:10  \n",
       "2     True  2020-02-29 16:28:15  \n",
       "3     True  2020-02-29 16:38:09  \n",
       "4     True  2020-02-29 17:19:33  "
      ]
     },
     "execution_count": 10,
     "metadata": {},
     "output_type": "execute_result"
    }
   ],
   "source": [
    "df.head()"
   ]
  },
  {
   "cell_type": "markdown",
   "id": "0d244682",
   "metadata": {},
   "source": [
    "### Drop rows with nan in the selftext"
   ]
  },
  {
   "cell_type": "code",
   "execution_count": 11,
   "id": "78bdad01",
   "metadata": {},
   "outputs": [
    {
     "data": {
      "text/plain": [
       "title           0.0\n",
       "selftext        0.0\n",
       "subreddit       0.0\n",
       "created_utc     0.0\n",
       "author          0.0\n",
       "num_comments    0.0\n",
       "score           0.0\n",
       "is_self         0.0\n",
       "timestamp       0.0\n",
       "dtype: float64"
      ]
     },
     "execution_count": 11,
     "metadata": {},
     "output_type": "execute_result"
    }
   ],
   "source": [
    "# null percentage\n",
    "df.isnull().sum()*100/len(df)"
   ]
  },
  {
   "cell_type": "code",
   "execution_count": 12,
   "id": "24139096",
   "metadata": {},
   "outputs": [],
   "source": [
    "#drop all rows with nulls\n",
    "df.dropna(inplace=True)"
   ]
  },
  {
   "cell_type": "code",
   "execution_count": 13,
   "id": "ceb23b8f",
   "metadata": {},
   "outputs": [],
   "source": [
    "# resetting the index\n",
    "df.reset_index(inplace=True, drop = True)"
   ]
  },
  {
   "cell_type": "code",
   "execution_count": 14,
   "id": "40518dd6",
   "metadata": {
    "scrolled": true
   },
   "outputs": [
    {
     "data": {
      "text/plain": [
       "title           0\n",
       "selftext        0\n",
       "subreddit       0\n",
       "created_utc     0\n",
       "author          0\n",
       "num_comments    0\n",
       "score           0\n",
       "is_self         0\n",
       "timestamp       0\n",
       "dtype: int64"
      ]
     },
     "execution_count": 14,
     "metadata": {},
     "output_type": "execute_result"
    }
   ],
   "source": [
    "# check for any remained nulls ?!\n",
    "df.isna().sum()"
   ]
  },
  {
   "cell_type": "code",
   "execution_count": 15,
   "id": "6034442f",
   "metadata": {},
   "outputs": [
    {
     "data": {
      "text/html": [
       "<div>\n",
       "<style scoped>\n",
       "    .dataframe tbody tr th:only-of-type {\n",
       "        vertical-align: middle;\n",
       "    }\n",
       "\n",
       "    .dataframe tbody tr th {\n",
       "        vertical-align: top;\n",
       "    }\n",
       "\n",
       "    .dataframe thead th {\n",
       "        text-align: right;\n",
       "    }\n",
       "</style>\n",
       "<table border=\"1\" class=\"dataframe\">\n",
       "  <thead>\n",
       "    <tr style=\"text-align: right;\">\n",
       "      <th></th>\n",
       "      <th>title</th>\n",
       "      <th>selftext</th>\n",
       "      <th>subreddit</th>\n",
       "      <th>created_utc</th>\n",
       "      <th>author</th>\n",
       "      <th>num_comments</th>\n",
       "      <th>score</th>\n",
       "      <th>is_self</th>\n",
       "      <th>timestamp</th>\n",
       "    </tr>\n",
       "  </thead>\n",
       "  <tbody>\n",
       "    <tr>\n",
       "      <th>0</th>\n",
       "      <td>It's going fast in TN</td>\n",
       "      <td>Anyone in this group should know to buy now if you haven't, but for the sake of reinforcement - buy now if you haven't!  I took my under 10 aged child to Walmart today and picked up some more to add, and it is a night and day difference from 3 days ago.  Toilet paper gone.  Paper towels gone.  Lysol, down to 4 bottles.  Hand sanitizer and alcohol, gone.  Bleach was available but only a few rem...</td>\n",
       "      <td>PandemicPreps</td>\n",
       "      <td>1583021338</td>\n",
       "      <td>BeautifulBalance1</td>\n",
       "      <td>18</td>\n",
       "      <td>1</td>\n",
       "      <td>True</td>\n",
       "      <td>2020-02-29 16:08:58</td>\n",
       "    </tr>\n",
       "    <tr>\n",
       "      <th>1</th>\n",
       "      <td>Don’t forget about your pets!</td>\n",
       "      <td>Amazon is running low on cat and dog food, my normals are sold out. I feel bad for the delivery guy dropping my shit off, almost 300lbs of food and liter.</td>\n",
       "      <td>PandemicPreps</td>\n",
       "      <td>1583021470</td>\n",
       "      <td>JKMSDE</td>\n",
       "      <td>12</td>\n",
       "      <td>1</td>\n",
       "      <td>True</td>\n",
       "      <td>2020-02-29 16:11:10</td>\n",
       "    </tr>\n",
       "    <tr>\n",
       "      <th>2</th>\n",
       "      <td>DIY Hand Sanitizer</td>\n",
       "      <td>Because you just can't find it in stores any more...\\n\\n [http://www.utahpreppers.com/2009/04/pandemic-preparedness-diy-sanitization/](http://www.utahpreppers.com/2009/04/pandemic-preparedness-diy-sanitization/) \\n\\n* 5 c 91% isopropyl alcohol\\n* 2 c aloe vera gel\\n\\nHere's another receipt with essential oils\\n\\n [https://www.asiaone.com/lifestyle/make-your-own-diy-hand-sanitizer](https://www....</td>\n",
       "      <td>PandemicPreps</td>\n",
       "      <td>1583022495</td>\n",
       "      <td>AccidentalDragon</td>\n",
       "      <td>44</td>\n",
       "      <td>1</td>\n",
       "      <td>True</td>\n",
       "      <td>2020-02-29 16:28:15</td>\n",
       "    </tr>\n",
       "    <tr>\n",
       "      <th>3</th>\n",
       "      <td>Anyone notice anything in the Denver / Boulder area? I see no concern and it concerns me!</td>\n",
       "      <td>What the hell is going on. Anyone around this area notice anything?</td>\n",
       "      <td>PandemicPreps</td>\n",
       "      <td>1583023089</td>\n",
       "      <td>Wizard_Knife_Fight</td>\n",
       "      <td>12</td>\n",
       "      <td>1</td>\n",
       "      <td>True</td>\n",
       "      <td>2020-02-29 16:38:09</td>\n",
       "    </tr>\n",
       "    <tr>\n",
       "      <th>4</th>\n",
       "      <td>PSA: don’t only buy a bunch of random foods, know how to cook it and get the proper nutrition.</td>\n",
       "      <td>I see a lot of people on here buying around the same types of stuff (canned beans, rice, etc). Just remember to know how to cook each item you buy and which combination of foods will have the right nutrients for example: you can’t live off of only eating meat products. Have a good balance of foods and learn the nutrients balance. Vitamin supplements are very important because fresh produce can...</td>\n",
       "      <td>PandemicPreps</td>\n",
       "      <td>1583025573</td>\n",
       "      <td>cutting-alumination</td>\n",
       "      <td>56</td>\n",
       "      <td>1</td>\n",
       "      <td>True</td>\n",
       "      <td>2020-02-29 17:19:33</td>\n",
       "    </tr>\n",
       "  </tbody>\n",
       "</table>\n",
       "</div>"
      ],
      "text/plain": [
       "                                                                                            title  \\\n",
       "0                                                                           It's going fast in TN   \n",
       "1                                                                   Don’t forget about your pets!   \n",
       "2                                                                              DIY Hand Sanitizer   \n",
       "3       Anyone notice anything in the Denver / Boulder area? I see no concern and it concerns me!   \n",
       "4  PSA: don’t only buy a bunch of random foods, know how to cook it and get the proper nutrition.   \n",
       "\n",
       "                                                                                                                                                                                                                                                                                                                                                                                                          selftext  \\\n",
       "0  Anyone in this group should know to buy now if you haven't, but for the sake of reinforcement - buy now if you haven't!  I took my under 10 aged child to Walmart today and picked up some more to add, and it is a night and day difference from 3 days ago.  Toilet paper gone.  Paper towels gone.  Lysol, down to 4 bottles.  Hand sanitizer and alcohol, gone.  Bleach was available but only a few rem...   \n",
       "1                                                                                                                                                                                                                                                       Amazon is running low on cat and dog food, my normals are sold out. I feel bad for the delivery guy dropping my shit off, almost 300lbs of food and liter.   \n",
       "2  Because you just can't find it in stores any more...\\n\\n [http://www.utahpreppers.com/2009/04/pandemic-preparedness-diy-sanitization/](http://www.utahpreppers.com/2009/04/pandemic-preparedness-diy-sanitization/) \\n\\n* 5 c 91% isopropyl alcohol\\n* 2 c aloe vera gel\\n\\nHere's another receipt with essential oils\\n\\n [https://www.asiaone.com/lifestyle/make-your-own-diy-hand-sanitizer](https://www....   \n",
       "3                                                                                                                                                                                                                                                                                                                                              What the hell is going on. Anyone around this area notice anything?   \n",
       "4  I see a lot of people on here buying around the same types of stuff (canned beans, rice, etc). Just remember to know how to cook each item you buy and which combination of foods will have the right nutrients for example: you can’t live off of only eating meat products. Have a good balance of foods and learn the nutrients balance. Vitamin supplements are very important because fresh produce can...   \n",
       "\n",
       "       subreddit  created_utc               author  num_comments  score  \\\n",
       "0  PandemicPreps   1583021338    BeautifulBalance1            18      1   \n",
       "1  PandemicPreps   1583021470               JKMSDE            12      1   \n",
       "2  PandemicPreps   1583022495     AccidentalDragon            44      1   \n",
       "3  PandemicPreps   1583023089   Wizard_Knife_Fight            12      1   \n",
       "4  PandemicPreps   1583025573  cutting-alumination            56      1   \n",
       "\n",
       "   is_self            timestamp  \n",
       "0     True  2020-02-29 16:08:58  \n",
       "1     True  2020-02-29 16:11:10  \n",
       "2     True  2020-02-29 16:28:15  \n",
       "3     True  2020-02-29 16:38:09  \n",
       "4     True  2020-02-29 17:19:33  "
      ]
     },
     "execution_count": 15,
     "metadata": {},
     "output_type": "execute_result"
    }
   ],
   "source": [
    "df.head()"
   ]
  },
  {
   "cell_type": "markdown",
   "id": "4945e718-ca65-45e4-8e30-b75fa236aeab",
   "metadata": {},
   "source": [
    "# - - - - - - - - - - - - - - - - - - - - - - - - - - - - - - - - - - - - - - - - - - - - - - - - - - - - - - - - -\n",
    "# Instentiate the text processing class"
   ]
  },
  {
   "cell_type": "code",
   "execution_count": 16,
   "id": "52a39cde-45da-4f94-96e1-029341d74dd8",
   "metadata": {},
   "outputs": [],
   "source": [
    "text_proc = text_processing(df.selftext, df.title)"
   ]
  },
  {
   "cell_type": "markdown",
   "id": "f8400d09",
   "metadata": {},
   "source": [
    "### Lower Casing"
   ]
  },
  {
   "cell_type": "code",
   "execution_count": 17,
   "id": "e07aa220-e1a3-40e5-b787-c5938ab14984",
   "metadata": {},
   "outputs": [],
   "source": [
    "text_proc.lower_casting(df.selftext)"
   ]
  },
  {
   "cell_type": "code",
   "execution_count": 18,
   "id": "b259a398-9736-4452-8b85-cd822df85551",
   "metadata": {},
   "outputs": [
    {
     "data": {
      "text/plain": [
       "0    anyone in this group should know to buy now if you haven't, but for the sake of reinforcement - buy now if you haven't!  i took my under 10 aged child to walmart today and picked up some more to add, and it is a night and day difference from 3 days ago.  toilet paper gone.  paper towels gone.  lysol, down to 4 bottles.  hand sanitizer and alcohol, gone.  bleach was available but only a few rem...\n",
       "1                                                                                                                                                                                                                                                         amazon is running low on cat and dog food, my normals are sold out. i feel bad for the delivery guy dropping my shit off, almost 300lbs of food and liter.\n",
       "2    because you just can't find it in stores any more...\\n\\n [http://www.utahpreppers.com/2009/04/pandemic-preparedness-diy-sanitization/](http://www.utahpreppers.com/2009/04/pandemic-preparedness-diy-sanitization/) \\n\\n* 5 c 91% isopropyl alcohol\\n* 2 c aloe vera gel\\n\\nhere's another receipt with essential oils\\n\\n [https://www.asiaone.com/lifestyle/make-your-own-diy-hand-sanitizer](https://www....\n",
       "Name: selftext, dtype: object"
      ]
     },
     "execution_count": 18,
     "metadata": {},
     "output_type": "execute_result"
    }
   ],
   "source": [
    "text_proc.lower_casting[:3]"
   ]
  },
  {
   "cell_type": "markdown",
   "id": "8972906a",
   "metadata": {},
   "source": [
    "### Remove URL's / Website address"
   ]
  },
  {
   "cell_type": "code",
   "execution_count": 19,
   "id": "46b7b1da-843b-47ba-b43a-78a3ad3e573d",
   "metadata": {},
   "outputs": [],
   "source": [
    "text_proc.remove_urls(df.selftext)"
   ]
  },
  {
   "cell_type": "code",
   "execution_count": 20,
   "id": "f9fb4da9-ecaf-4db3-b5cd-d832a30148d2",
   "metadata": {},
   "outputs": [
    {
     "data": {
      "text/plain": [
       "0    Anyone in this group should know to buy now if you haven't, but for the sake of reinforcement - buy now if you haven't!  I took my under 10 aged child to Walmart today and picked up some more to add, and it is a night and day difference from 3 days ago.  Toilet paper gone.  Paper towels gone.  Lysol, down to 4 bottles.  Hand sanitizer and alcohol, gone.  Bleach was available but only a few rem...\n",
       "1                                                                                                                                                                                                                                                         Amazon is running low on cat and dog food, my normals are sold out. I feel bad for the delivery guy dropping my shit off, almost 300lbs of food and liter.\n",
       "2    Because you just can't find it in stores any more...\\n\\n [ \\n\\n* 5 c 91% isopropyl alcohol\\n* 2 c aloe vera gel\\n\\nHere's another receipt with essential oils\\n\\n [  \\n\\n* 1 tablespoon rubbing alcohol OR 2 tablespoons vodka\\n* 10 drops tea tree essential oil\\n* 10 drops lavender essential oil\\n* 1/4 cup aloe vera gel\\n* 1/2 teaspoon vitamin E oil (optional)\\n* A small bottle\\n\\nNow if I could j...\n",
       "Name: selftext, dtype: object"
      ]
     },
     "execution_count": 20,
     "metadata": {},
     "output_type": "execute_result"
    }
   ],
   "source": [
    "text_proc.remove_urls[:3]"
   ]
  },
  {
   "cell_type": "markdown",
   "id": "33411688",
   "metadata": {},
   "source": [
    "### Removing special characters"
   ]
  },
  {
   "cell_type": "code",
   "execution_count": 21,
   "id": "7cb95223-13ad-41e6-aac5-bcd50a00e7f1",
   "metadata": {},
   "outputs": [],
   "source": [
    "text_proc.remove_special_chars(text_proc.remove_urls)"
   ]
  },
  {
   "cell_type": "code",
   "execution_count": 22,
   "id": "ced7abb9-0b56-42f1-8d42-232ee9ac2269",
   "metadata": {},
   "outputs": [
    {
     "data": {
      "text/plain": [
       "0    Anyone in this group should know to buy now if you haven t  but for the sake of reinforcement   buy now if you haven t  I took my under    aged child to Walmart today and picked up some more to add  and it is a night and day difference from   days ago   Toilet paper gone   Paper towels gone   Lysol  down to   bottles   Hand sanitizer and alcohol  gone   Bleach was available but only a few rema...\n",
       "1                                                                                                                                                                                                                                                         Amazon is running low on cat and dog food  my normals are sold out  I feel bad for the delivery guy dropping my shit off  almost    lbs of food and liter \n",
       "2                         Because you just can t find it in stores any more         c     isopropyl alcohol   c aloe vera gel another receipt with essential oils       tablespoon rubbing alcohol OR   tablespoons vodka    drops tea tree essential oil    drops lavender essential oil     cup aloe vera gel     teaspoon vitamin E oil  optional  A small bottle if I could just find some iso in the stores lol\n",
       "Name: selftext, dtype: object"
      ]
     },
     "execution_count": 22,
     "metadata": {},
     "output_type": "execute_result"
    }
   ],
   "source": [
    "text_proc.remove_special_chars[:3]"
   ]
  },
  {
   "cell_type": "markdown",
   "id": "1a788160-911a-4661-a483-9943d4728b68",
   "metadata": {},
   "source": [
    "### Find/Count emoji\n",
    "note: all emoji characters are already removed using the `remove_special_chars` function!!!"
   ]
  },
  {
   "cell_type": "code",
   "execution_count": 23,
   "id": "61539759-e3b4-4fb6-837c-74e2a42c58f6",
   "metadata": {},
   "outputs": [],
   "source": [
    "text_proc.count_emoji(text_proc.lower_casting[:100])"
   ]
  },
  {
   "cell_type": "code",
   "execution_count": 24,
   "id": "2e2e27d4-2333-4efb-bd55-efbdf778eb14",
   "metadata": {},
   "outputs": [
    {
     "data": {
      "text/plain": [
       "3"
      ]
     },
     "execution_count": 24,
     "metadata": {},
     "output_type": "execute_result"
    }
   ],
   "source": [
    "text_proc.count_emoji"
   ]
  },
  {
   "cell_type": "markdown",
   "id": "ec829d22-a9a1-4853-80ab-1ad057db35b5",
   "metadata": {},
   "source": [
    "### Remove emoji\n"
   ]
  },
  {
   "cell_type": "code",
   "execution_count": 25,
   "id": "57cd3453-939e-47c4-b581-b3200ba75605",
   "metadata": {},
   "outputs": [],
   "source": [
    "text_proc.remove_emoji(text_proc.lower_casting[:100])"
   ]
  },
  {
   "cell_type": "code",
   "execution_count": 26,
   "id": "9170efdb-666b-4016-afba-bac0a91987a5",
   "metadata": {},
   "outputs": [
    {
     "data": {
      "text/plain": [
       "0    anyone in this group should know to buy now if you haven't, but for the sake of reinforcement - buy now if you haven't!  i took my under 10 aged child to walmart today and picked up some more to add, and it is a night and day difference from 3 days ago.  toilet paper gone.  paper towels gone.  lysol, down to 4 bottles.  hand sanitizer and alcohol, gone.  bleach was available but only a few rem...\n",
       "1                                                                                                                                                                                                                                                         amazon is running low on cat and dog food, my normals are sold out. i feel bad for the delivery guy dropping my shit off, almost 300lbs of food and liter.\n",
       "2    because you just can't find it in stores any more...\\n\\n [http://www.utahpreppers.com/2009/04/pandemic-preparedness-diy-sanitization/](http://www.utahpreppers.com/2009/04/pandemic-preparedness-diy-sanitization/) \\n\\n* 5 c 91% isopropyl alcohol\\n* 2 c aloe vera gel\\n\\nhere's another receipt with essential oils\\n\\n [https://www.asiaone.com/lifestyle/make-your-own-diy-hand-sanitizer](https://www....\n",
       "Name: selftext, dtype: object"
      ]
     },
     "execution_count": 26,
     "metadata": {},
     "output_type": "execute_result"
    }
   ],
   "source": [
    "text_proc.remove_emoji[:3]"
   ]
  },
  {
   "cell_type": "markdown",
   "id": "1367222f-4711-41ca-8e03-c9d4c450d61c",
   "metadata": {},
   "source": [
    "### Convert emoji to text\n",
    "if you want to do sentiment analysis, it is crucial to include emojies in your models"
   ]
  },
  {
   "cell_type": "code",
   "execution_count": 27,
   "id": "b22db863-a618-421d-a950-86bf5bc161df",
   "metadata": {},
   "outputs": [],
   "source": [
    "# text_proc.convert_emoji_to_text(text_proc.lower_casting[:100])"
   ]
  },
  {
   "cell_type": "markdown",
   "id": "be08a5f4-7f1e-41b7-bc5d-7308f4259521",
   "metadata": {},
   "source": [
    "### Add new column `post` with all removed-cleaned texts"
   ]
  },
  {
   "cell_type": "code",
   "execution_count": 28,
   "id": "5952479b",
   "metadata": {},
   "outputs": [],
   "source": [
    "df['post'] = text_proc.remove_special_chars"
   ]
  },
  {
   "cell_type": "code",
   "execution_count": 29,
   "id": "d3dddb14-99a2-4b0d-aaf9-64762330884c",
   "metadata": {},
   "outputs": [
    {
     "data": {
      "text/html": [
       "<div>\n",
       "<style scoped>\n",
       "    .dataframe tbody tr th:only-of-type {\n",
       "        vertical-align: middle;\n",
       "    }\n",
       "\n",
       "    .dataframe tbody tr th {\n",
       "        vertical-align: top;\n",
       "    }\n",
       "\n",
       "    .dataframe thead th {\n",
       "        text-align: right;\n",
       "    }\n",
       "</style>\n",
       "<table border=\"1\" class=\"dataframe\">\n",
       "  <thead>\n",
       "    <tr style=\"text-align: right;\">\n",
       "      <th></th>\n",
       "      <th>title</th>\n",
       "      <th>selftext</th>\n",
       "      <th>subreddit</th>\n",
       "      <th>created_utc</th>\n",
       "      <th>author</th>\n",
       "      <th>num_comments</th>\n",
       "      <th>score</th>\n",
       "      <th>is_self</th>\n",
       "      <th>timestamp</th>\n",
       "      <th>post</th>\n",
       "    </tr>\n",
       "  </thead>\n",
       "  <tbody>\n",
       "    <tr>\n",
       "      <th>0</th>\n",
       "      <td>It's going fast in TN</td>\n",
       "      <td>Anyone in this group should know to buy now if you haven't, but for the sake of reinforcement - buy now if you haven't!  I took my under 10 aged child to Walmart today and picked up some more to add, and it is a night and day difference from 3 days ago.  Toilet paper gone.  Paper towels gone.  Lysol, down to 4 bottles.  Hand sanitizer and alcohol, gone.  Bleach was available but only a few rem...</td>\n",
       "      <td>PandemicPreps</td>\n",
       "      <td>1583021338</td>\n",
       "      <td>BeautifulBalance1</td>\n",
       "      <td>18</td>\n",
       "      <td>1</td>\n",
       "      <td>True</td>\n",
       "      <td>2020-02-29 16:08:58</td>\n",
       "      <td>Anyone in this group should know to buy now if you haven t  but for the sake of reinforcement   buy now if you haven t  I took my under    aged child to Walmart today and picked up some more to add  and it is a night and day difference from   days ago   Toilet paper gone   Paper towels gone   Lysol  down to   bottles   Hand sanitizer and alcohol  gone   Bleach was available but only a few rema...</td>\n",
       "    </tr>\n",
       "    <tr>\n",
       "      <th>1</th>\n",
       "      <td>Don’t forget about your pets!</td>\n",
       "      <td>Amazon is running low on cat and dog food, my normals are sold out. I feel bad for the delivery guy dropping my shit off, almost 300lbs of food and liter.</td>\n",
       "      <td>PandemicPreps</td>\n",
       "      <td>1583021470</td>\n",
       "      <td>JKMSDE</td>\n",
       "      <td>12</td>\n",
       "      <td>1</td>\n",
       "      <td>True</td>\n",
       "      <td>2020-02-29 16:11:10</td>\n",
       "      <td>Amazon is running low on cat and dog food  my normals are sold out  I feel bad for the delivery guy dropping my shit off  almost    lbs of food and liter</td>\n",
       "    </tr>\n",
       "    <tr>\n",
       "      <th>2</th>\n",
       "      <td>DIY Hand Sanitizer</td>\n",
       "      <td>Because you just can't find it in stores any more...\\n\\n [http://www.utahpreppers.com/2009/04/pandemic-preparedness-diy-sanitization/](http://www.utahpreppers.com/2009/04/pandemic-preparedness-diy-sanitization/) \\n\\n* 5 c 91% isopropyl alcohol\\n* 2 c aloe vera gel\\n\\nHere's another receipt with essential oils\\n\\n [https://www.asiaone.com/lifestyle/make-your-own-diy-hand-sanitizer](https://www....</td>\n",
       "      <td>PandemicPreps</td>\n",
       "      <td>1583022495</td>\n",
       "      <td>AccidentalDragon</td>\n",
       "      <td>44</td>\n",
       "      <td>1</td>\n",
       "      <td>True</td>\n",
       "      <td>2020-02-29 16:28:15</td>\n",
       "      <td>Because you just can t find it in stores any more         c     isopropyl alcohol   c aloe vera gel another receipt with essential oils       tablespoon rubbing alcohol OR   tablespoons vodka    drops tea tree essential oil    drops lavender essential oil     cup aloe vera gel     teaspoon vitamin E oil  optional  A small bottle if I could just find some iso in the stores lol</td>\n",
       "    </tr>\n",
       "    <tr>\n",
       "      <th>3</th>\n",
       "      <td>Anyone notice anything in the Denver / Boulder area? I see no concern and it concerns me!</td>\n",
       "      <td>What the hell is going on. Anyone around this area notice anything?</td>\n",
       "      <td>PandemicPreps</td>\n",
       "      <td>1583023089</td>\n",
       "      <td>Wizard_Knife_Fight</td>\n",
       "      <td>12</td>\n",
       "      <td>1</td>\n",
       "      <td>True</td>\n",
       "      <td>2020-02-29 16:38:09</td>\n",
       "      <td>What the hell is going on  Anyone around this area notice anything</td>\n",
       "    </tr>\n",
       "    <tr>\n",
       "      <th>4</th>\n",
       "      <td>PSA: don’t only buy a bunch of random foods, know how to cook it and get the proper nutrition.</td>\n",
       "      <td>I see a lot of people on here buying around the same types of stuff (canned beans, rice, etc). Just remember to know how to cook each item you buy and which combination of foods will have the right nutrients for example: you can’t live off of only eating meat products. Have a good balance of foods and learn the nutrients balance. Vitamin supplements are very important because fresh produce can...</td>\n",
       "      <td>PandemicPreps</td>\n",
       "      <td>1583025573</td>\n",
       "      <td>cutting-alumination</td>\n",
       "      <td>56</td>\n",
       "      <td>1</td>\n",
       "      <td>True</td>\n",
       "      <td>2020-02-29 17:19:33</td>\n",
       "      <td>I see a lot of people on here buying around the same types of stuff  canned beans  rice  etc   Just remember to know how to cook each item you buy and which combination of foods will have the right nutrients for example  you can t live off of only eating meat products  Have a good balance of foods and learn the nutrients balance  Vitamin supplements are very important because fresh produce can...</td>\n",
       "    </tr>\n",
       "  </tbody>\n",
       "</table>\n",
       "</div>"
      ],
      "text/plain": [
       "                                                                                            title  \\\n",
       "0                                                                           It's going fast in TN   \n",
       "1                                                                   Don’t forget about your pets!   \n",
       "2                                                                              DIY Hand Sanitizer   \n",
       "3       Anyone notice anything in the Denver / Boulder area? I see no concern and it concerns me!   \n",
       "4  PSA: don’t only buy a bunch of random foods, know how to cook it and get the proper nutrition.   \n",
       "\n",
       "                                                                                                                                                                                                                                                                                                                                                                                                          selftext  \\\n",
       "0  Anyone in this group should know to buy now if you haven't, but for the sake of reinforcement - buy now if you haven't!  I took my under 10 aged child to Walmart today and picked up some more to add, and it is a night and day difference from 3 days ago.  Toilet paper gone.  Paper towels gone.  Lysol, down to 4 bottles.  Hand sanitizer and alcohol, gone.  Bleach was available but only a few rem...   \n",
       "1                                                                                                                                                                                                                                                       Amazon is running low on cat and dog food, my normals are sold out. I feel bad for the delivery guy dropping my shit off, almost 300lbs of food and liter.   \n",
       "2  Because you just can't find it in stores any more...\\n\\n [http://www.utahpreppers.com/2009/04/pandemic-preparedness-diy-sanitization/](http://www.utahpreppers.com/2009/04/pandemic-preparedness-diy-sanitization/) \\n\\n* 5 c 91% isopropyl alcohol\\n* 2 c aloe vera gel\\n\\nHere's another receipt with essential oils\\n\\n [https://www.asiaone.com/lifestyle/make-your-own-diy-hand-sanitizer](https://www....   \n",
       "3                                                                                                                                                                                                                                                                                                                                              What the hell is going on. Anyone around this area notice anything?   \n",
       "4  I see a lot of people on here buying around the same types of stuff (canned beans, rice, etc). Just remember to know how to cook each item you buy and which combination of foods will have the right nutrients for example: you can’t live off of only eating meat products. Have a good balance of foods and learn the nutrients balance. Vitamin supplements are very important because fresh produce can...   \n",
       "\n",
       "       subreddit  created_utc               author  num_comments  score  \\\n",
       "0  PandemicPreps   1583021338    BeautifulBalance1            18      1   \n",
       "1  PandemicPreps   1583021470               JKMSDE            12      1   \n",
       "2  PandemicPreps   1583022495     AccidentalDragon            44      1   \n",
       "3  PandemicPreps   1583023089   Wizard_Knife_Fight            12      1   \n",
       "4  PandemicPreps   1583025573  cutting-alumination            56      1   \n",
       "\n",
       "   is_self            timestamp  \\\n",
       "0     True  2020-02-29 16:08:58   \n",
       "1     True  2020-02-29 16:11:10   \n",
       "2     True  2020-02-29 16:28:15   \n",
       "3     True  2020-02-29 16:38:09   \n",
       "4     True  2020-02-29 17:19:33   \n",
       "\n",
       "                                                                                                                                                                                                                                                                                                                                                                                                              post  \n",
       "0  Anyone in this group should know to buy now if you haven t  but for the sake of reinforcement   buy now if you haven t  I took my under    aged child to Walmart today and picked up some more to add  and it is a night and day difference from   days ago   Toilet paper gone   Paper towels gone   Lysol  down to   bottles   Hand sanitizer and alcohol  gone   Bleach was available but only a few rema...  \n",
       "1                                                                                                                                                                                                                                                       Amazon is running low on cat and dog food  my normals are sold out  I feel bad for the delivery guy dropping my shit off  almost    lbs of food and liter   \n",
       "2                       Because you just can t find it in stores any more         c     isopropyl alcohol   c aloe vera gel another receipt with essential oils       tablespoon rubbing alcohol OR   tablespoons vodka    drops tea tree essential oil    drops lavender essential oil     cup aloe vera gel     teaspoon vitamin E oil  optional  A small bottle if I could just find some iso in the stores lol  \n",
       "3                                                                                                                                                                                                                                                                                                                                              What the hell is going on  Anyone around this area notice anything   \n",
       "4  I see a lot of people on here buying around the same types of stuff  canned beans  rice  etc   Just remember to know how to cook each item you buy and which combination of foods will have the right nutrients for example  you can t live off of only eating meat products  Have a good balance of foods and learn the nutrients balance  Vitamin supplements are very important because fresh produce can...  "
      ]
     },
     "execution_count": 29,
     "metadata": {},
     "output_type": "execute_result"
    }
   ],
   "source": [
    "df.head()"
   ]
  },
  {
   "cell_type": "markdown",
   "id": "07d4f168",
   "metadata": {},
   "source": [
    "### Remove Stop Words\n",
    "Commonly used phrases and words that does not count in linguistic analysis."
   ]
  },
  {
   "cell_type": "code",
   "execution_count": 30,
   "id": "aadd079d-ff8e-438a-8dc1-871fe05cc851",
   "metadata": {},
   "outputs": [],
   "source": [
    "text_proc.remove_stopwords(df['post'])"
   ]
  },
  {
   "cell_type": "code",
   "execution_count": 31,
   "id": "ccae74ef",
   "metadata": {},
   "outputs": [
    {
     "data": {
      "text/plain": [
       "0    Anyone group know buy sake reinforcement buy I took aged child Walmart today picked add night day difference days ago Toilet paper gone Paper towels gone Lysol bottles Hand sanitizer alcohol gone Bleach available remained Cold meds low Even dish gloves ransacked Hot dogs gone Flour low Didn go beans rice aisle My child said coronavirus Yes The lady checking front joke bottles shampoo condition...\n",
       "1                                                                                                                                                                                                                                                                                                           Amazon running low cat dog food normals sold I feel bad delivery guy dropping shit almost lbs food liter\n",
       "2                                                                                                                      Because find stores c isopropyl alcohol c aloe vera gel another receipt essential oils tablespoon rubbing alcohol OR tablespoons vodka drops tea tree essential oil drops lavender essential oil cup aloe vera gel teaspoon vitamin E oil optional A small bottle I could find iso stores lol\n",
       "3                                                                                                                                                                                                                                                                                                                                                                 What hell going Anyone around area notice anything\n",
       "4                                                                                       I see lot people buying around types stuff canned beans rice etc Just remember know cook item buy combination foods right nutrients example live eating meat products Have good balance foods learn nutrients balance Vitamin supplements important fresh produce go bad stored Remember buy purpose Good luck prepping guys\n",
       "Name: post, dtype: object"
      ]
     },
     "execution_count": 31,
     "metadata": {},
     "output_type": "execute_result"
    }
   ],
   "source": [
    "text_proc.remove_stopwords[:5]"
   ]
  },
  {
   "cell_type": "code",
   "execution_count": 32,
   "id": "b85e40ca-0274-4fb1-8527-a92bc89dff43",
   "metadata": {},
   "outputs": [],
   "source": [
    "df['post2'] = text_proc.remove_stopwords"
   ]
  },
  {
   "cell_type": "code",
   "execution_count": 33,
   "id": "c40433ea",
   "metadata": {},
   "outputs": [
    {
     "data": {
      "text/html": [
       "<div>\n",
       "<style scoped>\n",
       "    .dataframe tbody tr th:only-of-type {\n",
       "        vertical-align: middle;\n",
       "    }\n",
       "\n",
       "    .dataframe tbody tr th {\n",
       "        vertical-align: top;\n",
       "    }\n",
       "\n",
       "    .dataframe thead th {\n",
       "        text-align: right;\n",
       "    }\n",
       "</style>\n",
       "<table border=\"1\" class=\"dataframe\">\n",
       "  <thead>\n",
       "    <tr style=\"text-align: right;\">\n",
       "      <th></th>\n",
       "      <th>title</th>\n",
       "      <th>selftext</th>\n",
       "      <th>subreddit</th>\n",
       "      <th>created_utc</th>\n",
       "      <th>author</th>\n",
       "      <th>num_comments</th>\n",
       "      <th>score</th>\n",
       "      <th>is_self</th>\n",
       "      <th>timestamp</th>\n",
       "      <th>post</th>\n",
       "      <th>post2</th>\n",
       "    </tr>\n",
       "  </thead>\n",
       "  <tbody>\n",
       "    <tr>\n",
       "      <th>0</th>\n",
       "      <td>It's going fast in TN</td>\n",
       "      <td>Anyone in this group should know to buy now if you haven't, but for the sake of reinforcement - buy now if you haven't!  I took my under 10 aged child to Walmart today and picked up some more to add, and it is a night and day difference from 3 days ago.  Toilet paper gone.  Paper towels gone.  Lysol, down to 4 bottles.  Hand sanitizer and alcohol, gone.  Bleach was available but only a few rem...</td>\n",
       "      <td>PandemicPreps</td>\n",
       "      <td>1583021338</td>\n",
       "      <td>BeautifulBalance1</td>\n",
       "      <td>18</td>\n",
       "      <td>1</td>\n",
       "      <td>True</td>\n",
       "      <td>2020-02-29 16:08:58</td>\n",
       "      <td>Anyone in this group should know to buy now if you haven t  but for the sake of reinforcement   buy now if you haven t  I took my under    aged child to Walmart today and picked up some more to add  and it is a night and day difference from   days ago   Toilet paper gone   Paper towels gone   Lysol  down to   bottles   Hand sanitizer and alcohol  gone   Bleach was available but only a few rema...</td>\n",
       "      <td>Anyone group know buy sake reinforcement buy I took aged child Walmart today picked add night day difference days ago Toilet paper gone Paper towels gone Lysol bottles Hand sanitizer alcohol gone Bleach available remained Cold meds low Even dish gloves ransacked Hot dogs gone Flour low Didn go beans rice aisle My child said coronavirus Yes The lady checking front joke bottles shampoo condition...</td>\n",
       "    </tr>\n",
       "    <tr>\n",
       "      <th>1</th>\n",
       "      <td>Don’t forget about your pets!</td>\n",
       "      <td>Amazon is running low on cat and dog food, my normals are sold out. I feel bad for the delivery guy dropping my shit off, almost 300lbs of food and liter.</td>\n",
       "      <td>PandemicPreps</td>\n",
       "      <td>1583021470</td>\n",
       "      <td>JKMSDE</td>\n",
       "      <td>12</td>\n",
       "      <td>1</td>\n",
       "      <td>True</td>\n",
       "      <td>2020-02-29 16:11:10</td>\n",
       "      <td>Amazon is running low on cat and dog food  my normals are sold out  I feel bad for the delivery guy dropping my shit off  almost    lbs of food and liter</td>\n",
       "      <td>Amazon running low cat dog food normals sold I feel bad delivery guy dropping shit almost lbs food liter</td>\n",
       "    </tr>\n",
       "    <tr>\n",
       "      <th>2</th>\n",
       "      <td>DIY Hand Sanitizer</td>\n",
       "      <td>Because you just can't find it in stores any more...\\n\\n [http://www.utahpreppers.com/2009/04/pandemic-preparedness-diy-sanitization/](http://www.utahpreppers.com/2009/04/pandemic-preparedness-diy-sanitization/) \\n\\n* 5 c 91% isopropyl alcohol\\n* 2 c aloe vera gel\\n\\nHere's another receipt with essential oils\\n\\n [https://www.asiaone.com/lifestyle/make-your-own-diy-hand-sanitizer](https://www....</td>\n",
       "      <td>PandemicPreps</td>\n",
       "      <td>1583022495</td>\n",
       "      <td>AccidentalDragon</td>\n",
       "      <td>44</td>\n",
       "      <td>1</td>\n",
       "      <td>True</td>\n",
       "      <td>2020-02-29 16:28:15</td>\n",
       "      <td>Because you just can t find it in stores any more         c     isopropyl alcohol   c aloe vera gel another receipt with essential oils       tablespoon rubbing alcohol OR   tablespoons vodka    drops tea tree essential oil    drops lavender essential oil     cup aloe vera gel     teaspoon vitamin E oil  optional  A small bottle if I could just find some iso in the stores lol</td>\n",
       "      <td>Because find stores c isopropyl alcohol c aloe vera gel another receipt essential oils tablespoon rubbing alcohol OR tablespoons vodka drops tea tree essential oil drops lavender essential oil cup aloe vera gel teaspoon vitamin E oil optional A small bottle I could find iso stores lol</td>\n",
       "    </tr>\n",
       "  </tbody>\n",
       "</table>\n",
       "</div>"
      ],
      "text/plain": [
       "                           title  \\\n",
       "0          It's going fast in TN   \n",
       "1  Don’t forget about your pets!   \n",
       "2             DIY Hand Sanitizer   \n",
       "\n",
       "                                                                                                                                                                                                                                                                                                                                                                                                          selftext  \\\n",
       "0  Anyone in this group should know to buy now if you haven't, but for the sake of reinforcement - buy now if you haven't!  I took my under 10 aged child to Walmart today and picked up some more to add, and it is a night and day difference from 3 days ago.  Toilet paper gone.  Paper towels gone.  Lysol, down to 4 bottles.  Hand sanitizer and alcohol, gone.  Bleach was available but only a few rem...   \n",
       "1                                                                                                                                                                                                                                                       Amazon is running low on cat and dog food, my normals are sold out. I feel bad for the delivery guy dropping my shit off, almost 300lbs of food and liter.   \n",
       "2  Because you just can't find it in stores any more...\\n\\n [http://www.utahpreppers.com/2009/04/pandemic-preparedness-diy-sanitization/](http://www.utahpreppers.com/2009/04/pandemic-preparedness-diy-sanitization/) \\n\\n* 5 c 91% isopropyl alcohol\\n* 2 c aloe vera gel\\n\\nHere's another receipt with essential oils\\n\\n [https://www.asiaone.com/lifestyle/make-your-own-diy-hand-sanitizer](https://www....   \n",
       "\n",
       "       subreddit  created_utc             author  num_comments  score  \\\n",
       "0  PandemicPreps   1583021338  BeautifulBalance1            18      1   \n",
       "1  PandemicPreps   1583021470             JKMSDE            12      1   \n",
       "2  PandemicPreps   1583022495   AccidentalDragon            44      1   \n",
       "\n",
       "   is_self            timestamp  \\\n",
       "0     True  2020-02-29 16:08:58   \n",
       "1     True  2020-02-29 16:11:10   \n",
       "2     True  2020-02-29 16:28:15   \n",
       "\n",
       "                                                                                                                                                                                                                                                                                                                                                                                                              post  \\\n",
       "0  Anyone in this group should know to buy now if you haven t  but for the sake of reinforcement   buy now if you haven t  I took my under    aged child to Walmart today and picked up some more to add  and it is a night and day difference from   days ago   Toilet paper gone   Paper towels gone   Lysol  down to   bottles   Hand sanitizer and alcohol  gone   Bleach was available but only a few rema...   \n",
       "1                                                                                                                                                                                                                                                       Amazon is running low on cat and dog food  my normals are sold out  I feel bad for the delivery guy dropping my shit off  almost    lbs of food and liter    \n",
       "2                       Because you just can t find it in stores any more         c     isopropyl alcohol   c aloe vera gel another receipt with essential oils       tablespoon rubbing alcohol OR   tablespoons vodka    drops tea tree essential oil    drops lavender essential oil     cup aloe vera gel     teaspoon vitamin E oil  optional  A small bottle if I could just find some iso in the stores lol   \n",
       "\n",
       "                                                                                                                                                                                                                                                                                                                                                                                                             post2  \n",
       "0  Anyone group know buy sake reinforcement buy I took aged child Walmart today picked add night day difference days ago Toilet paper gone Paper towels gone Lysol bottles Hand sanitizer alcohol gone Bleach available remained Cold meds low Even dish gloves ransacked Hot dogs gone Flour low Didn go beans rice aisle My child said coronavirus Yes The lady checking front joke bottles shampoo condition...  \n",
       "1                                                                                                                                                                                                                                                                                                         Amazon running low cat dog food normals sold I feel bad delivery guy dropping shit almost lbs food liter  \n",
       "2                                                                                                                    Because find stores c isopropyl alcohol c aloe vera gel another receipt essential oils tablespoon rubbing alcohol OR tablespoons vodka drops tea tree essential oil drops lavender essential oil cup aloe vera gel teaspoon vitamin E oil optional A small bottle I could find iso stores lol  "
      ]
     },
     "execution_count": 33,
     "metadata": {},
     "output_type": "execute_result"
    }
   ],
   "source": [
    "df.head(3)"
   ]
  },
  {
   "cell_type": "markdown",
   "id": "c828ca8e",
   "metadata": {},
   "source": [
    "# Stemmizing\n",
    "When we \"stem\" data, we take words and attempt to return a base form of the word. It tends to be cruder than using lemmatization."
   ]
  },
  {
   "cell_type": "code",
   "execution_count": 34,
   "id": "9ff92912-bbb8-46d3-be1f-a80e89f06d3f",
   "metadata": {},
   "outputs": [],
   "source": [
    "text_proc.stemming_text(text_proc.remove_stopwords)"
   ]
  },
  {
   "cell_type": "code",
   "execution_count": 35,
   "id": "bd8d8a46-5a4b-41c7-bf61-09d7d308091e",
   "metadata": {},
   "outputs": [],
   "source": [
    "df['stemmed'] = text_proc.stemming_text"
   ]
  },
  {
   "cell_type": "markdown",
   "id": "ac984401-8815-451a-9a27-1a4a30ba2eef",
   "metadata": {},
   "source": [
    "#### Calculate number of words: original VS. Stemmed posts "
   ]
  },
  {
   "cell_type": "code",
   "execution_count": 36,
   "id": "2496e98d",
   "metadata": {},
   "outputs": [
    {
     "data": {
      "text/plain": [
       "(1625776, 928855)"
      ]
     },
     "execution_count": 36,
     "metadata": {},
     "output_type": "execute_result"
    }
   ],
   "source": [
    "df['post'].str.len().sum(),df['stemmed'].str.len().sum()"
   ]
  },
  {
   "cell_type": "markdown",
   "id": "2ba97fd8-8505-4449-8f91-aec37807b944",
   "metadata": {},
   "source": [
    "### save text processed token as cvs"
   ]
  },
  {
   "cell_type": "code",
   "execution_count": 37,
   "id": "24aba029-d165-4645-97f6-bacb60ded270",
   "metadata": {},
   "outputs": [
    {
     "data": {
      "text/html": [
       "<div>\n",
       "<style scoped>\n",
       "    .dataframe tbody tr th:only-of-type {\n",
       "        vertical-align: middle;\n",
       "    }\n",
       "\n",
       "    .dataframe tbody tr th {\n",
       "        vertical-align: top;\n",
       "    }\n",
       "\n",
       "    .dataframe thead th {\n",
       "        text-align: right;\n",
       "    }\n",
       "</style>\n",
       "<table border=\"1\" class=\"dataframe\">\n",
       "  <thead>\n",
       "    <tr style=\"text-align: right;\">\n",
       "      <th></th>\n",
       "      <th>title</th>\n",
       "      <th>selftext</th>\n",
       "      <th>subreddit</th>\n",
       "      <th>created_utc</th>\n",
       "      <th>author</th>\n",
       "      <th>num_comments</th>\n",
       "      <th>score</th>\n",
       "      <th>is_self</th>\n",
       "      <th>timestamp</th>\n",
       "      <th>post</th>\n",
       "      <th>post2</th>\n",
       "      <th>stemmed</th>\n",
       "    </tr>\n",
       "  </thead>\n",
       "  <tbody>\n",
       "    <tr>\n",
       "      <th>0</th>\n",
       "      <td>It's going fast in TN</td>\n",
       "      <td>Anyone in this group should know to buy now if you haven't, but for the sake of reinforcement - buy now if you haven't!  I took my under 10 aged child to Walmart today and picked up some more to add, and it is a night and day difference from 3 days ago.  Toilet paper gone.  Paper towels gone.  Lysol, down to 4 bottles.  Hand sanitizer and alcohol, gone.  Bleach was available but only a few rem...</td>\n",
       "      <td>PandemicPreps</td>\n",
       "      <td>1583021338</td>\n",
       "      <td>BeautifulBalance1</td>\n",
       "      <td>18</td>\n",
       "      <td>1</td>\n",
       "      <td>True</td>\n",
       "      <td>2020-02-29 16:08:58</td>\n",
       "      <td>Anyone in this group should know to buy now if you haven t  but for the sake of reinforcement   buy now if you haven t  I took my under    aged child to Walmart today and picked up some more to add  and it is a night and day difference from   days ago   Toilet paper gone   Paper towels gone   Lysol  down to   bottles   Hand sanitizer and alcohol  gone   Bleach was available but only a few rema...</td>\n",
       "      <td>Anyone group know buy sake reinforcement buy I took aged child Walmart today picked add night day difference days ago Toilet paper gone Paper towels gone Lysol bottles Hand sanitizer alcohol gone Bleach available remained Cold meds low Even dish gloves ransacked Hot dogs gone Flour low Didn go beans rice aisle My child said coronavirus Yes The lady checking front joke bottles shampoo condition...</td>\n",
       "      <td>anyon group know buy sake reinforc buy i took age child walmart today pick add night day differ day ago toilet paper gone paper towel gone lysol bottl hand sanit alcohol gone bleach avail remain cold med low even dish glove ransack hot dog gone flour low didn go bean rice aisl my child said coronaviru ye the ladi check front joke bottl shampoo condition i spous think overplay i taken video cou...</td>\n",
       "    </tr>\n",
       "    <tr>\n",
       "      <th>1</th>\n",
       "      <td>Don’t forget about your pets!</td>\n",
       "      <td>Amazon is running low on cat and dog food, my normals are sold out. I feel bad for the delivery guy dropping my shit off, almost 300lbs of food and liter.</td>\n",
       "      <td>PandemicPreps</td>\n",
       "      <td>1583021470</td>\n",
       "      <td>JKMSDE</td>\n",
       "      <td>12</td>\n",
       "      <td>1</td>\n",
       "      <td>True</td>\n",
       "      <td>2020-02-29 16:11:10</td>\n",
       "      <td>Amazon is running low on cat and dog food  my normals are sold out  I feel bad for the delivery guy dropping my shit off  almost    lbs of food and liter</td>\n",
       "      <td>Amazon running low cat dog food normals sold I feel bad delivery guy dropping shit almost lbs food liter</td>\n",
       "      <td>amazon run low cat dog food normal sold i feel bad deliveri guy drop shit almost lb food liter</td>\n",
       "    </tr>\n",
       "  </tbody>\n",
       "</table>\n",
       "</div>"
      ],
      "text/plain": [
       "                           title  \\\n",
       "0          It's going fast in TN   \n",
       "1  Don’t forget about your pets!   \n",
       "\n",
       "                                                                                                                                                                                                                                                                                                                                                                                                          selftext  \\\n",
       "0  Anyone in this group should know to buy now if you haven't, but for the sake of reinforcement - buy now if you haven't!  I took my under 10 aged child to Walmart today and picked up some more to add, and it is a night and day difference from 3 days ago.  Toilet paper gone.  Paper towels gone.  Lysol, down to 4 bottles.  Hand sanitizer and alcohol, gone.  Bleach was available but only a few rem...   \n",
       "1                                                                                                                                                                                                                                                       Amazon is running low on cat and dog food, my normals are sold out. I feel bad for the delivery guy dropping my shit off, almost 300lbs of food and liter.   \n",
       "\n",
       "       subreddit  created_utc             author  num_comments  score  \\\n",
       "0  PandemicPreps   1583021338  BeautifulBalance1            18      1   \n",
       "1  PandemicPreps   1583021470             JKMSDE            12      1   \n",
       "\n",
       "   is_self            timestamp  \\\n",
       "0     True  2020-02-29 16:08:58   \n",
       "1     True  2020-02-29 16:11:10   \n",
       "\n",
       "                                                                                                                                                                                                                                                                                                                                                                                                              post  \\\n",
       "0  Anyone in this group should know to buy now if you haven t  but for the sake of reinforcement   buy now if you haven t  I took my under    aged child to Walmart today and picked up some more to add  and it is a night and day difference from   days ago   Toilet paper gone   Paper towels gone   Lysol  down to   bottles   Hand sanitizer and alcohol  gone   Bleach was available but only a few rema...   \n",
       "1                                                                                                                                                                                                                                                       Amazon is running low on cat and dog food  my normals are sold out  I feel bad for the delivery guy dropping my shit off  almost    lbs of food and liter    \n",
       "\n",
       "                                                                                                                                                                                                                                                                                                                                                                                                             post2  \\\n",
       "0  Anyone group know buy sake reinforcement buy I took aged child Walmart today picked add night day difference days ago Toilet paper gone Paper towels gone Lysol bottles Hand sanitizer alcohol gone Bleach available remained Cold meds low Even dish gloves ransacked Hot dogs gone Flour low Didn go beans rice aisle My child said coronavirus Yes The lady checking front joke bottles shampoo condition...   \n",
       "1                                                                                                                                                                                                                                                                                                         Amazon running low cat dog food normals sold I feel bad delivery guy dropping shit almost lbs food liter   \n",
       "\n",
       "                                                                                                                                                                                                                                                                                                                                                                                                           stemmed  \n",
       "0  anyon group know buy sake reinforc buy i took age child walmart today pick add night day differ day ago toilet paper gone paper towel gone lysol bottl hand sanit alcohol gone bleach avail remain cold med low even dish glove ransack hot dog gone flour low didn go bean rice aisl my child said coronaviru ye the ladi check front joke bottl shampoo condition i spous think overplay i taken video cou...  \n",
       "1                                                                                                                                                                                                                                                                                                                   amazon run low cat dog food normal sold i feel bad deliveri guy drop shit almost lb food liter  "
      ]
     },
     "execution_count": 37,
     "metadata": {},
     "output_type": "execute_result"
    }
   ],
   "source": [
    "df.head(2)"
   ]
  },
  {
   "cell_type": "code",
   "execution_count": 38,
   "id": "8e5f4496",
   "metadata": {},
   "outputs": [],
   "source": [
    "# save processed data to be used for models\n",
    "df.to_csv('../datasets/text_processed_PandemicPreps_v2.csv', columns=df.columns, index_label=False)"
   ]
  },
  {
   "cell_type": "code",
   "execution_count": 39,
   "id": "200a7237-050c-4a4a-bc3a-2ae431115784",
   "metadata": {},
   "outputs": [
    {
     "data": {
      "text/html": [
       "<div>\n",
       "<style scoped>\n",
       "    .dataframe tbody tr th:only-of-type {\n",
       "        vertical-align: middle;\n",
       "    }\n",
       "\n",
       "    .dataframe tbody tr th {\n",
       "        vertical-align: top;\n",
       "    }\n",
       "\n",
       "    .dataframe thead th {\n",
       "        text-align: right;\n",
       "    }\n",
       "</style>\n",
       "<table border=\"1\" class=\"dataframe\">\n",
       "  <thead>\n",
       "    <tr style=\"text-align: right;\">\n",
       "      <th></th>\n",
       "      <th>title</th>\n",
       "      <th>selftext</th>\n",
       "      <th>subreddit</th>\n",
       "      <th>created_utc</th>\n",
       "      <th>author</th>\n",
       "      <th>num_comments</th>\n",
       "      <th>score</th>\n",
       "      <th>is_self</th>\n",
       "      <th>timestamp</th>\n",
       "      <th>post</th>\n",
       "      <th>post2</th>\n",
       "      <th>stemmed</th>\n",
       "    </tr>\n",
       "  </thead>\n",
       "  <tbody>\n",
       "    <tr>\n",
       "      <th>0</th>\n",
       "      <td>It's going fast in TN</td>\n",
       "      <td>Anyone in this group should know to buy now if you haven't, but for the sake of reinforcement - buy now if you haven't!  I took my under 10 aged child to Walmart today and picked up some more to add, and it is a night and day difference from 3 days ago.  Toilet paper gone.  Paper towels gone.  Lysol, down to 4 bottles.  Hand sanitizer and alcohol, gone.  Bleach was available but only a few rem...</td>\n",
       "      <td>PandemicPreps</td>\n",
       "      <td>1583021338</td>\n",
       "      <td>BeautifulBalance1</td>\n",
       "      <td>18</td>\n",
       "      <td>1</td>\n",
       "      <td>True</td>\n",
       "      <td>2020-02-29 16:08:58</td>\n",
       "      <td>Anyone in this group should know to buy now if you haven t  but for the sake of reinforcement   buy now if you haven t  I took my under    aged child to Walmart today and picked up some more to add  and it is a night and day difference from   days ago   Toilet paper gone   Paper towels gone   Lysol  down to   bottles   Hand sanitizer and alcohol  gone   Bleach was available but only a few rema...</td>\n",
       "      <td>Anyone group know buy sake reinforcement buy I took aged child Walmart today picked add night day difference days ago Toilet paper gone Paper towels gone Lysol bottles Hand sanitizer alcohol gone Bleach available remained Cold meds low Even dish gloves ransacked Hot dogs gone Flour low Didn go beans rice aisle My child said coronavirus Yes The lady checking front joke bottles shampoo condition...</td>\n",
       "      <td>anyon group know buy sake reinforc buy i took age child walmart today pick add night day differ day ago toilet paper gone paper towel gone lysol bottl hand sanit alcohol gone bleach avail remain cold med low even dish glove ransack hot dog gone flour low didn go bean rice aisl my child said coronaviru ye the ladi check front joke bottl shampoo condition i spous think overplay i taken video cou...</td>\n",
       "    </tr>\n",
       "    <tr>\n",
       "      <th>1</th>\n",
       "      <td>Don’t forget about your pets!</td>\n",
       "      <td>Amazon is running low on cat and dog food, my normals are sold out. I feel bad for the delivery guy dropping my shit off, almost 300lbs of food and liter.</td>\n",
       "      <td>PandemicPreps</td>\n",
       "      <td>1583021470</td>\n",
       "      <td>JKMSDE</td>\n",
       "      <td>12</td>\n",
       "      <td>1</td>\n",
       "      <td>True</td>\n",
       "      <td>2020-02-29 16:11:10</td>\n",
       "      <td>Amazon is running low on cat and dog food  my normals are sold out  I feel bad for the delivery guy dropping my shit off  almost    lbs of food and liter</td>\n",
       "      <td>Amazon running low cat dog food normals sold I feel bad delivery guy dropping shit almost lbs food liter</td>\n",
       "      <td>amazon run low cat dog food normal sold i feel bad deliveri guy drop shit almost lb food liter</td>\n",
       "    </tr>\n",
       "  </tbody>\n",
       "</table>\n",
       "</div>"
      ],
      "text/plain": [
       "                           title  \\\n",
       "0          It's going fast in TN   \n",
       "1  Don’t forget about your pets!   \n",
       "\n",
       "                                                                                                                                                                                                                                                                                                                                                                                                          selftext  \\\n",
       "0  Anyone in this group should know to buy now if you haven't, but for the sake of reinforcement - buy now if you haven't!  I took my under 10 aged child to Walmart today and picked up some more to add, and it is a night and day difference from 3 days ago.  Toilet paper gone.  Paper towels gone.  Lysol, down to 4 bottles.  Hand sanitizer and alcohol, gone.  Bleach was available but only a few rem...   \n",
       "1                                                                                                                                                                                                                                                       Amazon is running low on cat and dog food, my normals are sold out. I feel bad for the delivery guy dropping my shit off, almost 300lbs of food and liter.   \n",
       "\n",
       "       subreddit  created_utc             author  num_comments  score  \\\n",
       "0  PandemicPreps   1583021338  BeautifulBalance1            18      1   \n",
       "1  PandemicPreps   1583021470             JKMSDE            12      1   \n",
       "\n",
       "   is_self            timestamp  \\\n",
       "0     True  2020-02-29 16:08:58   \n",
       "1     True  2020-02-29 16:11:10   \n",
       "\n",
       "                                                                                                                                                                                                                                                                                                                                                                                                              post  \\\n",
       "0  Anyone in this group should know to buy now if you haven t  but for the sake of reinforcement   buy now if you haven t  I took my under    aged child to Walmart today and picked up some more to add  and it is a night and day difference from   days ago   Toilet paper gone   Paper towels gone   Lysol  down to   bottles   Hand sanitizer and alcohol  gone   Bleach was available but only a few rema...   \n",
       "1                                                                                                                                                                                                                                                       Amazon is running low on cat and dog food  my normals are sold out  I feel bad for the delivery guy dropping my shit off  almost    lbs of food and liter    \n",
       "\n",
       "                                                                                                                                                                                                                                                                                                                                                                                                             post2  \\\n",
       "0  Anyone group know buy sake reinforcement buy I took aged child Walmart today picked add night day difference days ago Toilet paper gone Paper towels gone Lysol bottles Hand sanitizer alcohol gone Bleach available remained Cold meds low Even dish gloves ransacked Hot dogs gone Flour low Didn go beans rice aisle My child said coronavirus Yes The lady checking front joke bottles shampoo condition...   \n",
       "1                                                                                                                                                                                                                                                                                                         Amazon running low cat dog food normals sold I feel bad delivery guy dropping shit almost lbs food liter   \n",
       "\n",
       "                                                                                                                                                                                                                                                                                                                                                                                                           stemmed  \n",
       "0  anyon group know buy sake reinforc buy i took age child walmart today pick add night day differ day ago toilet paper gone paper towel gone lysol bottl hand sanit alcohol gone bleach avail remain cold med low even dish glove ransack hot dog gone flour low didn go bean rice aisl my child said coronaviru ye the ladi check front joke bottl shampoo condition i spous think overplay i taken video cou...  \n",
       "1                                                                                                                                                                                                                                                                                                                   amazon run low cat dog food normal sold i feel bad deliveri guy drop shit almost lb food liter  "
      ]
     },
     "execution_count": 39,
     "metadata": {},
     "output_type": "execute_result"
    }
   ],
   "source": [
    "# test the saved df\n",
    "pd.read_csv('../datasets/text_processed_PandemicPreps_v2.csv').head(2)"
   ]
  },
  {
   "cell_type": "markdown",
   "id": "3e89c63a",
   "metadata": {},
   "source": [
    "### Reduce the post to time duration from March 2020 to March 2021"
   ]
  },
  {
   "cell_type": "code",
   "execution_count": 40,
   "id": "b9930e09",
   "metadata": {},
   "outputs": [
    {
     "data": {
      "text/plain": [
       "409     2020-03-09 17:15:34\n",
       "410     2020-03-09 17:27:09\n",
       "411     2020-03-09 17:28:47\n",
       "412     2020-03-09 18:13:54\n",
       "413     2020-03-09 18:49:27\n",
       "               ...         \n",
       "1967    2020-05-16 10:42:42\n",
       "1968    2020-06-08 18:15:14\n",
       "1969    2020-06-12 12:23:16\n",
       "1970    2020-06-13 10:45:16\n",
       "1971    2020-06-13 16:56:10\n",
       "Name: timestamp, Length: 1453, dtype: object"
      ]
     },
     "execution_count": 40,
     "metadata": {},
     "output_type": "execute_result"
    }
   ],
   "source": [
    "df[ (df['timestamp'] < '2021-03-09 16:20:54') & ( df['timestamp'] > '2020-03-09 16:20:54' ) ]['timestamp']"
   ]
  },
  {
   "cell_type": "markdown",
   "id": "de7e7d95",
   "metadata": {},
   "source": [
    "## Save text-processed doc"
   ]
  },
  {
   "cell_type": "code",
   "execution_count": 41,
   "id": "53dbfd45",
   "metadata": {},
   "outputs": [],
   "source": [
    "# save processed data to be used for models\n",
    "df.to_csv('../datasets/text_processed_PandemicPreps__Mar2020_Mar2021_v2.csv', columns=df.columns, index_label=False)"
   ]
  },
  {
   "cell_type": "code",
   "execution_count": null,
   "id": "27d35676-b041-4bb5-ae16-55b23ea1b92e",
   "metadata": {},
   "outputs": [],
   "source": []
  }
 ],
 "metadata": {
  "kernelspec": {
   "display_name": "Python 3 (ipykernel)",
   "language": "python",
   "name": "python3"
  },
  "language_info": {
   "codemirror_mode": {
    "name": "ipython",
    "version": 3
   },
   "file_extension": ".py",
   "mimetype": "text/x-python",
   "name": "python",
   "nbconvert_exporter": "python",
   "pygments_lexer": "ipython3",
   "version": "3.9.5"
  }
 },
 "nbformat": 4,
 "nbformat_minor": 5
}
