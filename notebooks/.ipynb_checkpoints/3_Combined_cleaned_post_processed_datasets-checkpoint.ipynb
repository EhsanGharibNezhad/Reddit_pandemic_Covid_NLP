{
 "cells": [
  {
   "cell_type": "markdown",
   "id": "c3bd5d44",
   "metadata": {},
   "source": [
    "# # Combine two datasets\n",
    "\n",
    "### Author: Ehsan Gharib-Nezhad\n"
   ]
  },
  {
   "cell_type": "code",
   "execution_count": 3,
   "id": "cb4e2d88",
   "metadata": {},
   "outputs": [],
   "source": [
    "from myfunctions import *"
   ]
  },
  {
   "cell_type": "code",
   "execution_count": 4,
   "id": "d3ed863f",
   "metadata": {},
   "outputs": [],
   "source": [
    "df_covid19positive = pd.read_csv('../datasets/text_processed_covid19positive__Mar2020_Mar2021_v2.csv')"
   ]
  },
  {
   "cell_type": "code",
   "execution_count": 6,
   "id": "d62f135e",
   "metadata": {},
   "outputs": [
    {
     "data": {
      "text/html": [
       "<div>\n",
       "<style scoped>\n",
       "    .dataframe tbody tr th:only-of-type {\n",
       "        vertical-align: middle;\n",
       "    }\n",
       "\n",
       "    .dataframe tbody tr th {\n",
       "        vertical-align: top;\n",
       "    }\n",
       "\n",
       "    .dataframe thead th {\n",
       "        text-align: right;\n",
       "    }\n",
       "</style>\n",
       "<table border=\"1\" class=\"dataframe\">\n",
       "  <thead>\n",
       "    <tr style=\"text-align: right;\">\n",
       "      <th></th>\n",
       "      <th>title</th>\n",
       "      <th>selftext</th>\n",
       "      <th>subreddit</th>\n",
       "      <th>created_utc</th>\n",
       "      <th>author</th>\n",
       "      <th>num_comments</th>\n",
       "      <th>score</th>\n",
       "      <th>is_self</th>\n",
       "      <th>timestamp</th>\n",
       "      <th>post</th>\n",
       "      <th>post2</th>\n",
       "      <th>stemmed</th>\n",
       "    </tr>\n",
       "  </thead>\n",
       "  <tbody>\n",
       "    <tr>\n",
       "      <th>0</th>\n",
       "      <td>I am constantly seeing people asking about people’s experiences so I figured now we can go to one place and stop spamming the AMA and ask Reddit’s subs.</td>\n",
       "      <td>For those that have tested positive I hope every single one of you feels better soon!</td>\n",
       "      <td>COVID19positive</td>\n",
       "      <td>1584148032</td>\n",
       "      <td>the1andonlyjoja</td>\n",
       "      <td>191</td>\n",
       "      <td>1</td>\n",
       "      <td>True</td>\n",
       "      <td>2020-03-13 18:07:12</td>\n",
       "      <td>For those that have tested positive I hope every single one of you feels better soon</td>\n",
       "      <td>For tested positive I hope every single one feels better soon</td>\n",
       "      <td>for test posit i hope everi singl one feel better soon</td>\n",
       "    </tr>\n",
       "    <tr>\n",
       "      <th>1</th>\n",
       "      <td>How severe are your guys' symptoms?</td>\n",
       "      <td>I have no idea if I've got the coronavirus, or it's just a cold etc. I've got a runny nose and coughing quite a lot, and a bit of a headache. I don't want to go out in case I do have it and I give it to other people. Are your symptoms debilitating?</td>\n",
       "      <td>COVID19positive</td>\n",
       "      <td>1584358828</td>\n",
       "      <td>RocketFrasier</td>\n",
       "      <td>0</td>\n",
       "      <td>1</td>\n",
       "      <td>True</td>\n",
       "      <td>2020-03-16 04:40:28</td>\n",
       "      <td>I have no idea if I ve got the coronavirus  or it s just a cold etc  I ve got a runny nose and coughing quite a lot  and a bit of a headache  I don t want to go out in case I do have it and I give it to other people  Are your symptoms debilitating</td>\n",
       "      <td>I idea I got coronavirus cold etc I got runny nose coughing quite lot bit headache I want go case I I give people Are symptoms debilitating</td>\n",
       "      <td>i idea i got coronaviru cold etc i got runni nose cough quit lot bit headach i want go case i i give peopl are symptom debilit</td>\n",
       "    </tr>\n",
       "  </tbody>\n",
       "</table>\n",
       "</div>"
      ],
      "text/plain": [
       "                                                                                                                                                      title  \\\n",
       "0  I am constantly seeing people asking about people’s experiences so I figured now we can go to one place and stop spamming the AMA and ask Reddit’s subs.   \n",
       "1                                                                                                                       How severe are your guys' symptoms?   \n",
       "\n",
       "                                                                                                                                                                                                                                                   selftext  \\\n",
       "0                                                                                                                                                                     For those that have tested positive I hope every single one of you feels better soon!   \n",
       "1  I have no idea if I've got the coronavirus, or it's just a cold etc. I've got a runny nose and coughing quite a lot, and a bit of a headache. I don't want to go out in case I do have it and I give it to other people. Are your symptoms debilitating?   \n",
       "\n",
       "         subreddit  created_utc           author  num_comments  score  \\\n",
       "0  COVID19positive   1584148032  the1andonlyjoja           191      1   \n",
       "1  COVID19positive   1584358828    RocketFrasier             0      1   \n",
       "\n",
       "   is_self            timestamp  \\\n",
       "0     True  2020-03-13 18:07:12   \n",
       "1     True  2020-03-16 04:40:28   \n",
       "\n",
       "                                                                                                                                                                                                                                                       post  \\\n",
       "0                                                                                                                                                                      For those that have tested positive I hope every single one of you feels better soon   \n",
       "1  I have no idea if I ve got the coronavirus  or it s just a cold etc  I ve got a runny nose and coughing quite a lot  and a bit of a headache  I don t want to go out in case I do have it and I give it to other people  Are your symptoms debilitating    \n",
       "\n",
       "                                                                                                                                         post2  \\\n",
       "0                                                                                For tested positive I hope every single one feels better soon   \n",
       "1  I idea I got coronavirus cold etc I got runny nose coughing quite lot bit headache I want go case I I give people Are symptoms debilitating   \n",
       "\n",
       "                                                                                                                          stemmed  \n",
       "0                                                                          for test posit i hope everi singl one feel better soon  \n",
       "1  i idea i got coronaviru cold etc i got runni nose cough quit lot bit headach i want go case i i give peopl are symptom debilit  "
      ]
     },
     "execution_count": 6,
     "metadata": {},
     "output_type": "execute_result"
    }
   ],
   "source": [
    "df_covid19positive.head(2)"
   ]
  },
  {
   "cell_type": "code",
   "execution_count": 5,
   "id": "be82a24a",
   "metadata": {},
   "outputs": [],
   "source": [
    "df_PandemicPreps = pd.read_csv('../datasets/text_processed_PandemicPreps__Mar2020_Mar2021_v2.csv')"
   ]
  },
  {
   "cell_type": "code",
   "execution_count": 7,
   "id": "45ffc478-8953-46f3-81f4-cb49e96161d3",
   "metadata": {},
   "outputs": [
    {
     "data": {
      "text/html": [
       "<div>\n",
       "<style scoped>\n",
       "    .dataframe tbody tr th:only-of-type {\n",
       "        vertical-align: middle;\n",
       "    }\n",
       "\n",
       "    .dataframe tbody tr th {\n",
       "        vertical-align: top;\n",
       "    }\n",
       "\n",
       "    .dataframe thead th {\n",
       "        text-align: right;\n",
       "    }\n",
       "</style>\n",
       "<table border=\"1\" class=\"dataframe\">\n",
       "  <thead>\n",
       "    <tr style=\"text-align: right;\">\n",
       "      <th></th>\n",
       "      <th>title</th>\n",
       "      <th>selftext</th>\n",
       "      <th>subreddit</th>\n",
       "      <th>created_utc</th>\n",
       "      <th>author</th>\n",
       "      <th>num_comments</th>\n",
       "      <th>score</th>\n",
       "      <th>is_self</th>\n",
       "      <th>timestamp</th>\n",
       "      <th>post</th>\n",
       "      <th>post2</th>\n",
       "      <th>stemmed</th>\n",
       "    </tr>\n",
       "  </thead>\n",
       "  <tbody>\n",
       "    <tr>\n",
       "      <th>0</th>\n",
       "      <td>It's going fast in TN</td>\n",
       "      <td>Anyone in this group should know to buy now if you haven't, but for the sake of reinforcement - buy now if you haven't!  I took my under 10 aged child to Walmart today and picked up some more to add, and it is a night and day difference from 3 days ago.  Toilet paper gone.  Paper towels gone.  Lysol, down to 4 bottles.  Hand sanitizer and alcohol, gone.  Bleach was available but only a few rem...</td>\n",
       "      <td>PandemicPreps</td>\n",
       "      <td>1583021338</td>\n",
       "      <td>BeautifulBalance1</td>\n",
       "      <td>18</td>\n",
       "      <td>1</td>\n",
       "      <td>True</td>\n",
       "      <td>2020-02-29 16:08:58</td>\n",
       "      <td>Anyone in this group should know to buy now if you haven t  but for the sake of reinforcement   buy now if you haven t  I took my under    aged child to Walmart today and picked up some more to add  and it is a night and day difference from   days ago   Toilet paper gone   Paper towels gone   Lysol  down to   bottles   Hand sanitizer and alcohol  gone   Bleach was available but only a few rema...</td>\n",
       "      <td>Anyone group know buy sake reinforcement buy I took aged child Walmart today picked add night day difference days ago Toilet paper gone Paper towels gone Lysol bottles Hand sanitizer alcohol gone Bleach available remained Cold meds low Even dish gloves ransacked Hot dogs gone Flour low Didn go beans rice aisle My child said coronavirus Yes The lady checking front joke bottles shampoo condition...</td>\n",
       "      <td>anyon group know buy sake reinforc buy i took age child walmart today pick add night day differ day ago toilet paper gone paper towel gone lysol bottl hand sanit alcohol gone bleach avail remain cold med low even dish glove ransack hot dog gone flour low didn go bean rice aisl my child said coronaviru ye the ladi check front joke bottl shampoo condition i spous think overplay i taken video cou...</td>\n",
       "    </tr>\n",
       "    <tr>\n",
       "      <th>1</th>\n",
       "      <td>Don’t forget about your pets!</td>\n",
       "      <td>Amazon is running low on cat and dog food, my normals are sold out. I feel bad for the delivery guy dropping my shit off, almost 300lbs of food and liter.</td>\n",
       "      <td>PandemicPreps</td>\n",
       "      <td>1583021470</td>\n",
       "      <td>JKMSDE</td>\n",
       "      <td>12</td>\n",
       "      <td>1</td>\n",
       "      <td>True</td>\n",
       "      <td>2020-02-29 16:11:10</td>\n",
       "      <td>Amazon is running low on cat and dog food  my normals are sold out  I feel bad for the delivery guy dropping my shit off  almost    lbs of food and liter</td>\n",
       "      <td>Amazon running low cat dog food normals sold I feel bad delivery guy dropping shit almost lbs food liter</td>\n",
       "      <td>amazon run low cat dog food normal sold i feel bad deliveri guy drop shit almost lb food liter</td>\n",
       "    </tr>\n",
       "  </tbody>\n",
       "</table>\n",
       "</div>"
      ],
      "text/plain": [
       "                           title  \\\n",
       "0          It's going fast in TN   \n",
       "1  Don’t forget about your pets!   \n",
       "\n",
       "                                                                                                                                                                                                                                                                                                                                                                                                          selftext  \\\n",
       "0  Anyone in this group should know to buy now if you haven't, but for the sake of reinforcement - buy now if you haven't!  I took my under 10 aged child to Walmart today and picked up some more to add, and it is a night and day difference from 3 days ago.  Toilet paper gone.  Paper towels gone.  Lysol, down to 4 bottles.  Hand sanitizer and alcohol, gone.  Bleach was available but only a few rem...   \n",
       "1                                                                                                                                                                                                                                                       Amazon is running low on cat and dog food, my normals are sold out. I feel bad for the delivery guy dropping my shit off, almost 300lbs of food and liter.   \n",
       "\n",
       "       subreddit  created_utc             author  num_comments  score  \\\n",
       "0  PandemicPreps   1583021338  BeautifulBalance1            18      1   \n",
       "1  PandemicPreps   1583021470             JKMSDE            12      1   \n",
       "\n",
       "   is_self            timestamp  \\\n",
       "0     True  2020-02-29 16:08:58   \n",
       "1     True  2020-02-29 16:11:10   \n",
       "\n",
       "                                                                                                                                                                                                                                                                                                                                                                                                              post  \\\n",
       "0  Anyone in this group should know to buy now if you haven t  but for the sake of reinforcement   buy now if you haven t  I took my under    aged child to Walmart today and picked up some more to add  and it is a night and day difference from   days ago   Toilet paper gone   Paper towels gone   Lysol  down to   bottles   Hand sanitizer and alcohol  gone   Bleach was available but only a few rema...   \n",
       "1                                                                                                                                                                                                                                                       Amazon is running low on cat and dog food  my normals are sold out  I feel bad for the delivery guy dropping my shit off  almost    lbs of food and liter    \n",
       "\n",
       "                                                                                                                                                                                                                                                                                                                                                                                                             post2  \\\n",
       "0  Anyone group know buy sake reinforcement buy I took aged child Walmart today picked add night day difference days ago Toilet paper gone Paper towels gone Lysol bottles Hand sanitizer alcohol gone Bleach available remained Cold meds low Even dish gloves ransacked Hot dogs gone Flour low Didn go beans rice aisle My child said coronavirus Yes The lady checking front joke bottles shampoo condition...   \n",
       "1                                                                                                                                                                                                                                                                                                         Amazon running low cat dog food normals sold I feel bad delivery guy dropping shit almost lbs food liter   \n",
       "\n",
       "                                                                                                                                                                                                                                                                                                                                                                                                           stemmed  \n",
       "0  anyon group know buy sake reinforc buy i took age child walmart today pick add night day differ day ago toilet paper gone paper towel gone lysol bottl hand sanit alcohol gone bleach avail remain cold med low even dish glove ransack hot dog gone flour low didn go bean rice aisl my child said coronaviru ye the ladi check front joke bottl shampoo condition i spous think overplay i taken video cou...  \n",
       "1                                                                                                                                                                                                                                                                                                                   amazon run low cat dog food normal sold i feel bad deliveri guy drop shit almost lb food liter  "
      ]
     },
     "execution_count": 7,
     "metadata": {},
     "output_type": "execute_result"
    }
   ],
   "source": [
    "df_PandemicPreps.head(2)"
   ]
  },
  {
   "cell_type": "markdown",
   "id": "8f5cf089",
   "metadata": {},
   "source": [
    "### Concat two dataFrames"
   ]
  },
  {
   "cell_type": "code",
   "execution_count": 8,
   "id": "c0ef1614",
   "metadata": {},
   "outputs": [],
   "source": [
    "df = pd.concat([df_covid19positive,df_PandemicPreps], ignore_index=True)"
   ]
  },
  {
   "cell_type": "code",
   "execution_count": 10,
   "id": "af701b13",
   "metadata": {},
   "outputs": [
    {
     "data": {
      "text/plain": [
       "<AxesSubplot:>"
      ]
     },
     "execution_count": 10,
     "metadata": {},
     "output_type": "execute_result"
    },
    {
     "data": {
      "image/png": "[encoded data removed]",
      "text/plain": [
       "<Figure size 640x480 with 1 Axes>"
      ]
     },
     "metadata": {},
     "output_type": "display_data"
    }
   ],
   "source": [
    "df['subreddit'].value_counts(normalize=True).plot(kind='barh')"
   ]
  },
  {
   "cell_type": "code",
   "execution_count": 11,
   "id": "0fed7305",
   "metadata": {},
   "outputs": [
    {
     "data": {
      "text/plain": [
       "title            0\n",
       "selftext         0\n",
       "subreddit        0\n",
       "created_utc      0\n",
       "author           0\n",
       "num_comments     0\n",
       "score            0\n",
       "is_self          0\n",
       "timestamp        0\n",
       "post            29\n",
       "post2           66\n",
       "stemmed         66\n",
       "dtype: int64"
      ]
     },
     "execution_count": 11,
     "metadata": {},
     "output_type": "execute_result"
    }
   ],
   "source": [
    "#check nulls\n",
    "df.isnull().sum()"
   ]
  },
  {
   "cell_type": "code",
   "execution_count": 12,
   "id": "72d64cb9",
   "metadata": {},
   "outputs": [],
   "source": [
    "df.dropna(inplace=True)\n",
    "df.reset_index(drop = True, inplace = True)"
   ]
  },
  {
   "cell_type": "code",
   "execution_count": 13,
   "id": "a8da644f",
   "metadata": {
    "scrolled": true,
    "tags": []
   },
   "outputs": [
    {
     "data": {
      "text/plain": [
       "title           0\n",
       "selftext        0\n",
       "subreddit       0\n",
       "created_utc     0\n",
       "author          0\n",
       "num_comments    0\n",
       "score           0\n",
       "is_self         0\n",
       "timestamp       0\n",
       "post            0\n",
       "post2           0\n",
       "stemmed         0\n",
       "dtype: int64"
      ]
     },
     "execution_count": 13,
     "metadata": {},
     "output_type": "execute_result"
    }
   ],
   "source": [
    "#check nulls\n",
    "df.isnull().sum()"
   ]
  },
  {
   "cell_type": "code",
   "execution_count": 15,
   "id": "fb1a0621",
   "metadata": {},
   "outputs": [
    {
     "data": {
      "text/html": [
       "<div>\n",
       "<style scoped>\n",
       "    .dataframe tbody tr th:only-of-type {\n",
       "        vertical-align: middle;\n",
       "    }\n",
       "\n",
       "    .dataframe tbody tr th {\n",
       "        vertical-align: top;\n",
       "    }\n",
       "\n",
       "    .dataframe thead th {\n",
       "        text-align: right;\n",
       "    }\n",
       "</style>\n",
       "<table border=\"1\" class=\"dataframe\">\n",
       "  <thead>\n",
       "    <tr style=\"text-align: right;\">\n",
       "      <th></th>\n",
       "      <th>title</th>\n",
       "      <th>selftext</th>\n",
       "      <th>subreddit</th>\n",
       "      <th>created_utc</th>\n",
       "      <th>author</th>\n",
       "      <th>num_comments</th>\n",
       "      <th>score</th>\n",
       "      <th>is_self</th>\n",
       "      <th>timestamp</th>\n",
       "      <th>post</th>\n",
       "      <th>post2</th>\n",
       "      <th>stemmed</th>\n",
       "    </tr>\n",
       "  </thead>\n",
       "  <tbody>\n",
       "    <tr>\n",
       "      <th>0</th>\n",
       "      <td>I am constantly seeing people asking about people’s experiences so I figured now we can go to one place and stop spamming the AMA and ask Reddit’s subs.</td>\n",
       "      <td>For those that have tested positive I hope every single one of you feels better soon!</td>\n",
       "      <td>COVID19positive</td>\n",
       "      <td>1584148032</td>\n",
       "      <td>the1andonlyjoja</td>\n",
       "      <td>191</td>\n",
       "      <td>1</td>\n",
       "      <td>True</td>\n",
       "      <td>2020-03-13 18:07:12</td>\n",
       "      <td>For those that have tested positive I hope every single one of you feels better soon</td>\n",
       "      <td>For tested positive I hope every single one feels better soon</td>\n",
       "      <td>for test posit i hope everi singl one feel better soon</td>\n",
       "    </tr>\n",
       "    <tr>\n",
       "      <th>1</th>\n",
       "      <td>How severe are your guys' symptoms?</td>\n",
       "      <td>I have no idea if I've got the coronavirus, or it's just a cold etc. I've got a runny nose and coughing quite a lot, and a bit of a headache. I don't want to go out in case I do have it and I give it to other people. Are your symptoms debilitating?</td>\n",
       "      <td>COVID19positive</td>\n",
       "      <td>1584358828</td>\n",
       "      <td>RocketFrasier</td>\n",
       "      <td>0</td>\n",
       "      <td>1</td>\n",
       "      <td>True</td>\n",
       "      <td>2020-03-16 04:40:28</td>\n",
       "      <td>I have no idea if I ve got the coronavirus  or it s just a cold etc  I ve got a runny nose and coughing quite a lot  and a bit of a headache  I don t want to go out in case I do have it and I give it to other people  Are your symptoms debilitating</td>\n",
       "      <td>I idea I got coronavirus cold etc I got runny nose coughing quite lot bit headache I want go case I I give people Are symptoms debilitating</td>\n",
       "      <td>i idea i got coronaviru cold etc i got runni nose cough quit lot bit headach i want go case i i give peopl are symptom debilit</td>\n",
       "    </tr>\n",
       "    <tr>\n",
       "      <th>2</th>\n",
       "      <td>How severe are your symptoms?</td>\n",
       "      <td>I have no idea if I've got the coronavirus, or it's just a cold etc. I've got a runny nose and coughing quite a lot, and a bit of a headache. I don't want to go out in case I do have it and I give it to other people.  My symptoms feel practically the same as a normal cold/flu, other than last night where my eyes hurt a bit, so I wasn't able to sleep. Are your symptoms debilitating?</td>\n",
       "      <td>COVID19positive</td>\n",
       "      <td>1584358937</td>\n",
       "      <td>RocketFrasier</td>\n",
       "      <td>42</td>\n",
       "      <td>1</td>\n",
       "      <td>True</td>\n",
       "      <td>2020-03-16 04:42:17</td>\n",
       "      <td>I have no idea if I ve got the coronavirus  or it s just a cold etc  I ve got a runny nose and coughing quite a lot  and a bit of a headache  I don t want to go out in case I do have it and I give it to other people   My symptoms feel practically the same as a normal cold flu  other than last night where my eyes hurt a bit  so I wasn t able to sleep  Are your symptoms debilitating</td>\n",
       "      <td>I idea I got coronavirus cold etc I got runny nose coughing quite lot bit headache I want go case I I give people My symptoms feel practically normal cold flu last night eyes hurt bit I able sleep Are symptoms debilitating</td>\n",
       "      <td>i idea i got coronaviru cold etc i got runni nose cough quit lot bit headach i want go case i i give peopl my symptom feel practic normal cold flu last night eye hurt bit i abl sleep are symptom debilit</td>\n",
       "    </tr>\n",
       "  </tbody>\n",
       "</table>\n",
       "</div>"
      ],
      "text/plain": [
       "                                                                                                                                                      title  \\\n",
       "0  I am constantly seeing people asking about people’s experiences so I figured now we can go to one place and stop spamming the AMA and ask Reddit’s subs.   \n",
       "1                                                                                                                       How severe are your guys' symptoms?   \n",
       "2                                                                                                                             How severe are your symptoms?   \n",
       "\n",
       "                                                                                                                                                                                                                                                                                                                                                                                           selftext  \\\n",
       "0                                                                                                                                                                                                                                                                                                             For those that have tested positive I hope every single one of you feels better soon!   \n",
       "1                                                                                                                                          I have no idea if I've got the coronavirus, or it's just a cold etc. I've got a runny nose and coughing quite a lot, and a bit of a headache. I don't want to go out in case I do have it and I give it to other people. Are your symptoms debilitating?   \n",
       "2  I have no idea if I've got the coronavirus, or it's just a cold etc. I've got a runny nose and coughing quite a lot, and a bit of a headache. I don't want to go out in case I do have it and I give it to other people.  My symptoms feel practically the same as a normal cold/flu, other than last night where my eyes hurt a bit, so I wasn't able to sleep. Are your symptoms debilitating?   \n",
       "\n",
       "         subreddit  created_utc           author  num_comments  score  \\\n",
       "0  COVID19positive   1584148032  the1andonlyjoja           191      1   \n",
       "1  COVID19positive   1584358828    RocketFrasier             0      1   \n",
       "2  COVID19positive   1584358937    RocketFrasier            42      1   \n",
       "\n",
       "   is_self            timestamp  \\\n",
       "0     True  2020-03-13 18:07:12   \n",
       "1     True  2020-03-16 04:40:28   \n",
       "2     True  2020-03-16 04:42:17   \n",
       "\n",
       "                                                                                                                                                                                                                                                                                                                                                                                               post  \\\n",
       "0                                                                                                                                                                                                                                                                                                              For those that have tested positive I hope every single one of you feels better soon   \n",
       "1                                                                                                                                          I have no idea if I ve got the coronavirus  or it s just a cold etc  I ve got a runny nose and coughing quite a lot  and a bit of a headache  I don t want to go out in case I do have it and I give it to other people  Are your symptoms debilitating    \n",
       "2  I have no idea if I ve got the coronavirus  or it s just a cold etc  I ve got a runny nose and coughing quite a lot  and a bit of a headache  I don t want to go out in case I do have it and I give it to other people   My symptoms feel practically the same as a normal cold flu  other than last night where my eyes hurt a bit  so I wasn t able to sleep  Are your symptoms debilitating    \n",
       "\n",
       "                                                                                                                                                                                                                            post2  \\\n",
       "0                                                                                                                                                                   For tested positive I hope every single one feels better soon   \n",
       "1                                                                                     I idea I got coronavirus cold etc I got runny nose coughing quite lot bit headache I want go case I I give people Are symptoms debilitating   \n",
       "2  I idea I got coronavirus cold etc I got runny nose coughing quite lot bit headache I want go case I I give people My symptoms feel practically normal cold flu last night eyes hurt bit I able sleep Are symptoms debilitating   \n",
       "\n",
       "                                                                                                                                                                                                      stemmed  \n",
       "0                                                                                                                                                      for test posit i hope everi singl one feel better soon  \n",
       "1                                                                              i idea i got coronaviru cold etc i got runni nose cough quit lot bit headach i want go case i i give peopl are symptom debilit  \n",
       "2  i idea i got coronaviru cold etc i got runni nose cough quit lot bit headach i want go case i i give peopl my symptom feel practic normal cold flu last night eye hurt bit i abl sleep are symptom debilit  "
      ]
     },
     "execution_count": 15,
     "metadata": {},
     "output_type": "execute_result"
    }
   ],
   "source": [
    "df.head(3)"
   ]
  },
  {
   "cell_type": "code",
   "execution_count": 16,
   "id": "cf02bc8d",
   "metadata": {},
   "outputs": [
    {
     "data": {
      "text/plain": [
       "COVID19positive    0.929298\n",
       "PandemicPreps      0.070702\n",
       "Name: subreddit, dtype: float64"
      ]
     },
     "execution_count": 16,
     "metadata": {},
     "output_type": "execute_result"
    }
   ],
   "source": [
    "df['subreddit'].value_counts(normalize=True)"
   ]
  },
  {
   "cell_type": "markdown",
   "id": "36b99976",
   "metadata": {},
   "source": [
    "# Assign subredit number"
   ]
  },
  {
   "cell_type": "code",
   "execution_count": 17,
   "id": "636e3aaa",
   "metadata": {},
   "outputs": [],
   "source": [
    "df['is_Covid19positive'] = df['subreddit'].map(lambda x : 1 if x == 'COVID19positive' else 0)"
   ]
  },
  {
   "cell_type": "code",
   "execution_count": 18,
   "id": "857095b1",
   "metadata": {},
   "outputs": [
    {
     "data": {
      "text/plain": [
       "1    0.929298\n",
       "0    0.070702\n",
       "Name: is_Covid19positive, dtype: float64"
      ]
     },
     "execution_count": 18,
     "metadata": {},
     "output_type": "execute_result"
    }
   ],
   "source": [
    "df['is_Covid19positive'].value_counts(normalize=True)"
   ]
  },
  {
   "cell_type": "code",
   "execution_count": 19,
   "id": "81a76b47",
   "metadata": {},
   "outputs": [
    {
     "data": {
      "text/html": [
       "<div>\n",
       "<style scoped>\n",
       "    .dataframe tbody tr th:only-of-type {\n",
       "        vertical-align: middle;\n",
       "    }\n",
       "\n",
       "    .dataframe tbody tr th {\n",
       "        vertical-align: top;\n",
       "    }\n",
       "\n",
       "    .dataframe thead th {\n",
       "        text-align: right;\n",
       "    }\n",
       "</style>\n",
       "<table border=\"1\" class=\"dataframe\">\n",
       "  <thead>\n",
       "    <tr style=\"text-align: right;\">\n",
       "      <th></th>\n",
       "      <th>title</th>\n",
       "      <th>selftext</th>\n",
       "      <th>subreddit</th>\n",
       "      <th>created_utc</th>\n",
       "      <th>author</th>\n",
       "      <th>num_comments</th>\n",
       "      <th>score</th>\n",
       "      <th>is_self</th>\n",
       "      <th>timestamp</th>\n",
       "      <th>post</th>\n",
       "      <th>post2</th>\n",
       "      <th>stemmed</th>\n",
       "      <th>is_Covid19positive</th>\n",
       "    </tr>\n",
       "  </thead>\n",
       "  <tbody>\n",
       "    <tr>\n",
       "      <th>0</th>\n",
       "      <td>I am constantly seeing people asking about people’s experiences so I figured now we can go to one place and stop spamming the AMA and ask Reddit’s subs.</td>\n",
       "      <td>For those that have tested positive I hope every single one of you feels better soon!</td>\n",
       "      <td>COVID19positive</td>\n",
       "      <td>1584148032</td>\n",
       "      <td>the1andonlyjoja</td>\n",
       "      <td>191</td>\n",
       "      <td>1</td>\n",
       "      <td>True</td>\n",
       "      <td>2020-03-13 18:07:12</td>\n",
       "      <td>For those that have tested positive I hope every single one of you feels better soon</td>\n",
       "      <td>For tested positive I hope every single one feels better soon</td>\n",
       "      <td>for test posit i hope everi singl one feel better soon</td>\n",
       "      <td>1</td>\n",
       "    </tr>\n",
       "    <tr>\n",
       "      <th>1</th>\n",
       "      <td>How severe are your guys' symptoms?</td>\n",
       "      <td>I have no idea if I've got the coronavirus, or it's just a cold etc. I've got a runny nose and coughing quite a lot, and a bit of a headache. I don't want to go out in case I do have it and I give it to other people. Are your symptoms debilitating?</td>\n",
       "      <td>COVID19positive</td>\n",
       "      <td>1584358828</td>\n",
       "      <td>RocketFrasier</td>\n",
       "      <td>0</td>\n",
       "      <td>1</td>\n",
       "      <td>True</td>\n",
       "      <td>2020-03-16 04:40:28</td>\n",
       "      <td>I have no idea if I ve got the coronavirus  or it s just a cold etc  I ve got a runny nose and coughing quite a lot  and a bit of a headache  I don t want to go out in case I do have it and I give it to other people  Are your symptoms debilitating</td>\n",
       "      <td>I idea I got coronavirus cold etc I got runny nose coughing quite lot bit headache I want go case I I give people Are symptoms debilitating</td>\n",
       "      <td>i idea i got coronaviru cold etc i got runni nose cough quit lot bit headach i want go case i i give peopl are symptom debilit</td>\n",
       "      <td>1</td>\n",
       "    </tr>\n",
       "    <tr>\n",
       "      <th>2</th>\n",
       "      <td>How severe are your symptoms?</td>\n",
       "      <td>I have no idea if I've got the coronavirus, or it's just a cold etc. I've got a runny nose and coughing quite a lot, and a bit of a headache. I don't want to go out in case I do have it and I give it to other people.  My symptoms feel practically the same as a normal cold/flu, other than last night where my eyes hurt a bit, so I wasn't able to sleep. Are your symptoms debilitating?</td>\n",
       "      <td>COVID19positive</td>\n",
       "      <td>1584358937</td>\n",
       "      <td>RocketFrasier</td>\n",
       "      <td>42</td>\n",
       "      <td>1</td>\n",
       "      <td>True</td>\n",
       "      <td>2020-03-16 04:42:17</td>\n",
       "      <td>I have no idea if I ve got the coronavirus  or it s just a cold etc  I ve got a runny nose and coughing quite a lot  and a bit of a headache  I don t want to go out in case I do have it and I give it to other people   My symptoms feel practically the same as a normal cold flu  other than last night where my eyes hurt a bit  so I wasn t able to sleep  Are your symptoms debilitating</td>\n",
       "      <td>I idea I got coronavirus cold etc I got runny nose coughing quite lot bit headache I want go case I I give people My symptoms feel practically normal cold flu last night eyes hurt bit I able sleep Are symptoms debilitating</td>\n",
       "      <td>i idea i got coronaviru cold etc i got runni nose cough quit lot bit headach i want go case i i give peopl my symptom feel practic normal cold flu last night eye hurt bit i abl sleep are symptom debilit</td>\n",
       "      <td>1</td>\n",
       "    </tr>\n",
       "  </tbody>\n",
       "</table>\n",
       "</div>"
      ],
      "text/plain": [
       "                                                                                                                                                      title  \\\n",
       "0  I am constantly seeing people asking about people’s experiences so I figured now we can go to one place and stop spamming the AMA and ask Reddit’s subs.   \n",
       "1                                                                                                                       How severe are your guys' symptoms?   \n",
       "2                                                                                                                             How severe are your symptoms?   \n",
       "\n",
       "                                                                                                                                                                                                                                                                                                                                                                                           selftext  \\\n",
       "0                                                                                                                                                                                                                                                                                                             For those that have tested positive I hope every single one of you feels better soon!   \n",
       "1                                                                                                                                          I have no idea if I've got the coronavirus, or it's just a cold etc. I've got a runny nose and coughing quite a lot, and a bit of a headache. I don't want to go out in case I do have it and I give it to other people. Are your symptoms debilitating?   \n",
       "2  I have no idea if I've got the coronavirus, or it's just a cold etc. I've got a runny nose and coughing quite a lot, and a bit of a headache. I don't want to go out in case I do have it and I give it to other people.  My symptoms feel practically the same as a normal cold/flu, other than last night where my eyes hurt a bit, so I wasn't able to sleep. Are your symptoms debilitating?   \n",
       "\n",
       "         subreddit  created_utc           author  num_comments  score  \\\n",
       "0  COVID19positive   1584148032  the1andonlyjoja           191      1   \n",
       "1  COVID19positive   1584358828    RocketFrasier             0      1   \n",
       "2  COVID19positive   1584358937    RocketFrasier            42      1   \n",
       "\n",
       "   is_self            timestamp  \\\n",
       "0     True  2020-03-13 18:07:12   \n",
       "1     True  2020-03-16 04:40:28   \n",
       "2     True  2020-03-16 04:42:17   \n",
       "\n",
       "                                                                                                                                                                                                                                                                                                                                                                                               post  \\\n",
       "0                                                                                                                                                                                                                                                                                                              For those that have tested positive I hope every single one of you feels better soon   \n",
       "1                                                                                                                                          I have no idea if I ve got the coronavirus  or it s just a cold etc  I ve got a runny nose and coughing quite a lot  and a bit of a headache  I don t want to go out in case I do have it and I give it to other people  Are your symptoms debilitating    \n",
       "2  I have no idea if I ve got the coronavirus  or it s just a cold etc  I ve got a runny nose and coughing quite a lot  and a bit of a headache  I don t want to go out in case I do have it and I give it to other people   My symptoms feel practically the same as a normal cold flu  other than last night where my eyes hurt a bit  so I wasn t able to sleep  Are your symptoms debilitating    \n",
       "\n",
       "                                                                                                                                                                                                                            post2  \\\n",
       "0                                                                                                                                                                   For tested positive I hope every single one feels better soon   \n",
       "1                                                                                     I idea I got coronavirus cold etc I got runny nose coughing quite lot bit headache I want go case I I give people Are symptoms debilitating   \n",
       "2  I idea I got coronavirus cold etc I got runny nose coughing quite lot bit headache I want go case I I give people My symptoms feel practically normal cold flu last night eyes hurt bit I able sleep Are symptoms debilitating   \n",
       "\n",
       "                                                                                                                                                                                                      stemmed  \\\n",
       "0                                                                                                                                                      for test posit i hope everi singl one feel better soon   \n",
       "1                                                                              i idea i got coronaviru cold etc i got runni nose cough quit lot bit headach i want go case i i give peopl are symptom debilit   \n",
       "2  i idea i got coronaviru cold etc i got runni nose cough quit lot bit headach i want go case i i give peopl my symptom feel practic normal cold flu last night eye hurt bit i abl sleep are symptom debilit   \n",
       "\n",
       "   is_Covid19positive  \n",
       "0                   1  \n",
       "1                   1  \n",
       "2                   1  "
      ]
     },
     "execution_count": 19,
     "metadata": {},
     "output_type": "execute_result"
    }
   ],
   "source": [
    "df.head(3)"
   ]
  },
  {
   "cell_type": "code",
   "execution_count": 20,
   "id": "b25ea45d",
   "metadata": {},
   "outputs": [],
   "source": [
    "df.to_csv('../datasets/text_processed_all_posts_combined_imbalanced_v2.csv', columns=df.columns, index_label=False)"
   ]
  },
  {
   "cell_type": "code",
   "execution_count": 23,
   "id": "feceb87f-a810-4858-95de-aadcd999e003",
   "metadata": {},
   "outputs": [
    {
     "data": {
      "text/html": [
       "<div>\n",
       "<style scoped>\n",
       "    .dataframe tbody tr th:only-of-type {\n",
       "        vertical-align: middle;\n",
       "    }\n",
       "\n",
       "    .dataframe tbody tr th {\n",
       "        vertical-align: top;\n",
       "    }\n",
       "\n",
       "    .dataframe thead th {\n",
       "        text-align: right;\n",
       "    }\n",
       "</style>\n",
       "<table border=\"1\" class=\"dataframe\">\n",
       "  <thead>\n",
       "    <tr style=\"text-align: right;\">\n",
       "      <th></th>\n",
       "      <th>title</th>\n",
       "      <th>selftext</th>\n",
       "      <th>subreddit</th>\n",
       "      <th>created_utc</th>\n",
       "      <th>author</th>\n",
       "      <th>num_comments</th>\n",
       "      <th>score</th>\n",
       "      <th>is_self</th>\n",
       "      <th>timestamp</th>\n",
       "      <th>post</th>\n",
       "      <th>post2</th>\n",
       "      <th>stemmed</th>\n",
       "      <th>is_Covid19positive</th>\n",
       "    </tr>\n",
       "  </thead>\n",
       "  <tbody>\n",
       "    <tr>\n",
       "      <th>0</th>\n",
       "      <td>I am constantly seeing people asking about people’s experiences so I figured now we can go to one place and stop spamming the AMA and ask Reddit’s subs.</td>\n",
       "      <td>For those that have tested positive I hope every single one of you feels better soon!</td>\n",
       "      <td>COVID19positive</td>\n",
       "      <td>1584148032</td>\n",
       "      <td>the1andonlyjoja</td>\n",
       "      <td>191</td>\n",
       "      <td>1</td>\n",
       "      <td>True</td>\n",
       "      <td>2020-03-13 18:07:12</td>\n",
       "      <td>For those that have tested positive I hope every single one of you feels better soon</td>\n",
       "      <td>For tested positive I hope every single one feels better soon</td>\n",
       "      <td>for test posit i hope everi singl one feel better soon</td>\n",
       "      <td>1</td>\n",
       "    </tr>\n",
       "    <tr>\n",
       "      <th>1</th>\n",
       "      <td>How severe are your guys' symptoms?</td>\n",
       "      <td>I have no idea if I've got the coronavirus, or it's just a cold etc. I've got a runny nose and coughing quite a lot, and a bit of a headache. I don't want to go out in case I do have it and I give it to other people. Are your symptoms debilitating?</td>\n",
       "      <td>COVID19positive</td>\n",
       "      <td>1584358828</td>\n",
       "      <td>RocketFrasier</td>\n",
       "      <td>0</td>\n",
       "      <td>1</td>\n",
       "      <td>True</td>\n",
       "      <td>2020-03-16 04:40:28</td>\n",
       "      <td>I have no idea if I ve got the coronavirus  or it s just a cold etc  I ve got a runny nose and coughing quite a lot  and a bit of a headache  I don t want to go out in case I do have it and I give it to other people  Are your symptoms debilitating</td>\n",
       "      <td>I idea I got coronavirus cold etc I got runny nose coughing quite lot bit headache I want go case I I give people Are symptoms debilitating</td>\n",
       "      <td>i idea i got coronaviru cold etc i got runni nose cough quit lot bit headach i want go case i i give peopl are symptom debilit</td>\n",
       "      <td>1</td>\n",
       "    </tr>\n",
       "    <tr>\n",
       "      <th>2</th>\n",
       "      <td>How severe are your symptoms?</td>\n",
       "      <td>I have no idea if I've got the coronavirus, or it's just a cold etc. I've got a runny nose and coughing quite a lot, and a bit of a headache. I don't want to go out in case I do have it and I give it to other people.  My symptoms feel practically the same as a normal cold/flu, other than last night where my eyes hurt a bit, so I wasn't able to sleep. Are your symptoms debilitating?</td>\n",
       "      <td>COVID19positive</td>\n",
       "      <td>1584358937</td>\n",
       "      <td>RocketFrasier</td>\n",
       "      <td>42</td>\n",
       "      <td>1</td>\n",
       "      <td>True</td>\n",
       "      <td>2020-03-16 04:42:17</td>\n",
       "      <td>I have no idea if I ve got the coronavirus  or it s just a cold etc  I ve got a runny nose and coughing quite a lot  and a bit of a headache  I don t want to go out in case I do have it and I give it to other people   My symptoms feel practically the same as a normal cold flu  other than last night where my eyes hurt a bit  so I wasn t able to sleep  Are your symptoms debilitating</td>\n",
       "      <td>I idea I got coronavirus cold etc I got runny nose coughing quite lot bit headache I want go case I I give people My symptoms feel practically normal cold flu last night eyes hurt bit I able sleep Are symptoms debilitating</td>\n",
       "      <td>i idea i got coronaviru cold etc i got runni nose cough quit lot bit headach i want go case i i give peopl my symptom feel practic normal cold flu last night eye hurt bit i abl sleep are symptom debilit</td>\n",
       "      <td>1</td>\n",
       "    </tr>\n",
       "  </tbody>\n",
       "</table>\n",
       "</div>"
      ],
      "text/plain": [
       "                                                                                                                                                      title  \\\n",
       "0  I am constantly seeing people asking about people’s experiences so I figured now we can go to one place and stop spamming the AMA and ask Reddit’s subs.   \n",
       "1                                                                                                                       How severe are your guys' symptoms?   \n",
       "2                                                                                                                             How severe are your symptoms?   \n",
       "\n",
       "                                                                                                                                                                                                                                                                                                                                                                                           selftext  \\\n",
       "0                                                                                                                                                                                                                                                                                                             For those that have tested positive I hope every single one of you feels better soon!   \n",
       "1                                                                                                                                          I have no idea if I've got the coronavirus, or it's just a cold etc. I've got a runny nose and coughing quite a lot, and a bit of a headache. I don't want to go out in case I do have it and I give it to other people. Are your symptoms debilitating?   \n",
       "2  I have no idea if I've got the coronavirus, or it's just a cold etc. I've got a runny nose and coughing quite a lot, and a bit of a headache. I don't want to go out in case I do have it and I give it to other people.  My symptoms feel practically the same as a normal cold/flu, other than last night where my eyes hurt a bit, so I wasn't able to sleep. Are your symptoms debilitating?   \n",
       "\n",
       "         subreddit  created_utc           author  num_comments  score  \\\n",
       "0  COVID19positive   1584148032  the1andonlyjoja           191      1   \n",
       "1  COVID19positive   1584358828    RocketFrasier             0      1   \n",
       "2  COVID19positive   1584358937    RocketFrasier            42      1   \n",
       "\n",
       "   is_self            timestamp  \\\n",
       "0     True  2020-03-13 18:07:12   \n",
       "1     True  2020-03-16 04:40:28   \n",
       "2     True  2020-03-16 04:42:17   \n",
       "\n",
       "                                                                                                                                                                                                                                                                                                                                                                                               post  \\\n",
       "0                                                                                                                                                                                                                                                                                                              For those that have tested positive I hope every single one of you feels better soon   \n",
       "1                                                                                                                                          I have no idea if I ve got the coronavirus  or it s just a cold etc  I ve got a runny nose and coughing quite a lot  and a bit of a headache  I don t want to go out in case I do have it and I give it to other people  Are your symptoms debilitating    \n",
       "2  I have no idea if I ve got the coronavirus  or it s just a cold etc  I ve got a runny nose and coughing quite a lot  and a bit of a headache  I don t want to go out in case I do have it and I give it to other people   My symptoms feel practically the same as a normal cold flu  other than last night where my eyes hurt a bit  so I wasn t able to sleep  Are your symptoms debilitating    \n",
       "\n",
       "                                                                                                                                                                                                                            post2  \\\n",
       "0                                                                                                                                                                   For tested positive I hope every single one feels better soon   \n",
       "1                                                                                     I idea I got coronavirus cold etc I got runny nose coughing quite lot bit headache I want go case I I give people Are symptoms debilitating   \n",
       "2  I idea I got coronavirus cold etc I got runny nose coughing quite lot bit headache I want go case I I give people My symptoms feel practically normal cold flu last night eyes hurt bit I able sleep Are symptoms debilitating   \n",
       "\n",
       "                                                                                                                                                                                                      stemmed  \\\n",
       "0                                                                                                                                                      for test posit i hope everi singl one feel better soon   \n",
       "1                                                                              i idea i got coronaviru cold etc i got runni nose cough quit lot bit headach i want go case i i give peopl are symptom debilit   \n",
       "2  i idea i got coronaviru cold etc i got runni nose cough quit lot bit headach i want go case i i give peopl my symptom feel practic normal cold flu last night eye hurt bit i abl sleep are symptom debilit   \n",
       "\n",
       "   is_Covid19positive  \n",
       "0                   1  \n",
       "1                   1  \n",
       "2                   1  "
      ]
     },
     "execution_count": 23,
     "metadata": {},
     "output_type": "execute_result"
    }
   ],
   "source": [
    "# check the saved file\n",
    "pd.read_csv('../datasets/text_processed_all_posts_combined_imbalanced_v2.csv').head(3)"
   ]
  }
 ],
 "metadata": {
  "kernelspec": {
   "display_name": "Python 3 (ipykernel)",
   "language": "python",
   "name": "python3"
  },
  "language_info": {
   "codemirror_mode": {
    "name": "ipython",
    "version": 3
   },
   "file_extension": ".py",
   "mimetype": "text/x-python",
   "name": "python",
   "nbconvert_exporter": "python",
   "pygments_lexer": "ipython3",
   "version": "3.9.5"
  }
 },
 "nbformat": 4,
 "nbformat_minor": 5
}
