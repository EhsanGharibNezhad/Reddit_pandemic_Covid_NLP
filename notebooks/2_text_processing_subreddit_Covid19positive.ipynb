{
 "cells": [
  {
   "cell_type": "markdown",
   "id": "80eef07c",
   "metadata": {},
   "source": [
    "# Text Processing: Covid19 Positive\n",
    "### Author: Ehsan Gharib-Nezhad\n"
   ]
  },
  {
   "cell_type": "markdown",
   "id": "64439d7c",
   "metadata": {},
   "source": [
    "<!-- Let's review some of the pre-processing steps for text data:\n",
    "\n",
    "- Remove special characters\n",
    "- Tokenizing\n",
    "- Lemmatizing/Stemming\n",
    "- Stop word removal\n",
    "\n",
    "`CountVectorizer` actually can do a lot of this for us! It is important to keep these steps in mind in case you want to change the default methods used for each of these. -->"
   ]
  },
  {
   "cell_type": "code",
   "execution_count": 1,
   "id": "0a07c19a",
   "metadata": {},
   "outputs": [],
   "source": [
    "import sys  \n",
    "sys.path.insert(0, '../codes/')\n",
    "\n",
    "from mycode import *\n",
    "\n",
    "# Load Libraries\n",
    "from myfunctions import *\n"
   ]
  },
  {
   "cell_type": "code",
   "execution_count": 2,
   "id": "ea75fcb8",
   "metadata": {},
   "outputs": [],
   "source": [
    "# Load datasets\n",
    "df = pd.read_csv('../datasets/preprocessed_covid19positive_reddit_LAST.csv',index_col=0)"
   ]
  },
  {
   "cell_type": "code",
   "execution_count": 3,
   "id": "b558f616",
   "metadata": {},
   "outputs": [
    {
     "data": {
      "text/html": [
       "<div>\n",
       "<style scoped>\n",
       "    .dataframe tbody tr th:only-of-type {\n",
       "        vertical-align: middle;\n",
       "    }\n",
       "\n",
       "    .dataframe tbody tr th {\n",
       "        vertical-align: top;\n",
       "    }\n",
       "\n",
       "    .dataframe thead th {\n",
       "        text-align: right;\n",
       "    }\n",
       "</style>\n",
       "<table border=\"1\" class=\"dataframe\">\n",
       "  <thead>\n",
       "    <tr style=\"text-align: right;\">\n",
       "      <th></th>\n",
       "      <th>title</th>\n",
       "      <th>selftext</th>\n",
       "      <th>subreddit</th>\n",
       "      <th>created_utc</th>\n",
       "      <th>author</th>\n",
       "      <th>num_comments</th>\n",
       "      <th>score</th>\n",
       "      <th>is_self</th>\n",
       "      <th>timestamp</th>\n",
       "    </tr>\n",
       "  </thead>\n",
       "  <tbody>\n",
       "    <tr>\n",
       "      <th>0</th>\n",
       "      <td>I am constantly seeing people asking about people’s experiences so I figured now we can go to one place and stop spamming the AMA and ask Reddit’s subs.</td>\n",
       "      <td>For those that have tested positive I hope every single one of you feels better soon!</td>\n",
       "      <td>COVID19positive</td>\n",
       "      <td>1584148032</td>\n",
       "      <td>the1andonlyjoja</td>\n",
       "      <td>191</td>\n",
       "      <td>1</td>\n",
       "      <td>True</td>\n",
       "      <td>2020-03-13 18:07:12</td>\n",
       "    </tr>\n",
       "    <tr>\n",
       "      <th>1</th>\n",
       "      <td>How severe are your guys' symptoms?</td>\n",
       "      <td>I have no idea if I've got the coronavirus, or it's just a cold etc. I've got a runny nose and coughing quite a lot, and a bit of a headache. I don't want to go out in case I do have it and I give it to other people. Are your symptoms debilitating?</td>\n",
       "      <td>COVID19positive</td>\n",
       "      <td>1584358828</td>\n",
       "      <td>RocketFrasier</td>\n",
       "      <td>0</td>\n",
       "      <td>1</td>\n",
       "      <td>True</td>\n",
       "      <td>2020-03-16 04:40:28</td>\n",
       "    </tr>\n",
       "    <tr>\n",
       "      <th>2</th>\n",
       "      <td>How severe are your symptoms?</td>\n",
       "      <td>I have no idea if I've got the coronavirus, or it's just a cold etc. I've got a runny nose and coughing quite a lot, and a bit of a headache. I don't want to go out in case I do have it and I give it to other people.  My symptoms feel practically the same as a normal cold/flu, other than last night where my eyes hurt a bit, so I wasn't able to sleep. Are your symptoms debilitating?</td>\n",
       "      <td>COVID19positive</td>\n",
       "      <td>1584358937</td>\n",
       "      <td>RocketFrasier</td>\n",
       "      <td>42</td>\n",
       "      <td>1</td>\n",
       "      <td>True</td>\n",
       "      <td>2020-03-16 04:42:17</td>\n",
       "    </tr>\n",
       "    <tr>\n",
       "      <th>3</th>\n",
       "      <td>Shortness of breath as first symptom?</td>\n",
       "      <td>I live in a Canadian province with only 3 presumed cases, all related to travel. I haven’t travelled outside my city, and haven’t been in contact with anyone who has a known case of covid19. However, 11 days ago I was interacting with someone who travelled from the US and had been travelling in international airports. \\n\\nI’m 21F and feel like I’m experiencing shortness of breath, but unsure b...</td>\n",
       "      <td>COVID19positive</td>\n",
       "      <td>1584375181</td>\n",
       "      <td>_haligirl98_</td>\n",
       "      <td>77</td>\n",
       "      <td>1</td>\n",
       "      <td>True</td>\n",
       "      <td>2020-03-16 09:13:01</td>\n",
       "    </tr>\n",
       "    <tr>\n",
       "      <th>4</th>\n",
       "      <td>I need advice, please!</td>\n",
       "      <td>Yesterday I woke up and noticed I had a shortness of breath a few hours after waking up. At work I went home early because I felt weak/tired. \\n\\nThis morning, I don’t feel as weak anymore, but I still have the shortness of breath and slight chest pain. Could this be allergies? Did any of you have these symptoms?\\n\\nI called my doctors and they will not test me unless I have a cough with a fev...</td>\n",
       "      <td>COVID19positive</td>\n",
       "      <td>1584382909</td>\n",
       "      <td>monkcell</td>\n",
       "      <td>11</td>\n",
       "      <td>2</td>\n",
       "      <td>True</td>\n",
       "      <td>2020-03-16 11:21:49</td>\n",
       "    </tr>\n",
       "  </tbody>\n",
       "</table>\n",
       "</div>"
      ],
      "text/plain": [
       "                                                                                                                                                      title  \\\n",
       "0  I am constantly seeing people asking about people’s experiences so I figured now we can go to one place and stop spamming the AMA and ask Reddit’s subs.   \n",
       "1                                                                                                                       How severe are your guys' symptoms?   \n",
       "2                                                                                                                             How severe are your symptoms?   \n",
       "3                                                                                                                     Shortness of breath as first symptom?   \n",
       "4                                                                                                                                    I need advice, please!   \n",
       "\n",
       "                                                                                                                                                                                                                                                                                                                                                                                                          selftext  \\\n",
       "0                                                                                                                                                                                                                                                                                                                            For those that have tested positive I hope every single one of you feels better soon!   \n",
       "1                                                                                                                                                         I have no idea if I've got the coronavirus, or it's just a cold etc. I've got a runny nose and coughing quite a lot, and a bit of a headache. I don't want to go out in case I do have it and I give it to other people. Are your symptoms debilitating?   \n",
       "2                 I have no idea if I've got the coronavirus, or it's just a cold etc. I've got a runny nose and coughing quite a lot, and a bit of a headache. I don't want to go out in case I do have it and I give it to other people.  My symptoms feel practically the same as a normal cold/flu, other than last night where my eyes hurt a bit, so I wasn't able to sleep. Are your symptoms debilitating?   \n",
       "3  I live in a Canadian province with only 3 presumed cases, all related to travel. I haven’t travelled outside my city, and haven’t been in contact with anyone who has a known case of covid19. However, 11 days ago I was interacting with someone who travelled from the US and had been travelling in international airports. \\n\\nI’m 21F and feel like I’m experiencing shortness of breath, but unsure b...   \n",
       "4  Yesterday I woke up and noticed I had a shortness of breath a few hours after waking up. At work I went home early because I felt weak/tired. \\n\\nThis morning, I don’t feel as weak anymore, but I still have the shortness of breath and slight chest pain. Could this be allergies? Did any of you have these symptoms?\\n\\nI called my doctors and they will not test me unless I have a cough with a fev...   \n",
       "\n",
       "         subreddit  created_utc           author  num_comments  score  \\\n",
       "0  COVID19positive   1584148032  the1andonlyjoja           191      1   \n",
       "1  COVID19positive   1584358828    RocketFrasier             0      1   \n",
       "2  COVID19positive   1584358937    RocketFrasier            42      1   \n",
       "3  COVID19positive   1584375181     _haligirl98_            77      1   \n",
       "4  COVID19positive   1584382909         monkcell            11      2   \n",
       "\n",
       "   is_self            timestamp  \n",
       "0     True  2020-03-13 18:07:12  \n",
       "1     True  2020-03-16 04:40:28  \n",
       "2     True  2020-03-16 04:42:17  \n",
       "3     True  2020-03-16 09:13:01  \n",
       "4     True  2020-03-16 11:21:49  "
      ]
     },
     "execution_count": 3,
     "metadata": {},
     "output_type": "execute_result"
    }
   ],
   "source": [
    "df.head()"
   ]
  },
  {
   "cell_type": "markdown",
   "id": "d6fc2aeb",
   "metadata": {},
   "source": [
    "### Data shape"
   ]
  },
  {
   "cell_type": "code",
   "execution_count": 4,
   "id": "6d5728a6",
   "metadata": {},
   "outputs": [
    {
     "data": {
      "text/plain": [
       "(30815, 9)"
      ]
     },
     "execution_count": 4,
     "metadata": {},
     "output_type": "execute_result"
    }
   ],
   "source": [
    "df.shape"
   ]
  },
  {
   "cell_type": "markdown",
   "id": "3368b015-3faa-4b2c-8f33-4369a92d5bbf",
   "metadata": {},
   "source": [
    "### Histogram distribusion of number of words per post"
   ]
  },
  {
   "cell_type": "code",
   "execution_count": 5,
   "id": "c1eb905e-9b57-49ce-8422-78d3b9f18d54",
   "metadata": {},
   "outputs": [
    {
     "data": {
      "image/png": "[encoded data removed]",
      "text/plain": [
       "<Figure size 640x480 with 1 Axes>"
      ]
     },
     "metadata": {},
     "output_type": "display_data"
    }
   ],
   "source": [
    "df['selftext'].str.len().plot(kind='hist', \n",
    "                              bins=30, \n",
    "                              logy=True,\n",
    "                              title= 'Distribution of word numbers Vs. post');                 "
   ]
  },
  {
   "cell_type": "markdown",
   "id": "b9b12e0d-f502-455c-88c5-5db36fa667b1",
   "metadata": {},
   "source": [
    "### Number of total words"
   ]
  },
  {
   "cell_type": "code",
   "execution_count": 6,
   "id": "cd8e4d79",
   "metadata": {},
   "outputs": [
    {
     "data": {
      "text/plain": [
       "23208602"
      ]
     },
     "execution_count": 6,
     "metadata": {},
     "output_type": "execute_result"
    }
   ],
   "source": [
    "df['selftext'].str.len().sum()"
   ]
  },
  {
   "cell_type": "markdown",
   "id": "f329171d",
   "metadata": {},
   "source": [
    "### Drop rows with selftext equal '[removed]'\n",
    "Posts with null texts has the '[removed]' keyword. we make sure to not having them in our models and delete them in this step "
   ]
  },
  {
   "cell_type": "code",
   "execution_count": 7,
   "id": "7441be00",
   "metadata": {},
   "outputs": [
    {
     "name": "stdout",
     "output_type": "stream",
     "text": [
      "percentage of rows with '[removed]' word:       0.0%\n"
     ]
    }
   ],
   "source": [
    "# percentage of rows with \"[removed]\" word\n",
    "print(f\"percentage of rows with '[removed]' word: \\\n",
    "      {np.round(len(df[df['selftext']=='[removed]'])*100/len(df),2)}%\")"
   ]
  },
  {
   "cell_type": "code",
   "execution_count": 8,
   "id": "4c507612",
   "metadata": {},
   "outputs": [],
   "source": [
    "# remove all rows with selftext = \"[removed]\"\n",
    "df.drop(index=df[df['selftext']=='[removed]'].index, inplace=True)"
   ]
  },
  {
   "cell_type": "code",
   "execution_count": 9,
   "id": "06109be2",
   "metadata": {},
   "outputs": [],
   "source": [
    "df.reset_index(drop=True, inplace=True)"
   ]
  },
  {
   "cell_type": "code",
   "execution_count": 10,
   "id": "6c2b4bfd",
   "metadata": {},
   "outputs": [
    {
     "data": {
      "text/html": [
       "<div>\n",
       "<style scoped>\n",
       "    .dataframe tbody tr th:only-of-type {\n",
       "        vertical-align: middle;\n",
       "    }\n",
       "\n",
       "    .dataframe tbody tr th {\n",
       "        vertical-align: top;\n",
       "    }\n",
       "\n",
       "    .dataframe thead th {\n",
       "        text-align: right;\n",
       "    }\n",
       "</style>\n",
       "<table border=\"1\" class=\"dataframe\">\n",
       "  <thead>\n",
       "    <tr style=\"text-align: right;\">\n",
       "      <th></th>\n",
       "      <th>title</th>\n",
       "      <th>selftext</th>\n",
       "      <th>subreddit</th>\n",
       "      <th>created_utc</th>\n",
       "      <th>author</th>\n",
       "      <th>num_comments</th>\n",
       "      <th>score</th>\n",
       "      <th>is_self</th>\n",
       "      <th>timestamp</th>\n",
       "    </tr>\n",
       "  </thead>\n",
       "  <tbody>\n",
       "    <tr>\n",
       "      <th>0</th>\n",
       "      <td>I am constantly seeing people asking about people’s experiences so I figured now we can go to one place and stop spamming the AMA and ask Reddit’s subs.</td>\n",
       "      <td>For those that have tested positive I hope every single one of you feels better soon!</td>\n",
       "      <td>COVID19positive</td>\n",
       "      <td>1584148032</td>\n",
       "      <td>the1andonlyjoja</td>\n",
       "      <td>191</td>\n",
       "      <td>1</td>\n",
       "      <td>True</td>\n",
       "      <td>2020-03-13 18:07:12</td>\n",
       "    </tr>\n",
       "    <tr>\n",
       "      <th>1</th>\n",
       "      <td>How severe are your guys' symptoms?</td>\n",
       "      <td>I have no idea if I've got the coronavirus, or it's just a cold etc. I've got a runny nose and coughing quite a lot, and a bit of a headache. I don't want to go out in case I do have it and I give it to other people. Are your symptoms debilitating?</td>\n",
       "      <td>COVID19positive</td>\n",
       "      <td>1584358828</td>\n",
       "      <td>RocketFrasier</td>\n",
       "      <td>0</td>\n",
       "      <td>1</td>\n",
       "      <td>True</td>\n",
       "      <td>2020-03-16 04:40:28</td>\n",
       "    </tr>\n",
       "    <tr>\n",
       "      <th>2</th>\n",
       "      <td>How severe are your symptoms?</td>\n",
       "      <td>I have no idea if I've got the coronavirus, or it's just a cold etc. I've got a runny nose and coughing quite a lot, and a bit of a headache. I don't want to go out in case I do have it and I give it to other people.  My symptoms feel practically the same as a normal cold/flu, other than last night where my eyes hurt a bit, so I wasn't able to sleep. Are your symptoms debilitating?</td>\n",
       "      <td>COVID19positive</td>\n",
       "      <td>1584358937</td>\n",
       "      <td>RocketFrasier</td>\n",
       "      <td>42</td>\n",
       "      <td>1</td>\n",
       "      <td>True</td>\n",
       "      <td>2020-03-16 04:42:17</td>\n",
       "    </tr>\n",
       "    <tr>\n",
       "      <th>3</th>\n",
       "      <td>Shortness of breath as first symptom?</td>\n",
       "      <td>I live in a Canadian province with only 3 presumed cases, all related to travel. I haven’t travelled outside my city, and haven’t been in contact with anyone who has a known case of covid19. However, 11 days ago I was interacting with someone who travelled from the US and had been travelling in international airports. \\n\\nI’m 21F and feel like I’m experiencing shortness of breath, but unsure b...</td>\n",
       "      <td>COVID19positive</td>\n",
       "      <td>1584375181</td>\n",
       "      <td>_haligirl98_</td>\n",
       "      <td>77</td>\n",
       "      <td>1</td>\n",
       "      <td>True</td>\n",
       "      <td>2020-03-16 09:13:01</td>\n",
       "    </tr>\n",
       "    <tr>\n",
       "      <th>4</th>\n",
       "      <td>I need advice, please!</td>\n",
       "      <td>Yesterday I woke up and noticed I had a shortness of breath a few hours after waking up. At work I went home early because I felt weak/tired. \\n\\nThis morning, I don’t feel as weak anymore, but I still have the shortness of breath and slight chest pain. Could this be allergies? Did any of you have these symptoms?\\n\\nI called my doctors and they will not test me unless I have a cough with a fev...</td>\n",
       "      <td>COVID19positive</td>\n",
       "      <td>1584382909</td>\n",
       "      <td>monkcell</td>\n",
       "      <td>11</td>\n",
       "      <td>2</td>\n",
       "      <td>True</td>\n",
       "      <td>2020-03-16 11:21:49</td>\n",
       "    </tr>\n",
       "  </tbody>\n",
       "</table>\n",
       "</div>"
      ],
      "text/plain": [
       "                                                                                                                                                      title  \\\n",
       "0  I am constantly seeing people asking about people’s experiences so I figured now we can go to one place and stop spamming the AMA and ask Reddit’s subs.   \n",
       "1                                                                                                                       How severe are your guys' symptoms?   \n",
       "2                                                                                                                             How severe are your symptoms?   \n",
       "3                                                                                                                     Shortness of breath as first symptom?   \n",
       "4                                                                                                                                    I need advice, please!   \n",
       "\n",
       "                                                                                                                                                                                                                                                                                                                                                                                                          selftext  \\\n",
       "0                                                                                                                                                                                                                                                                                                                            For those that have tested positive I hope every single one of you feels better soon!   \n",
       "1                                                                                                                                                         I have no idea if I've got the coronavirus, or it's just a cold etc. I've got a runny nose and coughing quite a lot, and a bit of a headache. I don't want to go out in case I do have it and I give it to other people. Are your symptoms debilitating?   \n",
       "2                 I have no idea if I've got the coronavirus, or it's just a cold etc. I've got a runny nose and coughing quite a lot, and a bit of a headache. I don't want to go out in case I do have it and I give it to other people.  My symptoms feel practically the same as a normal cold/flu, other than last night where my eyes hurt a bit, so I wasn't able to sleep. Are your symptoms debilitating?   \n",
       "3  I live in a Canadian province with only 3 presumed cases, all related to travel. I haven’t travelled outside my city, and haven’t been in contact with anyone who has a known case of covid19. However, 11 days ago I was interacting with someone who travelled from the US and had been travelling in international airports. \\n\\nI’m 21F and feel like I’m experiencing shortness of breath, but unsure b...   \n",
       "4  Yesterday I woke up and noticed I had a shortness of breath a few hours after waking up. At work I went home early because I felt weak/tired. \\n\\nThis morning, I don’t feel as weak anymore, but I still have the shortness of breath and slight chest pain. Could this be allergies? Did any of you have these symptoms?\\n\\nI called my doctors and they will not test me unless I have a cough with a fev...   \n",
       "\n",
       "         subreddit  created_utc           author  num_comments  score  \\\n",
       "0  COVID19positive   1584148032  the1andonlyjoja           191      1   \n",
       "1  COVID19positive   1584358828    RocketFrasier             0      1   \n",
       "2  COVID19positive   1584358937    RocketFrasier            42      1   \n",
       "3  COVID19positive   1584375181     _haligirl98_            77      1   \n",
       "4  COVID19positive   1584382909         monkcell            11      2   \n",
       "\n",
       "   is_self            timestamp  \n",
       "0     True  2020-03-13 18:07:12  \n",
       "1     True  2020-03-16 04:40:28  \n",
       "2     True  2020-03-16 04:42:17  \n",
       "3     True  2020-03-16 09:13:01  \n",
       "4     True  2020-03-16 11:21:49  "
      ]
     },
     "execution_count": 10,
     "metadata": {},
     "output_type": "execute_result"
    }
   ],
   "source": [
    "df.head()"
   ]
  },
  {
   "cell_type": "markdown",
   "id": "0d244682",
   "metadata": {},
   "source": [
    "### Drop rows with nan in the selftext"
   ]
  },
  {
   "cell_type": "code",
   "execution_count": 11,
   "id": "78bdad01",
   "metadata": {},
   "outputs": [
    {
     "data": {
      "text/plain": [
       "title           0.0\n",
       "selftext        0.0\n",
       "subreddit       0.0\n",
       "created_utc     0.0\n",
       "author          0.0\n",
       "num_comments    0.0\n",
       "score           0.0\n",
       "is_self         0.0\n",
       "timestamp       0.0\n",
       "dtype: float64"
      ]
     },
     "execution_count": 11,
     "metadata": {},
     "output_type": "execute_result"
    }
   ],
   "source": [
    "# null percentage\n",
    "df.isnull().sum()*100/len(df)"
   ]
  },
  {
   "cell_type": "code",
   "execution_count": 12,
   "id": "24139096",
   "metadata": {},
   "outputs": [],
   "source": [
    "#drop all rows with nulls\n",
    "df.dropna(inplace=True)"
   ]
  },
  {
   "cell_type": "code",
   "execution_count": 13,
   "id": "ceb23b8f",
   "metadata": {},
   "outputs": [],
   "source": [
    "# resetting the index\n",
    "df.reset_index(inplace=True, drop = True)"
   ]
  },
  {
   "cell_type": "code",
   "execution_count": 14,
   "id": "40518dd6",
   "metadata": {
    "scrolled": true
   },
   "outputs": [
    {
     "data": {
      "text/plain": [
       "title           0\n",
       "selftext        0\n",
       "subreddit       0\n",
       "created_utc     0\n",
       "author          0\n",
       "num_comments    0\n",
       "score           0\n",
       "is_self         0\n",
       "timestamp       0\n",
       "dtype: int64"
      ]
     },
     "execution_count": 14,
     "metadata": {},
     "output_type": "execute_result"
    }
   ],
   "source": [
    "# check for any remained nulls ?!\n",
    "df.isna().sum()"
   ]
  },
  {
   "cell_type": "code",
   "execution_count": 15,
   "id": "6034442f",
   "metadata": {},
   "outputs": [
    {
     "data": {
      "text/html": [
       "<div>\n",
       "<style scoped>\n",
       "    .dataframe tbody tr th:only-of-type {\n",
       "        vertical-align: middle;\n",
       "    }\n",
       "\n",
       "    .dataframe tbody tr th {\n",
       "        vertical-align: top;\n",
       "    }\n",
       "\n",
       "    .dataframe thead th {\n",
       "        text-align: right;\n",
       "    }\n",
       "</style>\n",
       "<table border=\"1\" class=\"dataframe\">\n",
       "  <thead>\n",
       "    <tr style=\"text-align: right;\">\n",
       "      <th></th>\n",
       "      <th>title</th>\n",
       "      <th>selftext</th>\n",
       "      <th>subreddit</th>\n",
       "      <th>created_utc</th>\n",
       "      <th>author</th>\n",
       "      <th>num_comments</th>\n",
       "      <th>score</th>\n",
       "      <th>is_self</th>\n",
       "      <th>timestamp</th>\n",
       "    </tr>\n",
       "  </thead>\n",
       "  <tbody>\n",
       "    <tr>\n",
       "      <th>0</th>\n",
       "      <td>I am constantly seeing people asking about people’s experiences so I figured now we can go to one place and stop spamming the AMA and ask Reddit’s subs.</td>\n",
       "      <td>For those that have tested positive I hope every single one of you feels better soon!</td>\n",
       "      <td>COVID19positive</td>\n",
       "      <td>1584148032</td>\n",
       "      <td>the1andonlyjoja</td>\n",
       "      <td>191</td>\n",
       "      <td>1</td>\n",
       "      <td>True</td>\n",
       "      <td>2020-03-13 18:07:12</td>\n",
       "    </tr>\n",
       "    <tr>\n",
       "      <th>1</th>\n",
       "      <td>How severe are your guys' symptoms?</td>\n",
       "      <td>I have no idea if I've got the coronavirus, or it's just a cold etc. I've got a runny nose and coughing quite a lot, and a bit of a headache. I don't want to go out in case I do have it and I give it to other people. Are your symptoms debilitating?</td>\n",
       "      <td>COVID19positive</td>\n",
       "      <td>1584358828</td>\n",
       "      <td>RocketFrasier</td>\n",
       "      <td>0</td>\n",
       "      <td>1</td>\n",
       "      <td>True</td>\n",
       "      <td>2020-03-16 04:40:28</td>\n",
       "    </tr>\n",
       "    <tr>\n",
       "      <th>2</th>\n",
       "      <td>How severe are your symptoms?</td>\n",
       "      <td>I have no idea if I've got the coronavirus, or it's just a cold etc. I've got a runny nose and coughing quite a lot, and a bit of a headache. I don't want to go out in case I do have it and I give it to other people.  My symptoms feel practically the same as a normal cold/flu, other than last night where my eyes hurt a bit, so I wasn't able to sleep. Are your symptoms debilitating?</td>\n",
       "      <td>COVID19positive</td>\n",
       "      <td>1584358937</td>\n",
       "      <td>RocketFrasier</td>\n",
       "      <td>42</td>\n",
       "      <td>1</td>\n",
       "      <td>True</td>\n",
       "      <td>2020-03-16 04:42:17</td>\n",
       "    </tr>\n",
       "    <tr>\n",
       "      <th>3</th>\n",
       "      <td>Shortness of breath as first symptom?</td>\n",
       "      <td>I live in a Canadian province with only 3 presumed cases, all related to travel. I haven’t travelled outside my city, and haven’t been in contact with anyone who has a known case of covid19. However, 11 days ago I was interacting with someone who travelled from the US and had been travelling in international airports. \\n\\nI’m 21F and feel like I’m experiencing shortness of breath, but unsure b...</td>\n",
       "      <td>COVID19positive</td>\n",
       "      <td>1584375181</td>\n",
       "      <td>_haligirl98_</td>\n",
       "      <td>77</td>\n",
       "      <td>1</td>\n",
       "      <td>True</td>\n",
       "      <td>2020-03-16 09:13:01</td>\n",
       "    </tr>\n",
       "    <tr>\n",
       "      <th>4</th>\n",
       "      <td>I need advice, please!</td>\n",
       "      <td>Yesterday I woke up and noticed I had a shortness of breath a few hours after waking up. At work I went home early because I felt weak/tired. \\n\\nThis morning, I don’t feel as weak anymore, but I still have the shortness of breath and slight chest pain. Could this be allergies? Did any of you have these symptoms?\\n\\nI called my doctors and they will not test me unless I have a cough with a fev...</td>\n",
       "      <td>COVID19positive</td>\n",
       "      <td>1584382909</td>\n",
       "      <td>monkcell</td>\n",
       "      <td>11</td>\n",
       "      <td>2</td>\n",
       "      <td>True</td>\n",
       "      <td>2020-03-16 11:21:49</td>\n",
       "    </tr>\n",
       "  </tbody>\n",
       "</table>\n",
       "</div>"
      ],
      "text/plain": [
       "                                                                                                                                                      title  \\\n",
       "0  I am constantly seeing people asking about people’s experiences so I figured now we can go to one place and stop spamming the AMA and ask Reddit’s subs.   \n",
       "1                                                                                                                       How severe are your guys' symptoms?   \n",
       "2                                                                                                                             How severe are your symptoms?   \n",
       "3                                                                                                                     Shortness of breath as first symptom?   \n",
       "4                                                                                                                                    I need advice, please!   \n",
       "\n",
       "                                                                                                                                                                                                                                                                                                                                                                                                          selftext  \\\n",
       "0                                                                                                                                                                                                                                                                                                                            For those that have tested positive I hope every single one of you feels better soon!   \n",
       "1                                                                                                                                                         I have no idea if I've got the coronavirus, or it's just a cold etc. I've got a runny nose and coughing quite a lot, and a bit of a headache. I don't want to go out in case I do have it and I give it to other people. Are your symptoms debilitating?   \n",
       "2                 I have no idea if I've got the coronavirus, or it's just a cold etc. I've got a runny nose and coughing quite a lot, and a bit of a headache. I don't want to go out in case I do have it and I give it to other people.  My symptoms feel practically the same as a normal cold/flu, other than last night where my eyes hurt a bit, so I wasn't able to sleep. Are your symptoms debilitating?   \n",
       "3  I live in a Canadian province with only 3 presumed cases, all related to travel. I haven’t travelled outside my city, and haven’t been in contact with anyone who has a known case of covid19. However, 11 days ago I was interacting with someone who travelled from the US and had been travelling in international airports. \\n\\nI’m 21F and feel like I’m experiencing shortness of breath, but unsure b...   \n",
       "4  Yesterday I woke up and noticed I had a shortness of breath a few hours after waking up. At work I went home early because I felt weak/tired. \\n\\nThis morning, I don’t feel as weak anymore, but I still have the shortness of breath and slight chest pain. Could this be allergies? Did any of you have these symptoms?\\n\\nI called my doctors and they will not test me unless I have a cough with a fev...   \n",
       "\n",
       "         subreddit  created_utc           author  num_comments  score  \\\n",
       "0  COVID19positive   1584148032  the1andonlyjoja           191      1   \n",
       "1  COVID19positive   1584358828    RocketFrasier             0      1   \n",
       "2  COVID19positive   1584358937    RocketFrasier            42      1   \n",
       "3  COVID19positive   1584375181     _haligirl98_            77      1   \n",
       "4  COVID19positive   1584382909         monkcell            11      2   \n",
       "\n",
       "   is_self            timestamp  \n",
       "0     True  2020-03-13 18:07:12  \n",
       "1     True  2020-03-16 04:40:28  \n",
       "2     True  2020-03-16 04:42:17  \n",
       "3     True  2020-03-16 09:13:01  \n",
       "4     True  2020-03-16 11:21:49  "
      ]
     },
     "execution_count": 15,
     "metadata": {},
     "output_type": "execute_result"
    }
   ],
   "source": [
    "df.head()"
   ]
  },
  {
   "cell_type": "markdown",
   "id": "4945e718-ca65-45e4-8e30-b75fa236aeab",
   "metadata": {},
   "source": [
    "# - - - - - - - - - - - - - - - - - - - - - - - - - - - - - - - - - - - - - - - - - - - - - - - - - - - - - - - - - - - - - - - - - - \n",
    "# Instentiate the text processing class"
   ]
  },
  {
   "cell_type": "code",
   "execution_count": 16,
   "id": "c3d96026-1e80-4022-8686-a8b7f3f99de8",
   "metadata": {},
   "outputs": [],
   "source": [
    "from nltk.corpus import stopwords\n",
    "\n",
    "\n",
    "class text_processing():\n",
    "    \"\"\"\n",
    "    This class includes the following functions to process the text files:\n",
    "    1. read_files_in_path: \n",
    "                to read all files\n",
    "    2. read_words: \n",
    "                to extract a list of words from each text file\n",
    "    3. make_corpus: \n",
    "                to convert each text document into a single corpus\n",
    "                Results would be a list of corpus\n",
    "    4. corpus_to_info_blocks:\n",
    "                Split different sections in the corpus \n",
    "                e.g., Admission Date, Sex, Discharge Date, Date of Birth...\n",
    "    \"\"\"\n",
    "    def __init__(self, post, title):\n",
    "        self.post = post\n",
    "        self.title = title\n",
    "\n",
    "    def lower_casting(self, text):\n",
    "        ## Read the list of files\n",
    "        self.lower_casting = text.str.lower()\n",
    "\n",
    "        \n",
    "    # Function for url's\n",
    "    def remove_urls(self, text):\n",
    "        self.remove_urls = text\\\n",
    "                        .replace('https?://\\S+|www\\.\\S+', '', regex=True)\\\n",
    "        \n",
    "        \n",
    "    \n",
    "    def remove_special_chars(self,text):\n",
    "        self.remove_special_chars = text\\\n",
    "                        .replace('http\\S+', '', regex=True)\\\n",
    "                        .replace('www\\S+', '', regex=True)\\\n",
    "                        .replace('\\n\\n\\S+', '', regex=True)\\\n",
    "                        .replace('\\n', '', regex=True)\\\n",
    "                        .replace('\\*', '', regex=True)\\\n",
    "                        .replace('!', '', regex=True)\\\n",
    "                        .replace(\"[^a-zA-Z]\", ' ', regex=True) # replace_all_non_letters_with_space\n",
    "        \n",
    "    def count_emoji(self, text):\n",
    "        self.count_emoji = (text.map(demoji.findall) != {}).sum()\n",
    "\n",
    "    def remove_emoji(self, text):\n",
    "        self.remove_emoji = text.map(demoji.replace)      \n",
    "        \n",
    "    def convert_emoji_to_text(self, text):\n",
    "        self.convert_emoji_to_text = emoji.demojize(text) \n",
    "\n",
    "        \n",
    "    def remove_stop_words(self, text):\n",
    "        self.remove_stop_words = text.apply(stopwords)\n",
    "        \n",
    "        \n",
    "    def remove_stopwords_fun(text):\n",
    "        STOPWORDS = set(stopwords.words('english'))# Function to remove the stopwords\n",
    "        return \" \".join([word for word in str(text).split() if word not in STOPWORDS])# Applying the stopwords to 'text_punct' and store into 'text_stop'\n",
    "\n",
    "    def remove_stopwords(self, text, fun = remove_stopwords_fun):\n",
    "        self.remove_stopwords = text.apply(fun)    \n",
    "        \n",
    "\n",
    "    def make_token_fun(data):\n",
    "        Pstemmizer = PorterStemmer()\n",
    "        tokenizer = RegexpTokenizer(r'\\w+') # remove the punctuation \n",
    "        post_tokens = tokenizer.tokenize(data)\n",
    "        stem_spam = [Pstemmizer.stem(token) for token in post_tokens]\n",
    "        return (' '.join(stem_spam))\n",
    "\n",
    "    def stemming_text (self, \n",
    "                       text, \n",
    "                       func = make_token_fun):\n",
    "        self.stemming_text = list(map(func, text))        "
   ]
  },
  {
   "cell_type": "code",
   "execution_count": 17,
   "id": "52a39cde-45da-4f94-96e1-029341d74dd8",
   "metadata": {},
   "outputs": [],
   "source": [
    "text_proc = text_processing(df.selftext, df.title)"
   ]
  },
  {
   "cell_type": "markdown",
   "id": "f8400d09",
   "metadata": {},
   "source": [
    "### Lower Casing"
   ]
  },
  {
   "cell_type": "code",
   "execution_count": 18,
   "id": "e07aa220-e1a3-40e5-b787-c5938ab14984",
   "metadata": {},
   "outputs": [],
   "source": [
    "text_proc.lower_casting(df.selftext)"
   ]
  },
  {
   "cell_type": "code",
   "execution_count": 19,
   "id": "b259a398-9736-4452-8b85-cd822df85551",
   "metadata": {},
   "outputs": [
    {
     "data": {
      "text/plain": [
       "0                                                                                                                                                                                                                                                                                                               for those that have tested positive i hope every single one of you feels better soon!\n",
       "1                                                                                                                                            i have no idea if i've got the coronavirus, or it's just a cold etc. i've got a runny nose and coughing quite a lot, and a bit of a headache. i don't want to go out in case i do have it and i give it to other people. are your symptoms debilitating?\n",
       "2    i have no idea if i've got the coronavirus, or it's just a cold etc. i've got a runny nose and coughing quite a lot, and a bit of a headache. i don't want to go out in case i do have it and i give it to other people.  my symptoms feel practically the same as a normal cold/flu, other than last night where my eyes hurt a bit, so i wasn't able to sleep. are your symptoms debilitating?\n",
       "Name: selftext, dtype: object"
      ]
     },
     "execution_count": 19,
     "metadata": {},
     "output_type": "execute_result"
    }
   ],
   "source": [
    "text_proc.lower_casting[:3]"
   ]
  },
  {
   "cell_type": "markdown",
   "id": "8972906a",
   "metadata": {},
   "source": [
    "### Remove URL's / Website address"
   ]
  },
  {
   "cell_type": "code",
   "execution_count": 20,
   "id": "46b7b1da-843b-47ba-b43a-78a3ad3e573d",
   "metadata": {},
   "outputs": [],
   "source": [
    "text_proc.remove_urls(df.selftext)"
   ]
  },
  {
   "cell_type": "code",
   "execution_count": 21,
   "id": "f9fb4da9-ecaf-4db3-b5cd-d832a30148d2",
   "metadata": {},
   "outputs": [
    {
     "data": {
      "text/plain": [
       "0                                                                                                                                                                                                                                                                                                               For those that have tested positive I hope every single one of you feels better soon!\n",
       "1                                                                                                                                            I have no idea if I've got the coronavirus, or it's just a cold etc. I've got a runny nose and coughing quite a lot, and a bit of a headache. I don't want to go out in case I do have it and I give it to other people. Are your symptoms debilitating?\n",
       "2    I have no idea if I've got the coronavirus, or it's just a cold etc. I've got a runny nose and coughing quite a lot, and a bit of a headache. I don't want to go out in case I do have it and I give it to other people.  My symptoms feel practically the same as a normal cold/flu, other than last night where my eyes hurt a bit, so I wasn't able to sleep. Are your symptoms debilitating?\n",
       "Name: selftext, dtype: object"
      ]
     },
     "execution_count": 21,
     "metadata": {},
     "output_type": "execute_result"
    }
   ],
   "source": [
    "text_proc.remove_urls[:3]"
   ]
  },
  {
   "cell_type": "markdown",
   "id": "33411688",
   "metadata": {},
   "source": [
    "### Removing special characters"
   ]
  },
  {
   "cell_type": "code",
   "execution_count": 22,
   "id": "7cb95223-13ad-41e6-aac5-bcd50a00e7f1",
   "metadata": {},
   "outputs": [],
   "source": [
    "text_proc.remove_special_chars(text_proc.remove_urls)"
   ]
  },
  {
   "cell_type": "code",
   "execution_count": 23,
   "id": "ced7abb9-0b56-42f1-8d42-232ee9ac2269",
   "metadata": {},
   "outputs": [
    {
     "data": {
      "text/plain": [
       "0                                                                                                                                                                                                                                                                                                                For those that have tested positive I hope every single one of you feels better soon\n",
       "1                                                                                                                                            I have no idea if I ve got the coronavirus  or it s just a cold etc  I ve got a runny nose and coughing quite a lot  and a bit of a headache  I don t want to go out in case I do have it and I give it to other people  Are your symptoms debilitating \n",
       "2    I have no idea if I ve got the coronavirus  or it s just a cold etc  I ve got a runny nose and coughing quite a lot  and a bit of a headache  I don t want to go out in case I do have it and I give it to other people   My symptoms feel practically the same as a normal cold flu  other than last night where my eyes hurt a bit  so I wasn t able to sleep  Are your symptoms debilitating \n",
       "Name: selftext, dtype: object"
      ]
     },
     "execution_count": 23,
     "metadata": {},
     "output_type": "execute_result"
    }
   ],
   "source": [
    "text_proc.remove_special_chars[:3]"
   ]
  },
  {
   "cell_type": "markdown",
   "id": "1a788160-911a-4661-a483-9943d4728b68",
   "metadata": {},
   "source": [
    "### Find/Count emoji\n",
    "note: all emoji characters are already removed using the `remove_special_chars` function!!!"
   ]
  },
  {
   "cell_type": "code",
   "execution_count": 24,
   "id": "61539759-e3b4-4fb6-837c-74e2a42c58f6",
   "metadata": {},
   "outputs": [],
   "source": [
    "text_proc.count_emoji(text_proc.lower_casting[:100])"
   ]
  },
  {
   "cell_type": "code",
   "execution_count": 25,
   "id": "2e2e27d4-2333-4efb-bd55-efbdf778eb14",
   "metadata": {},
   "outputs": [
    {
     "data": {
      "text/plain": [
       "1"
      ]
     },
     "execution_count": 25,
     "metadata": {},
     "output_type": "execute_result"
    }
   ],
   "source": [
    "text_proc.count_emoji"
   ]
  },
  {
   "cell_type": "markdown",
   "id": "ec829d22-a9a1-4853-80ab-1ad057db35b5",
   "metadata": {},
   "source": [
    "### Remove emoji\n"
   ]
  },
  {
   "cell_type": "code",
   "execution_count": 26,
   "id": "57cd3453-939e-47c4-b581-b3200ba75605",
   "metadata": {},
   "outputs": [],
   "source": [
    "text_proc.remove_emoji(text_proc.lower_casting[:100])"
   ]
  },
  {
   "cell_type": "code",
   "execution_count": 27,
   "id": "9170efdb-666b-4016-afba-bac0a91987a5",
   "metadata": {},
   "outputs": [
    {
     "data": {
      "text/plain": [
       "0                                                                                                                                                                                                                                                                                                               for those that have tested positive i hope every single one of you feels better soon!\n",
       "1                                                                                                                                            i have no idea if i've got the coronavirus, or it's just a cold etc. i've got a runny nose and coughing quite a lot, and a bit of a headache. i don't want to go out in case i do have it and i give it to other people. are your symptoms debilitating?\n",
       "2    i have no idea if i've got the coronavirus, or it's just a cold etc. i've got a runny nose and coughing quite a lot, and a bit of a headache. i don't want to go out in case i do have it and i give it to other people.  my symptoms feel practically the same as a normal cold/flu, other than last night where my eyes hurt a bit, so i wasn't able to sleep. are your symptoms debilitating?\n",
       "Name: selftext, dtype: object"
      ]
     },
     "execution_count": 27,
     "metadata": {},
     "output_type": "execute_result"
    }
   ],
   "source": [
    "text_proc.remove_emoji[:3]"
   ]
  },
  {
   "cell_type": "markdown",
   "id": "1367222f-4711-41ca-8e03-c9d4c450d61c",
   "metadata": {},
   "source": [
    "### Convert emoji to text\n",
    "if you want to do sentiment analysis, it is crucial to include emojies in your models"
   ]
  },
  {
   "cell_type": "code",
   "execution_count": 28,
   "id": "b22db863-a618-421d-a950-86bf5bc161df",
   "metadata": {},
   "outputs": [],
   "source": [
    "# text_proc.convert_emoji_to_text(text_proc.lower_casting[:100])"
   ]
  },
  {
   "cell_type": "markdown",
   "id": "be08a5f4-7f1e-41b7-bc5d-7308f4259521",
   "metadata": {},
   "source": [
    "### Add new column `post` with all removed-cleaned texts"
   ]
  },
  {
   "cell_type": "code",
   "execution_count": 29,
   "id": "5952479b",
   "metadata": {},
   "outputs": [],
   "source": [
    "df['post'] = text_proc.remove_special_chars"
   ]
  },
  {
   "cell_type": "code",
   "execution_count": 30,
   "id": "d3dddb14-99a2-4b0d-aaf9-64762330884c",
   "metadata": {},
   "outputs": [
    {
     "data": {
      "text/html": [
       "<div>\n",
       "<style scoped>\n",
       "    .dataframe tbody tr th:only-of-type {\n",
       "        vertical-align: middle;\n",
       "    }\n",
       "\n",
       "    .dataframe tbody tr th {\n",
       "        vertical-align: top;\n",
       "    }\n",
       "\n",
       "    .dataframe thead th {\n",
       "        text-align: right;\n",
       "    }\n",
       "</style>\n",
       "<table border=\"1\" class=\"dataframe\">\n",
       "  <thead>\n",
       "    <tr style=\"text-align: right;\">\n",
       "      <th></th>\n",
       "      <th>title</th>\n",
       "      <th>selftext</th>\n",
       "      <th>subreddit</th>\n",
       "      <th>created_utc</th>\n",
       "      <th>author</th>\n",
       "      <th>num_comments</th>\n",
       "      <th>score</th>\n",
       "      <th>is_self</th>\n",
       "      <th>timestamp</th>\n",
       "      <th>post</th>\n",
       "    </tr>\n",
       "  </thead>\n",
       "  <tbody>\n",
       "    <tr>\n",
       "      <th>0</th>\n",
       "      <td>I am constantly seeing people asking about people’s experiences so I figured now we can go to one place and stop spamming the AMA and ask Reddit’s subs.</td>\n",
       "      <td>For those that have tested positive I hope every single one of you feels better soon!</td>\n",
       "      <td>COVID19positive</td>\n",
       "      <td>1584148032</td>\n",
       "      <td>the1andonlyjoja</td>\n",
       "      <td>191</td>\n",
       "      <td>1</td>\n",
       "      <td>True</td>\n",
       "      <td>2020-03-13 18:07:12</td>\n",
       "      <td>For those that have tested positive I hope every single one of you feels better soon</td>\n",
       "    </tr>\n",
       "    <tr>\n",
       "      <th>1</th>\n",
       "      <td>How severe are your guys' symptoms?</td>\n",
       "      <td>I have no idea if I've got the coronavirus, or it's just a cold etc. I've got a runny nose and coughing quite a lot, and a bit of a headache. I don't want to go out in case I do have it and I give it to other people. Are your symptoms debilitating?</td>\n",
       "      <td>COVID19positive</td>\n",
       "      <td>1584358828</td>\n",
       "      <td>RocketFrasier</td>\n",
       "      <td>0</td>\n",
       "      <td>1</td>\n",
       "      <td>True</td>\n",
       "      <td>2020-03-16 04:40:28</td>\n",
       "      <td>I have no idea if I ve got the coronavirus  or it s just a cold etc  I ve got a runny nose and coughing quite a lot  and a bit of a headache  I don t want to go out in case I do have it and I give it to other people  Are your symptoms debilitating</td>\n",
       "    </tr>\n",
       "    <tr>\n",
       "      <th>2</th>\n",
       "      <td>How severe are your symptoms?</td>\n",
       "      <td>I have no idea if I've got the coronavirus, or it's just a cold etc. I've got a runny nose and coughing quite a lot, and a bit of a headache. I don't want to go out in case I do have it and I give it to other people.  My symptoms feel practically the same as a normal cold/flu, other than last night where my eyes hurt a bit, so I wasn't able to sleep. Are your symptoms debilitating?</td>\n",
       "      <td>COVID19positive</td>\n",
       "      <td>1584358937</td>\n",
       "      <td>RocketFrasier</td>\n",
       "      <td>42</td>\n",
       "      <td>1</td>\n",
       "      <td>True</td>\n",
       "      <td>2020-03-16 04:42:17</td>\n",
       "      <td>I have no idea if I ve got the coronavirus  or it s just a cold etc  I ve got a runny nose and coughing quite a lot  and a bit of a headache  I don t want to go out in case I do have it and I give it to other people   My symptoms feel practically the same as a normal cold flu  other than last night where my eyes hurt a bit  so I wasn t able to sleep  Are your symptoms debilitating</td>\n",
       "    </tr>\n",
       "    <tr>\n",
       "      <th>3</th>\n",
       "      <td>Shortness of breath as first symptom?</td>\n",
       "      <td>I live in a Canadian province with only 3 presumed cases, all related to travel. I haven’t travelled outside my city, and haven’t been in contact with anyone who has a known case of covid19. However, 11 days ago I was interacting with someone who travelled from the US and had been travelling in international airports. \\n\\nI’m 21F and feel like I’m experiencing shortness of breath, but unsure b...</td>\n",
       "      <td>COVID19positive</td>\n",
       "      <td>1584375181</td>\n",
       "      <td>_haligirl98_</td>\n",
       "      <td>77</td>\n",
       "      <td>1</td>\n",
       "      <td>True</td>\n",
       "      <td>2020-03-16 09:13:01</td>\n",
       "      <td>I live in a Canadian province with only   presumed cases  all related to travel  I haven t travelled outside my city  and haven t been in contact with anyone who has a known case of covid    However     days ago I was interacting with someone who travelled from the US and had been travelling in international airports     F and feel like I m experiencing shortness of breath  but unsure because ...</td>\n",
       "    </tr>\n",
       "    <tr>\n",
       "      <th>4</th>\n",
       "      <td>I need advice, please!</td>\n",
       "      <td>Yesterday I woke up and noticed I had a shortness of breath a few hours after waking up. At work I went home early because I felt weak/tired. \\n\\nThis morning, I don’t feel as weak anymore, but I still have the shortness of breath and slight chest pain. Could this be allergies? Did any of you have these symptoms?\\n\\nI called my doctors and they will not test me unless I have a cough with a fev...</td>\n",
       "      <td>COVID19positive</td>\n",
       "      <td>1584382909</td>\n",
       "      <td>monkcell</td>\n",
       "      <td>11</td>\n",
       "      <td>2</td>\n",
       "      <td>True</td>\n",
       "      <td>2020-03-16 11:21:49</td>\n",
       "      <td>Yesterday I woke up and noticed I had a shortness of breath a few hours after waking up  At work I went home early because I felt weak tired   morning  I don t feel as weak anymore  but I still have the shortness of breath and slight chest pain  Could this be allergies  Did any of you have these symptoms  called my doctors and they will not test me unless I have a cough with a fever and shortn...</td>\n",
       "    </tr>\n",
       "  </tbody>\n",
       "</table>\n",
       "</div>"
      ],
      "text/plain": [
       "                                                                                                                                                      title  \\\n",
       "0  I am constantly seeing people asking about people’s experiences so I figured now we can go to one place and stop spamming the AMA and ask Reddit’s subs.   \n",
       "1                                                                                                                       How severe are your guys' symptoms?   \n",
       "2                                                                                                                             How severe are your symptoms?   \n",
       "3                                                                                                                     Shortness of breath as first symptom?   \n",
       "4                                                                                                                                    I need advice, please!   \n",
       "\n",
       "                                                                                                                                                                                                                                                                                                                                                                                                          selftext  \\\n",
       "0                                                                                                                                                                                                                                                                                                                            For those that have tested positive I hope every single one of you feels better soon!   \n",
       "1                                                                                                                                                         I have no idea if I've got the coronavirus, or it's just a cold etc. I've got a runny nose and coughing quite a lot, and a bit of a headache. I don't want to go out in case I do have it and I give it to other people. Are your symptoms debilitating?   \n",
       "2                 I have no idea if I've got the coronavirus, or it's just a cold etc. I've got a runny nose and coughing quite a lot, and a bit of a headache. I don't want to go out in case I do have it and I give it to other people.  My symptoms feel practically the same as a normal cold/flu, other than last night where my eyes hurt a bit, so I wasn't able to sleep. Are your symptoms debilitating?   \n",
       "3  I live in a Canadian province with only 3 presumed cases, all related to travel. I haven’t travelled outside my city, and haven’t been in contact with anyone who has a known case of covid19. However, 11 days ago I was interacting with someone who travelled from the US and had been travelling in international airports. \\n\\nI’m 21F and feel like I’m experiencing shortness of breath, but unsure b...   \n",
       "4  Yesterday I woke up and noticed I had a shortness of breath a few hours after waking up. At work I went home early because I felt weak/tired. \\n\\nThis morning, I don’t feel as weak anymore, but I still have the shortness of breath and slight chest pain. Could this be allergies? Did any of you have these symptoms?\\n\\nI called my doctors and they will not test me unless I have a cough with a fev...   \n",
       "\n",
       "         subreddit  created_utc           author  num_comments  score  \\\n",
       "0  COVID19positive   1584148032  the1andonlyjoja           191      1   \n",
       "1  COVID19positive   1584358828    RocketFrasier             0      1   \n",
       "2  COVID19positive   1584358937    RocketFrasier            42      1   \n",
       "3  COVID19positive   1584375181     _haligirl98_            77      1   \n",
       "4  COVID19positive   1584382909         monkcell            11      2   \n",
       "\n",
       "   is_self            timestamp  \\\n",
       "0     True  2020-03-13 18:07:12   \n",
       "1     True  2020-03-16 04:40:28   \n",
       "2     True  2020-03-16 04:42:17   \n",
       "3     True  2020-03-16 09:13:01   \n",
       "4     True  2020-03-16 11:21:49   \n",
       "\n",
       "                                                                                                                                                                                                                                                                                                                                                                                                              post  \n",
       "0                                                                                                                                                                                                                                                                                                                             For those that have tested positive I hope every single one of you feels better soon  \n",
       "1                                                                                                                                                         I have no idea if I ve got the coronavirus  or it s just a cold etc  I ve got a runny nose and coughing quite a lot  and a bit of a headache  I don t want to go out in case I do have it and I give it to other people  Are your symptoms debilitating   \n",
       "2                 I have no idea if I ve got the coronavirus  or it s just a cold etc  I ve got a runny nose and coughing quite a lot  and a bit of a headache  I don t want to go out in case I do have it and I give it to other people   My symptoms feel practically the same as a normal cold flu  other than last night where my eyes hurt a bit  so I wasn t able to sleep  Are your symptoms debilitating   \n",
       "3  I live in a Canadian province with only   presumed cases  all related to travel  I haven t travelled outside my city  and haven t been in contact with anyone who has a known case of covid    However     days ago I was interacting with someone who travelled from the US and had been travelling in international airports     F and feel like I m experiencing shortness of breath  but unsure because ...  \n",
       "4  Yesterday I woke up and noticed I had a shortness of breath a few hours after waking up  At work I went home early because I felt weak tired   morning  I don t feel as weak anymore  but I still have the shortness of breath and slight chest pain  Could this be allergies  Did any of you have these symptoms  called my doctors and they will not test me unless I have a cough with a fever and shortn...  "
      ]
     },
     "execution_count": 30,
     "metadata": {},
     "output_type": "execute_result"
    }
   ],
   "source": [
    "df.head()"
   ]
  },
  {
   "cell_type": "markdown",
   "id": "07d4f168",
   "metadata": {},
   "source": [
    "### Remove Stop Words\n",
    "Commonly used phrases and words that does not count in linguistic analysis."
   ]
  },
  {
   "cell_type": "code",
   "execution_count": 31,
   "id": "aadd079d-ff8e-438a-8dc1-871fe05cc851",
   "metadata": {},
   "outputs": [],
   "source": [
    "text_proc.remove_stopwords(df['post'])"
   ]
  },
  {
   "cell_type": "code",
   "execution_count": 32,
   "id": "ccae74ef",
   "metadata": {},
   "outputs": [
    {
     "data": {
      "text/plain": [
       "0                                                                                                                                                                                                                                                                                                                                                      For tested positive I hope every single one feels better soon\n",
       "1                                                                                                                                                                                                                                                                        I idea I got coronavirus cold etc I got runny nose coughing quite lot bit headache I want go case I I give people Are symptoms debilitating\n",
       "2                                                                                                                                                                                     I idea I got coronavirus cold etc I got runny nose coughing quite lot bit headache I want go case I I give people My symptoms feel practically normal cold flu last night eyes hurt bit I able sleep Are symptoms debilitating\n",
       "3    I live Canadian province presumed cases related travel I travelled outside city contact anyone known case covid However days ago I interacting someone travelled US travelling international airports F feel like I experiencing shortness breath unsure I never felt way I felt slight pressure tightness right side chest feel like I get much air lungs usual pains sharp feelings yet fever cough headac...\n",
       "4                                                                                                                                   Yesterday I woke noticed I shortness breath hours waking At work I went home early I felt weak tired morning I feel weak anymore I still shortness breath slight chest pain Could allergies Did symptoms called doctors test unless I cough fever shortness breath I cough fever\n",
       "Name: post, dtype: object"
      ]
     },
     "execution_count": 32,
     "metadata": {},
     "output_type": "execute_result"
    }
   ],
   "source": [
    "text_proc.remove_stopwords[:5]"
   ]
  },
  {
   "cell_type": "code",
   "execution_count": 33,
   "id": "b85e40ca-0274-4fb1-8527-a92bc89dff43",
   "metadata": {},
   "outputs": [],
   "source": [
    "df['post2'] = text_proc.remove_stopwords"
   ]
  },
  {
   "cell_type": "code",
   "execution_count": 34,
   "id": "c40433ea",
   "metadata": {},
   "outputs": [
    {
     "data": {
      "text/html": [
       "<div>\n",
       "<style scoped>\n",
       "    .dataframe tbody tr th:only-of-type {\n",
       "        vertical-align: middle;\n",
       "    }\n",
       "\n",
       "    .dataframe tbody tr th {\n",
       "        vertical-align: top;\n",
       "    }\n",
       "\n",
       "    .dataframe thead th {\n",
       "        text-align: right;\n",
       "    }\n",
       "</style>\n",
       "<table border=\"1\" class=\"dataframe\">\n",
       "  <thead>\n",
       "    <tr style=\"text-align: right;\">\n",
       "      <th></th>\n",
       "      <th>title</th>\n",
       "      <th>selftext</th>\n",
       "      <th>subreddit</th>\n",
       "      <th>created_utc</th>\n",
       "      <th>author</th>\n",
       "      <th>num_comments</th>\n",
       "      <th>score</th>\n",
       "      <th>is_self</th>\n",
       "      <th>timestamp</th>\n",
       "      <th>post</th>\n",
       "      <th>post2</th>\n",
       "    </tr>\n",
       "  </thead>\n",
       "  <tbody>\n",
       "    <tr>\n",
       "      <th>0</th>\n",
       "      <td>I am constantly seeing people asking about people’s experiences so I figured now we can go to one place and stop spamming the AMA and ask Reddit’s subs.</td>\n",
       "      <td>For those that have tested positive I hope every single one of you feels better soon!</td>\n",
       "      <td>COVID19positive</td>\n",
       "      <td>1584148032</td>\n",
       "      <td>the1andonlyjoja</td>\n",
       "      <td>191</td>\n",
       "      <td>1</td>\n",
       "      <td>True</td>\n",
       "      <td>2020-03-13 18:07:12</td>\n",
       "      <td>For those that have tested positive I hope every single one of you feels better soon</td>\n",
       "      <td>For tested positive I hope every single one feels better soon</td>\n",
       "    </tr>\n",
       "    <tr>\n",
       "      <th>1</th>\n",
       "      <td>How severe are your guys' symptoms?</td>\n",
       "      <td>I have no idea if I've got the coronavirus, or it's just a cold etc. I've got a runny nose and coughing quite a lot, and a bit of a headache. I don't want to go out in case I do have it and I give it to other people. Are your symptoms debilitating?</td>\n",
       "      <td>COVID19positive</td>\n",
       "      <td>1584358828</td>\n",
       "      <td>RocketFrasier</td>\n",
       "      <td>0</td>\n",
       "      <td>1</td>\n",
       "      <td>True</td>\n",
       "      <td>2020-03-16 04:40:28</td>\n",
       "      <td>I have no idea if I ve got the coronavirus  or it s just a cold etc  I ve got a runny nose and coughing quite a lot  and a bit of a headache  I don t want to go out in case I do have it and I give it to other people  Are your symptoms debilitating</td>\n",
       "      <td>I idea I got coronavirus cold etc I got runny nose coughing quite lot bit headache I want go case I I give people Are symptoms debilitating</td>\n",
       "    </tr>\n",
       "    <tr>\n",
       "      <th>2</th>\n",
       "      <td>How severe are your symptoms?</td>\n",
       "      <td>I have no idea if I've got the coronavirus, or it's just a cold etc. I've got a runny nose and coughing quite a lot, and a bit of a headache. I don't want to go out in case I do have it and I give it to other people.  My symptoms feel practically the same as a normal cold/flu, other than last night where my eyes hurt a bit, so I wasn't able to sleep. Are your symptoms debilitating?</td>\n",
       "      <td>COVID19positive</td>\n",
       "      <td>1584358937</td>\n",
       "      <td>RocketFrasier</td>\n",
       "      <td>42</td>\n",
       "      <td>1</td>\n",
       "      <td>True</td>\n",
       "      <td>2020-03-16 04:42:17</td>\n",
       "      <td>I have no idea if I ve got the coronavirus  or it s just a cold etc  I ve got a runny nose and coughing quite a lot  and a bit of a headache  I don t want to go out in case I do have it and I give it to other people   My symptoms feel practically the same as a normal cold flu  other than last night where my eyes hurt a bit  so I wasn t able to sleep  Are your symptoms debilitating</td>\n",
       "      <td>I idea I got coronavirus cold etc I got runny nose coughing quite lot bit headache I want go case I I give people My symptoms feel practically normal cold flu last night eyes hurt bit I able sleep Are symptoms debilitating</td>\n",
       "    </tr>\n",
       "  </tbody>\n",
       "</table>\n",
       "</div>"
      ],
      "text/plain": [
       "                                                                                                                                                      title  \\\n",
       "0  I am constantly seeing people asking about people’s experiences so I figured now we can go to one place and stop spamming the AMA and ask Reddit’s subs.   \n",
       "1                                                                                                                       How severe are your guys' symptoms?   \n",
       "2                                                                                                                             How severe are your symptoms?   \n",
       "\n",
       "                                                                                                                                                                                                                                                                                                                                                                                           selftext  \\\n",
       "0                                                                                                                                                                                                                                                                                                             For those that have tested positive I hope every single one of you feels better soon!   \n",
       "1                                                                                                                                          I have no idea if I've got the coronavirus, or it's just a cold etc. I've got a runny nose and coughing quite a lot, and a bit of a headache. I don't want to go out in case I do have it and I give it to other people. Are your symptoms debilitating?   \n",
       "2  I have no idea if I've got the coronavirus, or it's just a cold etc. I've got a runny nose and coughing quite a lot, and a bit of a headache. I don't want to go out in case I do have it and I give it to other people.  My symptoms feel practically the same as a normal cold/flu, other than last night where my eyes hurt a bit, so I wasn't able to sleep. Are your symptoms debilitating?   \n",
       "\n",
       "         subreddit  created_utc           author  num_comments  score  \\\n",
       "0  COVID19positive   1584148032  the1andonlyjoja           191      1   \n",
       "1  COVID19positive   1584358828    RocketFrasier             0      1   \n",
       "2  COVID19positive   1584358937    RocketFrasier            42      1   \n",
       "\n",
       "   is_self            timestamp  \\\n",
       "0     True  2020-03-13 18:07:12   \n",
       "1     True  2020-03-16 04:40:28   \n",
       "2     True  2020-03-16 04:42:17   \n",
       "\n",
       "                                                                                                                                                                                                                                                                                                                                                                                               post  \\\n",
       "0                                                                                                                                                                                                                                                                                                              For those that have tested positive I hope every single one of you feels better soon   \n",
       "1                                                                                                                                          I have no idea if I ve got the coronavirus  or it s just a cold etc  I ve got a runny nose and coughing quite a lot  and a bit of a headache  I don t want to go out in case I do have it and I give it to other people  Are your symptoms debilitating    \n",
       "2  I have no idea if I ve got the coronavirus  or it s just a cold etc  I ve got a runny nose and coughing quite a lot  and a bit of a headache  I don t want to go out in case I do have it and I give it to other people   My symptoms feel practically the same as a normal cold flu  other than last night where my eyes hurt a bit  so I wasn t able to sleep  Are your symptoms debilitating    \n",
       "\n",
       "                                                                                                                                                                                                                            post2  \n",
       "0                                                                                                                                                                   For tested positive I hope every single one feels better soon  \n",
       "1                                                                                     I idea I got coronavirus cold etc I got runny nose coughing quite lot bit headache I want go case I I give people Are symptoms debilitating  \n",
       "2  I idea I got coronavirus cold etc I got runny nose coughing quite lot bit headache I want go case I I give people My symptoms feel practically normal cold flu last night eyes hurt bit I able sleep Are symptoms debilitating  "
      ]
     },
     "execution_count": 34,
     "metadata": {},
     "output_type": "execute_result"
    }
   ],
   "source": [
    "df.head(3)"
   ]
  },
  {
   "cell_type": "markdown",
   "id": "c828ca8e",
   "metadata": {},
   "source": [
    "# Stemmizing\n",
    "When we \"stem\" data, we take words and attempt to return a base form of the word. It tends to be cruder than using lemmatization."
   ]
  },
  {
   "cell_type": "code",
   "execution_count": 35,
   "id": "9ff92912-bbb8-46d3-be1f-a80e89f06d3f",
   "metadata": {},
   "outputs": [],
   "source": [
    "text_proc.stemming_text(text_proc.remove_stopwords)"
   ]
  },
  {
   "cell_type": "code",
   "execution_count": 36,
   "id": "bd8d8a46-5a4b-41c7-bf61-09d7d308091e",
   "metadata": {},
   "outputs": [],
   "source": [
    "df['stemmed'] = text_proc.stemming_text"
   ]
  },
  {
   "cell_type": "markdown",
   "id": "ac984401-8815-451a-9a27-1a4a30ba2eef",
   "metadata": {},
   "source": [
    "#### Calculate number of words: original VS. Stemmed posts "
   ]
  },
  {
   "cell_type": "code",
   "execution_count": 37,
   "id": "2496e98d",
   "metadata": {},
   "outputs": [
    {
     "data": {
      "text/plain": [
       "(22780865, 13024270)"
      ]
     },
     "execution_count": 37,
     "metadata": {},
     "output_type": "execute_result"
    }
   ],
   "source": [
    "df['post'].str.len().sum(),df['stemmed'].str.len().sum()"
   ]
  },
  {
   "cell_type": "markdown",
   "id": "2ba97fd8-8505-4449-8f91-aec37807b944",
   "metadata": {},
   "source": [
    "### save text processed token as cvs"
   ]
  },
  {
   "cell_type": "code",
   "execution_count": 38,
   "id": "24aba029-d165-4645-97f6-bacb60ded270",
   "metadata": {},
   "outputs": [
    {
     "data": {
      "text/html": [
       "<div>\n",
       "<style scoped>\n",
       "    .dataframe tbody tr th:only-of-type {\n",
       "        vertical-align: middle;\n",
       "    }\n",
       "\n",
       "    .dataframe tbody tr th {\n",
       "        vertical-align: top;\n",
       "    }\n",
       "\n",
       "    .dataframe thead th {\n",
       "        text-align: right;\n",
       "    }\n",
       "</style>\n",
       "<table border=\"1\" class=\"dataframe\">\n",
       "  <thead>\n",
       "    <tr style=\"text-align: right;\">\n",
       "      <th></th>\n",
       "      <th>title</th>\n",
       "      <th>selftext</th>\n",
       "      <th>subreddit</th>\n",
       "      <th>created_utc</th>\n",
       "      <th>author</th>\n",
       "      <th>num_comments</th>\n",
       "      <th>score</th>\n",
       "      <th>is_self</th>\n",
       "      <th>timestamp</th>\n",
       "      <th>post</th>\n",
       "      <th>post2</th>\n",
       "      <th>stemmed</th>\n",
       "    </tr>\n",
       "  </thead>\n",
       "  <tbody>\n",
       "    <tr>\n",
       "      <th>0</th>\n",
       "      <td>I am constantly seeing people asking about people’s experiences so I figured now we can go to one place and stop spamming the AMA and ask Reddit’s subs.</td>\n",
       "      <td>For those that have tested positive I hope every single one of you feels better soon!</td>\n",
       "      <td>COVID19positive</td>\n",
       "      <td>1584148032</td>\n",
       "      <td>the1andonlyjoja</td>\n",
       "      <td>191</td>\n",
       "      <td>1</td>\n",
       "      <td>True</td>\n",
       "      <td>2020-03-13 18:07:12</td>\n",
       "      <td>For those that have tested positive I hope every single one of you feels better soon</td>\n",
       "      <td>For tested positive I hope every single one feels better soon</td>\n",
       "      <td>for test posit i hope everi singl one feel better soon</td>\n",
       "    </tr>\n",
       "    <tr>\n",
       "      <th>1</th>\n",
       "      <td>How severe are your guys' symptoms?</td>\n",
       "      <td>I have no idea if I've got the coronavirus, or it's just a cold etc. I've got a runny nose and coughing quite a lot, and a bit of a headache. I don't want to go out in case I do have it and I give it to other people. Are your symptoms debilitating?</td>\n",
       "      <td>COVID19positive</td>\n",
       "      <td>1584358828</td>\n",
       "      <td>RocketFrasier</td>\n",
       "      <td>0</td>\n",
       "      <td>1</td>\n",
       "      <td>True</td>\n",
       "      <td>2020-03-16 04:40:28</td>\n",
       "      <td>I have no idea if I ve got the coronavirus  or it s just a cold etc  I ve got a runny nose and coughing quite a lot  and a bit of a headache  I don t want to go out in case I do have it and I give it to other people  Are your symptoms debilitating</td>\n",
       "      <td>I idea I got coronavirus cold etc I got runny nose coughing quite lot bit headache I want go case I I give people Are symptoms debilitating</td>\n",
       "      <td>i idea i got coronaviru cold etc i got runni nose cough quit lot bit headach i want go case i i give peopl are symptom debilit</td>\n",
       "    </tr>\n",
       "  </tbody>\n",
       "</table>\n",
       "</div>"
      ],
      "text/plain": [
       "                                                                                                                                                      title  \\\n",
       "0  I am constantly seeing people asking about people’s experiences so I figured now we can go to one place and stop spamming the AMA and ask Reddit’s subs.   \n",
       "1                                                                                                                       How severe are your guys' symptoms?   \n",
       "\n",
       "                                                                                                                                                                                                                                                   selftext  \\\n",
       "0                                                                                                                                                                     For those that have tested positive I hope every single one of you feels better soon!   \n",
       "1  I have no idea if I've got the coronavirus, or it's just a cold etc. I've got a runny nose and coughing quite a lot, and a bit of a headache. I don't want to go out in case I do have it and I give it to other people. Are your symptoms debilitating?   \n",
       "\n",
       "         subreddit  created_utc           author  num_comments  score  \\\n",
       "0  COVID19positive   1584148032  the1andonlyjoja           191      1   \n",
       "1  COVID19positive   1584358828    RocketFrasier             0      1   \n",
       "\n",
       "   is_self            timestamp  \\\n",
       "0     True  2020-03-13 18:07:12   \n",
       "1     True  2020-03-16 04:40:28   \n",
       "\n",
       "                                                                                                                                                                                                                                                       post  \\\n",
       "0                                                                                                                                                                      For those that have tested positive I hope every single one of you feels better soon   \n",
       "1  I have no idea if I ve got the coronavirus  or it s just a cold etc  I ve got a runny nose and coughing quite a lot  and a bit of a headache  I don t want to go out in case I do have it and I give it to other people  Are your symptoms debilitating    \n",
       "\n",
       "                                                                                                                                         post2  \\\n",
       "0                                                                                For tested positive I hope every single one feels better soon   \n",
       "1  I idea I got coronavirus cold etc I got runny nose coughing quite lot bit headache I want go case I I give people Are symptoms debilitating   \n",
       "\n",
       "                                                                                                                          stemmed  \n",
       "0                                                                          for test posit i hope everi singl one feel better soon  \n",
       "1  i idea i got coronaviru cold etc i got runni nose cough quit lot bit headach i want go case i i give peopl are symptom debilit  "
      ]
     },
     "execution_count": 38,
     "metadata": {},
     "output_type": "execute_result"
    }
   ],
   "source": [
    "df.head(2)"
   ]
  },
  {
   "cell_type": "code",
   "execution_count": 39,
   "id": "8e5f4496",
   "metadata": {},
   "outputs": [],
   "source": [
    "# save processed data to be used for models\n",
    "df.to_csv('../datasets/text_processed_covid19positive_v2.csv', columns=df.columns, index_label=False)"
   ]
  },
  {
   "cell_type": "code",
   "execution_count": 40,
   "id": "200a7237-050c-4a4a-bc3a-2ae431115784",
   "metadata": {},
   "outputs": [
    {
     "data": {
      "text/html": [
       "<div>\n",
       "<style scoped>\n",
       "    .dataframe tbody tr th:only-of-type {\n",
       "        vertical-align: middle;\n",
       "    }\n",
       "\n",
       "    .dataframe tbody tr th {\n",
       "        vertical-align: top;\n",
       "    }\n",
       "\n",
       "    .dataframe thead th {\n",
       "        text-align: right;\n",
       "    }\n",
       "</style>\n",
       "<table border=\"1\" class=\"dataframe\">\n",
       "  <thead>\n",
       "    <tr style=\"text-align: right;\">\n",
       "      <th></th>\n",
       "      <th>title</th>\n",
       "      <th>selftext</th>\n",
       "      <th>subreddit</th>\n",
       "      <th>created_utc</th>\n",
       "      <th>author</th>\n",
       "      <th>num_comments</th>\n",
       "      <th>score</th>\n",
       "      <th>is_self</th>\n",
       "      <th>timestamp</th>\n",
       "      <th>post</th>\n",
       "      <th>post2</th>\n",
       "      <th>stemmed</th>\n",
       "    </tr>\n",
       "  </thead>\n",
       "  <tbody>\n",
       "    <tr>\n",
       "      <th>0</th>\n",
       "      <td>I am constantly seeing people asking about people’s experiences so I figured now we can go to one place and stop spamming the AMA and ask Reddit’s subs.</td>\n",
       "      <td>For those that have tested positive I hope every single one of you feels better soon!</td>\n",
       "      <td>COVID19positive</td>\n",
       "      <td>1584148032</td>\n",
       "      <td>the1andonlyjoja</td>\n",
       "      <td>191</td>\n",
       "      <td>1</td>\n",
       "      <td>True</td>\n",
       "      <td>2020-03-13 18:07:12</td>\n",
       "      <td>For those that have tested positive I hope every single one of you feels better soon</td>\n",
       "      <td>For tested positive I hope every single one feels better soon</td>\n",
       "      <td>for test posit i hope everi singl one feel better soon</td>\n",
       "    </tr>\n",
       "    <tr>\n",
       "      <th>1</th>\n",
       "      <td>How severe are your guys' symptoms?</td>\n",
       "      <td>I have no idea if I've got the coronavirus, or it's just a cold etc. I've got a runny nose and coughing quite a lot, and a bit of a headache. I don't want to go out in case I do have it and I give it to other people. Are your symptoms debilitating?</td>\n",
       "      <td>COVID19positive</td>\n",
       "      <td>1584358828</td>\n",
       "      <td>RocketFrasier</td>\n",
       "      <td>0</td>\n",
       "      <td>1</td>\n",
       "      <td>True</td>\n",
       "      <td>2020-03-16 04:40:28</td>\n",
       "      <td>I have no idea if I ve got the coronavirus  or it s just a cold etc  I ve got a runny nose and coughing quite a lot  and a bit of a headache  I don t want to go out in case I do have it and I give it to other people  Are your symptoms debilitating</td>\n",
       "      <td>I idea I got coronavirus cold etc I got runny nose coughing quite lot bit headache I want go case I I give people Are symptoms debilitating</td>\n",
       "      <td>i idea i got coronaviru cold etc i got runni nose cough quit lot bit headach i want go case i i give peopl are symptom debilit</td>\n",
       "    </tr>\n",
       "  </tbody>\n",
       "</table>\n",
       "</div>"
      ],
      "text/plain": [
       "                                                                                                                                                      title  \\\n",
       "0  I am constantly seeing people asking about people’s experiences so I figured now we can go to one place and stop spamming the AMA and ask Reddit’s subs.   \n",
       "1                                                                                                                       How severe are your guys' symptoms?   \n",
       "\n",
       "                                                                                                                                                                                                                                                   selftext  \\\n",
       "0                                                                                                                                                                     For those that have tested positive I hope every single one of you feels better soon!   \n",
       "1  I have no idea if I've got the coronavirus, or it's just a cold etc. I've got a runny nose and coughing quite a lot, and a bit of a headache. I don't want to go out in case I do have it and I give it to other people. Are your symptoms debilitating?   \n",
       "\n",
       "         subreddit  created_utc           author  num_comments  score  \\\n",
       "0  COVID19positive   1584148032  the1andonlyjoja           191      1   \n",
       "1  COVID19positive   1584358828    RocketFrasier             0      1   \n",
       "\n",
       "   is_self            timestamp  \\\n",
       "0     True  2020-03-13 18:07:12   \n",
       "1     True  2020-03-16 04:40:28   \n",
       "\n",
       "                                                                                                                                                                                                                                                       post  \\\n",
       "0                                                                                                                                                                      For those that have tested positive I hope every single one of you feels better soon   \n",
       "1  I have no idea if I ve got the coronavirus  or it s just a cold etc  I ve got a runny nose and coughing quite a lot  and a bit of a headache  I don t want to go out in case I do have it and I give it to other people  Are your symptoms debilitating    \n",
       "\n",
       "                                                                                                                                         post2  \\\n",
       "0                                                                                For tested positive I hope every single one feels better soon   \n",
       "1  I idea I got coronavirus cold etc I got runny nose coughing quite lot bit headache I want go case I I give people Are symptoms debilitating   \n",
       "\n",
       "                                                                                                                          stemmed  \n",
       "0                                                                          for test posit i hope everi singl one feel better soon  \n",
       "1  i idea i got coronaviru cold etc i got runni nose cough quit lot bit headach i want go case i i give peopl are symptom debilit  "
      ]
     },
     "execution_count": 40,
     "metadata": {},
     "output_type": "execute_result"
    }
   ],
   "source": [
    "# test the saved df\n",
    "pd.read_csv('../datasets/text_processed_covid19positive_v2.csv').head(2)"
   ]
  },
  {
   "cell_type": "markdown",
   "id": "3e89c63a",
   "metadata": {},
   "source": [
    "### Reduce the post to time duration from March 2020 to March 2021"
   ]
  },
  {
   "cell_type": "code",
   "execution_count": 41,
   "id": "b9930e09",
   "metadata": {},
   "outputs": [
    {
     "data": {
      "text/plain": [
       "0        2020-03-13 18:07:12\n",
       "1        2020-03-16 04:40:28\n",
       "2        2020-03-16 04:42:17\n",
       "3        2020-03-16 09:13:01\n",
       "4        2020-03-16 11:21:49\n",
       "                ...         \n",
       "20613    2021-03-09 15:14:00\n",
       "20614    2021-03-09 15:43:36\n",
       "20615    2021-03-09 16:00:08\n",
       "20616    2021-03-09 16:08:21\n",
       "20617    2021-03-09 16:10:00\n",
       "Name: timestamp, Length: 20618, dtype: object"
      ]
     },
     "execution_count": 41,
     "metadata": {},
     "output_type": "execute_result"
    }
   ],
   "source": [
    "df[ (df['timestamp'] < '2021-03-09 16:20:54') & ( df['timestamp'] > '2020-03-09 16:20:54' ) ]['timestamp']"
   ]
  },
  {
   "cell_type": "markdown",
   "id": "de7e7d95",
   "metadata": {},
   "source": [
    "## Save text-processed doc"
   ]
  },
  {
   "cell_type": "code",
   "execution_count": 42,
   "id": "53dbfd45",
   "metadata": {},
   "outputs": [],
   "source": [
    "# save processed data to be used for models\n",
    "df.to_csv('../datasets/text_processed_covid19positive__Mar2020_Mar2021_v2.csv', columns=df.columns, index_label=False)"
   ]
  },
  {
   "cell_type": "code",
   "execution_count": null,
   "id": "27d35676-b041-4bb5-ae16-55b23ea1b92e",
   "metadata": {},
   "outputs": [],
   "source": []
  }
 ],
 "metadata": {
  "kernelspec": {
   "display_name": "Python 3 (ipykernel)",
   "language": "python",
   "name": "python3"
  },
  "language_info": {
   "codemirror_mode": {
    "name": "ipython",
    "version": 3
   },
   "file_extension": ".py",
   "mimetype": "text/x-python",
   "name": "python",
   "nbconvert_exporter": "python",
   "pygments_lexer": "ipython3",
   "version": "3.9.5"
  }
 },
 "nbformat": 4,
 "nbformat_minor": 5
}
